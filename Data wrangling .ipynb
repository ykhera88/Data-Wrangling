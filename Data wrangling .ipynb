{
 "cells": [
  {
   "cell_type": "markdown",
   "metadata": {},
   "source": [
    "# Data 422\n",
    "\n",
    "Data Wrangling, S2 2019\n",
    "\n",
    "## Assignement 1\n",
    "\n",
    "**20% of final grade** Total marks is **100 marks** (70 for R, 30 for Julia).\n",
    "\n",
    "## Due date: 11am Friday 23 August 2019\n",
    "\n",
    "The assignment must be submitted on the DATA 201 and 422 Learn page and should be **your own work**.\n",
    "\n",
    "### Avoid plagiarism (see this [video on academic plagiarism](https://www.youtube.com/embed/reGGPUrEsC0) ). If you are not sure what may constitute code plagiarism, read this [explanation on source code plagiarism](http://web.science.mq.edu.au/~mtaylor/ponline/index.php?id=source-code-plagiarism). Remember, when in doubt **declare your sources**. \n",
    "\n",
    "If you have any issues that affects your ability to work during the time allocated for the assignement, please DO CONTACT ME. We will find a suitable solution. In general this WON'T be an extension to the deadline (so that in the rest of the semester you are free from preoccupations). Most probably, I will ask you to submit what you have ready by the time the assignment is due, even if it is not everything we required, and I'll take into account special considerations. For any particular problem, please contact [Giulio Dalla Riva](giulio.dallariva@canterbury.ac.nz) or the TAs (using keybase)."
   ]
  },
  {
   "cell_type": "code",
   "execution_count": null,
   "metadata": {},
   "outputs": [],
   "source": [
    "#STUDENT NAME -YUVRAJ KHERA\n",
    "#STUDENT ID - 14217806"
   ]
  },
  {
   "cell_type": "markdown",
   "metadata": {},
   "source": [
    "## Instruction\n",
    "\n",
    "For this assignment you will work with a _.csv_ data-set. Your goal is to read it in, wrangle it, produce some plotting, in order to demonstrate that you are able to use the functions, plotting, and markdown format we have been learning.  \n",
    "You shall hand in your work as a jupyter-lab R notebook (for the R part, and jupyter-lab Julia notebook for the Julia part) comprehending the code, the plots and, **very important**, enough comments and explanations for us to understand what you did, how you did it, and why you did it. Remember: no comments, no marks.  \n",
    "You can either modify this notebook or write a new one from scratch: in that case, clearly indicate which question you are asking at each step. Notice that you may well want to **use more than one cell** per answer (using some cell for the code, some for the text, and so forth)."
   ]
  },
  {
   "cell_type": "markdown",
   "metadata": {},
   "source": [
    "## Comment, explain, present your work in a clear way (we may remove marks for messy notebooks)"
   ]
  },
  {
   "cell_type": "markdown",
   "metadata": {},
   "source": [
    "## R part (overall 70 marks)\n",
    "\n",
    "Do use the tidyverse syntax I introduced in class and labs. If in doubt, refresh the lab material 1 to 4."
   ]
  },
  {
   "cell_type": "markdown",
   "metadata": {},
   "source": [
    "The first thing you may want to do is to load **tidyverse**:"
   ]
  },
  {
   "cell_type": "markdown",
   "metadata": {},
   "source": [
    "importing library tidyverse so can using packages like tibble, readr, ggplot, dplyr, tidyr"
   ]
  },
  {
   "cell_type": "code",
   "execution_count": 1,
   "metadata": {},
   "outputs": [
    {
     "name": "stderr",
     "output_type": "stream",
     "text": [
      "── \u001b[1mAttaching packages\u001b[22m ─────────────────────────────────────── tidyverse 1.2.1 ──\n",
      "\u001b[32m✔\u001b[39m \u001b[34mggplot2\u001b[39m 3.2.1     \u001b[32m✔\u001b[39m \u001b[34mpurrr  \u001b[39m 0.3.2\n",
      "\u001b[32m✔\u001b[39m \u001b[34mtibble \u001b[39m 2.1.3     \u001b[32m✔\u001b[39m \u001b[34mdplyr  \u001b[39m 0.8.3\n",
      "\u001b[32m✔\u001b[39m \u001b[34mtidyr  \u001b[39m 0.8.3     \u001b[32m✔\u001b[39m \u001b[34mstringr\u001b[39m 1.4.0\n",
      "\u001b[32m✔\u001b[39m \u001b[34mreadr  \u001b[39m 1.3.1     \u001b[32m✔\u001b[39m \u001b[34mforcats\u001b[39m 0.4.0\n",
      "── \u001b[1mConflicts\u001b[22m ────────────────────────────────────────── tidyverse_conflicts() ──\n",
      "\u001b[31m✖\u001b[39m \u001b[34mdplyr\u001b[39m::\u001b[32mfilter()\u001b[39m masks \u001b[34mstats\u001b[39m::filter()\n",
      "\u001b[31m✖\u001b[39m \u001b[34mdplyr\u001b[39m::\u001b[32mlag()\u001b[39m    masks \u001b[34mstats\u001b[39m::lag()\n"
     ]
    }
   ],
   "source": [
    "library(tidyverse)"
   ]
  },
  {
   "cell_type": "markdown",
   "metadata": {},
   "source": [
    "### Task (a): import (5 marks)\n",
    "\n",
    "Import the **hour.csv** dataset into R as a dataframe (we'll call it `bike_df`, but you can call it what you want). You can read about the dataset in the file `DataSet_Dictionary.txt`. (Alternatively, you might use your own .csv dataset of choice, but talk with me about it before doing it). \n",
    "\n",
    "Then perform the routine checks about the types of the columns, the missing values, and output a quick summary of the dataset.\n",
    "\n",
    "_hint_ useful functions: `read_csv()`, `glimpse()`  \n",
    "_hint_ useful libraries: `tidyverse`, `readr`, `skimr`, `vis_dat`"
   ]
  },
  {
   "cell_type": "markdown",
   "metadata": {},
   "source": [
    "importing csv using the read_csv function and assgning it to a data frame model called bike_df\n",
    "col_names is a function that indicates if the first row contains \n",
    "column names, if true it doesn't include them in the data frame if false\n",
    "it automatically parses them like it has done below."
   ]
  },
  {
   "cell_type": "code",
   "execution_count": 2,
   "metadata": {},
   "outputs": [
    {
     "name": "stderr",
     "output_type": "stream",
     "text": [
      "Parsed with column specification:\n",
      "cols(\n",
      "  instant = \u001b[32mcol_double()\u001b[39m,\n",
      "  dteday = \u001b[34mcol_date(format = \"\")\u001b[39m,\n",
      "  season = \u001b[32mcol_double()\u001b[39m,\n",
      "  yr = \u001b[32mcol_double()\u001b[39m,\n",
      "  mnth = \u001b[32mcol_double()\u001b[39m,\n",
      "  hr = \u001b[32mcol_double()\u001b[39m,\n",
      "  holiday = \u001b[32mcol_double()\u001b[39m,\n",
      "  weekday = \u001b[32mcol_double()\u001b[39m,\n",
      "  workingday = \u001b[32mcol_double()\u001b[39m,\n",
      "  weathersit = \u001b[32mcol_double()\u001b[39m,\n",
      "  temp = \u001b[32mcol_double()\u001b[39m,\n",
      "  atemp = \u001b[32mcol_double()\u001b[39m,\n",
      "  hum = \u001b[32mcol_double()\u001b[39m,\n",
      "  windspeed = \u001b[32mcol_double()\u001b[39m,\n",
      "  casual = \u001b[32mcol_double()\u001b[39m,\n",
      "  registered = \u001b[32mcol_double()\u001b[39m,\n",
      "  cnt = \u001b[32mcol_double()\u001b[39m\n",
      ")\n"
     ]
    }
   ],
   "source": [
    "bike_df = read_csv(\"hour.csv\", col_names = TRUE)"
   ]
  },
  {
   "cell_type": "markdown",
   "metadata": {},
   "source": [
    "checking if the csv has been imported as a data frame using the class function "
   ]
  },
  {
   "cell_type": "code",
   "execution_count": 4,
   "metadata": {},
   "outputs": [
    {
     "data": {
      "text/html": [
       "<ol class=list-inline>\n",
       "\t<li>'spec_tbl_df'</li>\n",
       "\t<li>'tbl_df'</li>\n",
       "\t<li>'tbl'</li>\n",
       "\t<li>'data.frame'</li>\n",
       "</ol>\n"
      ],
      "text/latex": [
       "\\begin{enumerate*}\n",
       "\\item 'spec\\_tbl\\_df'\n",
       "\\item 'tbl\\_df'\n",
       "\\item 'tbl'\n",
       "\\item 'data.frame'\n",
       "\\end{enumerate*}\n"
      ],
      "text/markdown": [
       "1. 'spec_tbl_df'\n",
       "2. 'tbl_df'\n",
       "3. 'tbl'\n",
       "4. 'data.frame'\n",
       "\n",
       "\n"
      ],
      "text/plain": [
       "[1] \"spec_tbl_df\" \"tbl_df\"      \"tbl\"         \"data.frame\" "
      ]
     },
     "metadata": {},
     "output_type": "display_data"
    }
   ],
   "source": [
    "bike_df %>%\n",
    "class()"
   ]
  },
  {
   "cell_type": "markdown",
   "metadata": {},
   "source": [
    "checking the number of rows in the dataframe using now()"
   ]
  },
  {
   "cell_type": "code",
   "execution_count": 5,
   "metadata": {},
   "outputs": [
    {
     "data": {
      "text/html": [
       "17379"
      ],
      "text/latex": [
       "17379"
      ],
      "text/markdown": [
       "17379"
      ],
      "text/plain": [
       "[1] 17379"
      ]
     },
     "metadata": {},
     "output_type": "display_data"
    }
   ],
   "source": [
    "bike_df %>% nrow()"
   ]
  },
  {
   "cell_type": "markdown",
   "metadata": {},
   "source": [
    "checking the number of columns in the data frame ncol()"
   ]
  },
  {
   "cell_type": "code",
   "execution_count": 6,
   "metadata": {},
   "outputs": [
    {
     "data": {
      "text/html": [
       "17"
      ],
      "text/latex": [
       "17"
      ],
      "text/markdown": [
       "17"
      ],
      "text/plain": [
       "[1] 17"
      ]
     },
     "metadata": {},
     "output_type": "display_data"
    }
   ],
   "source": [
    "bike_df %>% ncol()"
   ]
  },
  {
   "cell_type": "markdown",
   "metadata": {},
   "source": [
    "the glimpse function below shows the number of observations i.e the rows and \n",
    "number of variable i.e number of columns in the data set,\n",
    "also it shows the data type such as double, date etc . Also it shows some of the values in the data."
   ]
  },
  {
   "cell_type": "code",
   "execution_count": 7,
   "metadata": {},
   "outputs": [
    {
     "name": "stdout",
     "output_type": "stream",
     "text": [
      "Observations: 17,379\n",
      "Variables: 17\n",
      "$ instant    \u001b[3m\u001b[38;5;246m<dbl>\u001b[39m\u001b[23m 1, 2, 3, 4, 5, 6, 7, 8, 9, 10, 11, 12, 13, 14, 15, 16, 17,…\n",
      "$ dteday     \u001b[3m\u001b[38;5;246m<date>\u001b[39m\u001b[23m 2011-01-01, 2011-01-01, 2011-01-01, 2011-01-01, 2011-01-0…\n",
      "$ season     \u001b[3m\u001b[38;5;246m<dbl>\u001b[39m\u001b[23m 1, 1, 1, 1, 1, 1, 1, 1, 1, 1, 1, 1, 1, 1, 1, 1, 1, 1, 1, 1…\n",
      "$ yr         \u001b[3m\u001b[38;5;246m<dbl>\u001b[39m\u001b[23m 0, 0, 0, 0, 0, 0, 0, 0, 0, 0, 0, 0, 0, 0, 0, 0, 0, 0, 0, 0…\n",
      "$ mnth       \u001b[3m\u001b[38;5;246m<dbl>\u001b[39m\u001b[23m 1, 1, 1, 1, 1, 1, 1, 1, 1, 1, 1, 1, 1, 1, 1, 1, 1, 1, 1, 1…\n",
      "$ hr         \u001b[3m\u001b[38;5;246m<dbl>\u001b[39m\u001b[23m 0, 1, 2, 3, 4, 5, 6, 7, 8, 9, 10, 11, 12, 13, 14, 15, 16, …\n",
      "$ holiday    \u001b[3m\u001b[38;5;246m<dbl>\u001b[39m\u001b[23m 0, 0, 0, 0, 0, 0, 0, 0, 0, 0, 0, 0, 0, 0, 0, 0, 0, 0, 0, 0…\n",
      "$ weekday    \u001b[3m\u001b[38;5;246m<dbl>\u001b[39m\u001b[23m 6, 6, 6, 6, 6, 6, 6, 6, 6, 6, 6, 6, 6, 6, 6, 6, 6, 6, 6, 6…\n",
      "$ workingday \u001b[3m\u001b[38;5;246m<dbl>\u001b[39m\u001b[23m 0, 0, 0, 0, 0, 0, 0, 0, 0, 0, 0, 0, 0, 0, 0, 0, 0, 0, 0, 0…\n",
      "$ weathersit \u001b[3m\u001b[38;5;246m<dbl>\u001b[39m\u001b[23m 1, 1, 1, 1, 1, 2, 1, 1, 1, 1, 1, 1, 1, 2, 2, 2, 2, 2, 3, 3…\n",
      "$ temp       \u001b[3m\u001b[38;5;246m<dbl>\u001b[39m\u001b[23m 0.24, 0.22, 0.22, 0.24, 0.24, 0.24, 0.22, 0.20, 0.24, 0.32…\n",
      "$ atemp      \u001b[3m\u001b[38;5;246m<dbl>\u001b[39m\u001b[23m 0.2879, 0.2727, 0.2727, 0.2879, 0.2879, 0.2576, 0.2727, 0.…\n",
      "$ hum        \u001b[3m\u001b[38;5;246m<dbl>\u001b[39m\u001b[23m 0.81, 0.80, 0.80, 0.75, 0.75, 0.75, 0.80, 0.86, 0.75, 0.76…\n",
      "$ windspeed  \u001b[3m\u001b[38;5;246m<dbl>\u001b[39m\u001b[23m 0.0000, 0.0000, 0.0000, 0.0000, 0.0000, 0.0896, 0.0000, 0.…\n",
      "$ casual     \u001b[3m\u001b[38;5;246m<dbl>\u001b[39m\u001b[23m 3, 8, 5, 3, 0, 0, 2, 1, 1, 8, 12, 26, 29, 47, 35, 40, 41, …\n",
      "$ registered \u001b[3m\u001b[38;5;246m<dbl>\u001b[39m\u001b[23m 13, 32, 27, 10, 1, 1, 0, 2, 7, 6, 24, 30, 55, 47, 71, 70, …\n",
      "$ cnt        \u001b[3m\u001b[38;5;246m<dbl>\u001b[39m\u001b[23m 16, 40, 32, 13, 1, 1, 2, 3, 8, 14, 36, 56, 84, 94, 106, 11…\n"
     ]
    }
   ],
   "source": [
    "bike_df %>% glimpse()"
   ]
  },
  {
   "cell_type": "markdown",
   "metadata": {},
   "source": [
    "head function allows you to see the top 6 rows in the data set"
   ]
  },
  {
   "cell_type": "code",
   "execution_count": 7,
   "metadata": {},
   "outputs": [
    {
     "data": {
      "text/html": [
       "<table>\n",
       "<caption>A tibble: 6 × 17</caption>\n",
       "<thead>\n",
       "\t<tr><th scope=col>instant</th><th scope=col>dteday</th><th scope=col>season</th><th scope=col>yr</th><th scope=col>mnth</th><th scope=col>hr</th><th scope=col>holiday</th><th scope=col>weekday</th><th scope=col>workingday</th><th scope=col>weathersit</th><th scope=col>temp</th><th scope=col>atemp</th><th scope=col>hum</th><th scope=col>windspeed</th><th scope=col>casual</th><th scope=col>registered</th><th scope=col>cnt</th></tr>\n",
       "\t<tr><th scope=col>&lt;dbl&gt;</th><th scope=col>&lt;date&gt;</th><th scope=col>&lt;dbl&gt;</th><th scope=col>&lt;dbl&gt;</th><th scope=col>&lt;dbl&gt;</th><th scope=col>&lt;dbl&gt;</th><th scope=col>&lt;dbl&gt;</th><th scope=col>&lt;dbl&gt;</th><th scope=col>&lt;dbl&gt;</th><th scope=col>&lt;dbl&gt;</th><th scope=col>&lt;dbl&gt;</th><th scope=col>&lt;dbl&gt;</th><th scope=col>&lt;dbl&gt;</th><th scope=col>&lt;dbl&gt;</th><th scope=col>&lt;dbl&gt;</th><th scope=col>&lt;dbl&gt;</th><th scope=col>&lt;dbl&gt;</th></tr>\n",
       "</thead>\n",
       "<tbody>\n",
       "\t<tr><td>1</td><td>2011-01-01</td><td>1</td><td>0</td><td>1</td><td>0</td><td>0</td><td>6</td><td>0</td><td>1</td><td>0.24</td><td>0.2879</td><td>0.81</td><td>0.0000</td><td>3</td><td>13</td><td>16</td></tr>\n",
       "\t<tr><td>2</td><td>2011-01-01</td><td>1</td><td>0</td><td>1</td><td>1</td><td>0</td><td>6</td><td>0</td><td>1</td><td>0.22</td><td>0.2727</td><td>0.80</td><td>0.0000</td><td>8</td><td>32</td><td>40</td></tr>\n",
       "\t<tr><td>3</td><td>2011-01-01</td><td>1</td><td>0</td><td>1</td><td>2</td><td>0</td><td>6</td><td>0</td><td>1</td><td>0.22</td><td>0.2727</td><td>0.80</td><td>0.0000</td><td>5</td><td>27</td><td>32</td></tr>\n",
       "\t<tr><td>4</td><td>2011-01-01</td><td>1</td><td>0</td><td>1</td><td>3</td><td>0</td><td>6</td><td>0</td><td>1</td><td>0.24</td><td>0.2879</td><td>0.75</td><td>0.0000</td><td>3</td><td>10</td><td>13</td></tr>\n",
       "\t<tr><td>5</td><td>2011-01-01</td><td>1</td><td>0</td><td>1</td><td>4</td><td>0</td><td>6</td><td>0</td><td>1</td><td>0.24</td><td>0.2879</td><td>0.75</td><td>0.0000</td><td>0</td><td> 1</td><td> 1</td></tr>\n",
       "\t<tr><td>6</td><td>2011-01-01</td><td>1</td><td>0</td><td>1</td><td>5</td><td>0</td><td>6</td><td>0</td><td>2</td><td>0.24</td><td>0.2576</td><td>0.75</td><td>0.0896</td><td>0</td><td> 1</td><td> 1</td></tr>\n",
       "</tbody>\n",
       "</table>\n"
      ],
      "text/latex": [
       "A tibble: 6 × 17\n",
       "\\begin{tabular}{r|lllllllllllllllll}\n",
       " instant & dteday & season & yr & mnth & hr & holiday & weekday & workingday & weathersit & temp & atemp & hum & windspeed & casual & registered & cnt\\\\\n",
       " <dbl> & <date> & <dbl> & <dbl> & <dbl> & <dbl> & <dbl> & <dbl> & <dbl> & <dbl> & <dbl> & <dbl> & <dbl> & <dbl> & <dbl> & <dbl> & <dbl>\\\\\n",
       "\\hline\n",
       "\t 1 & 2011-01-01 & 1 & 0 & 1 & 0 & 0 & 6 & 0 & 1 & 0.24 & 0.2879 & 0.81 & 0.0000 & 3 & 13 & 16\\\\\n",
       "\t 2 & 2011-01-01 & 1 & 0 & 1 & 1 & 0 & 6 & 0 & 1 & 0.22 & 0.2727 & 0.80 & 0.0000 & 8 & 32 & 40\\\\\n",
       "\t 3 & 2011-01-01 & 1 & 0 & 1 & 2 & 0 & 6 & 0 & 1 & 0.22 & 0.2727 & 0.80 & 0.0000 & 5 & 27 & 32\\\\\n",
       "\t 4 & 2011-01-01 & 1 & 0 & 1 & 3 & 0 & 6 & 0 & 1 & 0.24 & 0.2879 & 0.75 & 0.0000 & 3 & 10 & 13\\\\\n",
       "\t 5 & 2011-01-01 & 1 & 0 & 1 & 4 & 0 & 6 & 0 & 1 & 0.24 & 0.2879 & 0.75 & 0.0000 & 0 &  1 &  1\\\\\n",
       "\t 6 & 2011-01-01 & 1 & 0 & 1 & 5 & 0 & 6 & 0 & 2 & 0.24 & 0.2576 & 0.75 & 0.0896 & 0 &  1 &  1\\\\\n",
       "\\end{tabular}\n"
      ],
      "text/markdown": [
       "\n",
       "A tibble: 6 × 17\n",
       "\n",
       "| instant &lt;dbl&gt; | dteday &lt;date&gt; | season &lt;dbl&gt; | yr &lt;dbl&gt; | mnth &lt;dbl&gt; | hr &lt;dbl&gt; | holiday &lt;dbl&gt; | weekday &lt;dbl&gt; | workingday &lt;dbl&gt; | weathersit &lt;dbl&gt; | temp &lt;dbl&gt; | atemp &lt;dbl&gt; | hum &lt;dbl&gt; | windspeed &lt;dbl&gt; | casual &lt;dbl&gt; | registered &lt;dbl&gt; | cnt &lt;dbl&gt; |\n",
       "|---|---|---|---|---|---|---|---|---|---|---|---|---|---|---|---|---|\n",
       "| 1 | 2011-01-01 | 1 | 0 | 1 | 0 | 0 | 6 | 0 | 1 | 0.24 | 0.2879 | 0.81 | 0.0000 | 3 | 13 | 16 |\n",
       "| 2 | 2011-01-01 | 1 | 0 | 1 | 1 | 0 | 6 | 0 | 1 | 0.22 | 0.2727 | 0.80 | 0.0000 | 8 | 32 | 40 |\n",
       "| 3 | 2011-01-01 | 1 | 0 | 1 | 2 | 0 | 6 | 0 | 1 | 0.22 | 0.2727 | 0.80 | 0.0000 | 5 | 27 | 32 |\n",
       "| 4 | 2011-01-01 | 1 | 0 | 1 | 3 | 0 | 6 | 0 | 1 | 0.24 | 0.2879 | 0.75 | 0.0000 | 3 | 10 | 13 |\n",
       "| 5 | 2011-01-01 | 1 | 0 | 1 | 4 | 0 | 6 | 0 | 1 | 0.24 | 0.2879 | 0.75 | 0.0000 | 0 |  1 |  1 |\n",
       "| 6 | 2011-01-01 | 1 | 0 | 1 | 5 | 0 | 6 | 0 | 2 | 0.24 | 0.2576 | 0.75 | 0.0896 | 0 |  1 |  1 |\n",
       "\n"
      ],
      "text/plain": [
       "  instant dteday     season yr mnth hr holiday weekday workingday weathersit\n",
       "1 1       2011-01-01 1      0  1    0  0       6       0          1         \n",
       "2 2       2011-01-01 1      0  1    1  0       6       0          1         \n",
       "3 3       2011-01-01 1      0  1    2  0       6       0          1         \n",
       "4 4       2011-01-01 1      0  1    3  0       6       0          1         \n",
       "5 5       2011-01-01 1      0  1    4  0       6       0          1         \n",
       "6 6       2011-01-01 1      0  1    5  0       6       0          2         \n",
       "  temp atemp  hum  windspeed casual registered cnt\n",
       "1 0.24 0.2879 0.81 0.0000    3      13         16 \n",
       "2 0.22 0.2727 0.80 0.0000    8      32         40 \n",
       "3 0.22 0.2727 0.80 0.0000    5      27         32 \n",
       "4 0.24 0.2879 0.75 0.0000    3      10         13 \n",
       "5 0.24 0.2879 0.75 0.0000    0       1          1 \n",
       "6 0.24 0.2576 0.75 0.0896    0       1          1 "
      ]
     },
     "metadata": {},
     "output_type": "display_data"
    }
   ],
   "source": [
    "bike_df %>% head()"
   ]
  },
  {
   "cell_type": "markdown",
   "metadata": {},
   "source": [
    "tail function allows you to see the bottom 6 rows in the data set"
   ]
  },
  {
   "cell_type": "code",
   "execution_count": 8,
   "metadata": {},
   "outputs": [
    {
     "data": {
      "text/html": [
       "<table>\n",
       "<caption>A tibble: 6 × 17</caption>\n",
       "<thead>\n",
       "\t<tr><th scope=col>instant</th><th scope=col>dteday</th><th scope=col>season</th><th scope=col>yr</th><th scope=col>mnth</th><th scope=col>hr</th><th scope=col>holiday</th><th scope=col>weekday</th><th scope=col>workingday</th><th scope=col>weathersit</th><th scope=col>temp</th><th scope=col>atemp</th><th scope=col>hum</th><th scope=col>windspeed</th><th scope=col>casual</th><th scope=col>registered</th><th scope=col>cnt</th></tr>\n",
       "\t<tr><th scope=col>&lt;dbl&gt;</th><th scope=col>&lt;date&gt;</th><th scope=col>&lt;dbl&gt;</th><th scope=col>&lt;dbl&gt;</th><th scope=col>&lt;dbl&gt;</th><th scope=col>&lt;dbl&gt;</th><th scope=col>&lt;dbl&gt;</th><th scope=col>&lt;dbl&gt;</th><th scope=col>&lt;dbl&gt;</th><th scope=col>&lt;dbl&gt;</th><th scope=col>&lt;dbl&gt;</th><th scope=col>&lt;dbl&gt;</th><th scope=col>&lt;dbl&gt;</th><th scope=col>&lt;dbl&gt;</th><th scope=col>&lt;dbl&gt;</th><th scope=col>&lt;dbl&gt;</th><th scope=col>&lt;dbl&gt;</th></tr>\n",
       "</thead>\n",
       "<tbody>\n",
       "\t<tr><td>17374</td><td>2012-12-31</td><td>1</td><td>1</td><td>12</td><td>18</td><td>0</td><td>1</td><td>1</td><td>2</td><td>0.26</td><td>0.2727</td><td>0.48</td><td>0.1343</td><td>10</td><td>112</td><td>122</td></tr>\n",
       "\t<tr><td>17375</td><td>2012-12-31</td><td>1</td><td>1</td><td>12</td><td>19</td><td>0</td><td>1</td><td>1</td><td>2</td><td>0.26</td><td>0.2576</td><td>0.60</td><td>0.1642</td><td>11</td><td>108</td><td>119</td></tr>\n",
       "\t<tr><td>17376</td><td>2012-12-31</td><td>1</td><td>1</td><td>12</td><td>20</td><td>0</td><td>1</td><td>1</td><td>2</td><td>0.26</td><td>0.2576</td><td>0.60</td><td>0.1642</td><td> 8</td><td> 81</td><td> 89</td></tr>\n",
       "\t<tr><td>17377</td><td>2012-12-31</td><td>1</td><td>1</td><td>12</td><td>21</td><td>0</td><td>1</td><td>1</td><td>1</td><td>0.26</td><td>0.2576</td><td>0.60</td><td>0.1642</td><td> 7</td><td> 83</td><td> 90</td></tr>\n",
       "\t<tr><td>17378</td><td>2012-12-31</td><td>1</td><td>1</td><td>12</td><td>22</td><td>0</td><td>1</td><td>1</td><td>1</td><td>0.26</td><td>0.2727</td><td>0.56</td><td>0.1343</td><td>13</td><td> 48</td><td> 61</td></tr>\n",
       "\t<tr><td>17379</td><td>2012-12-31</td><td>1</td><td>1</td><td>12</td><td>23</td><td>0</td><td>1</td><td>1</td><td>1</td><td>0.26</td><td>0.2727</td><td>0.65</td><td>0.1343</td><td>12</td><td> 37</td><td> 49</td></tr>\n",
       "</tbody>\n",
       "</table>\n"
      ],
      "text/latex": [
       "A tibble: 6 × 17\n",
       "\\begin{tabular}{r|lllllllllllllllll}\n",
       " instant & dteday & season & yr & mnth & hr & holiday & weekday & workingday & weathersit & temp & atemp & hum & windspeed & casual & registered & cnt\\\\\n",
       " <dbl> & <date> & <dbl> & <dbl> & <dbl> & <dbl> & <dbl> & <dbl> & <dbl> & <dbl> & <dbl> & <dbl> & <dbl> & <dbl> & <dbl> & <dbl> & <dbl>\\\\\n",
       "\\hline\n",
       "\t 17374 & 2012-12-31 & 1 & 1 & 12 & 18 & 0 & 1 & 1 & 2 & 0.26 & 0.2727 & 0.48 & 0.1343 & 10 & 112 & 122\\\\\n",
       "\t 17375 & 2012-12-31 & 1 & 1 & 12 & 19 & 0 & 1 & 1 & 2 & 0.26 & 0.2576 & 0.60 & 0.1642 & 11 & 108 & 119\\\\\n",
       "\t 17376 & 2012-12-31 & 1 & 1 & 12 & 20 & 0 & 1 & 1 & 2 & 0.26 & 0.2576 & 0.60 & 0.1642 &  8 &  81 &  89\\\\\n",
       "\t 17377 & 2012-12-31 & 1 & 1 & 12 & 21 & 0 & 1 & 1 & 1 & 0.26 & 0.2576 & 0.60 & 0.1642 &  7 &  83 &  90\\\\\n",
       "\t 17378 & 2012-12-31 & 1 & 1 & 12 & 22 & 0 & 1 & 1 & 1 & 0.26 & 0.2727 & 0.56 & 0.1343 & 13 &  48 &  61\\\\\n",
       "\t 17379 & 2012-12-31 & 1 & 1 & 12 & 23 & 0 & 1 & 1 & 1 & 0.26 & 0.2727 & 0.65 & 0.1343 & 12 &  37 &  49\\\\\n",
       "\\end{tabular}\n"
      ],
      "text/markdown": [
       "\n",
       "A tibble: 6 × 17\n",
       "\n",
       "| instant &lt;dbl&gt; | dteday &lt;date&gt; | season &lt;dbl&gt; | yr &lt;dbl&gt; | mnth &lt;dbl&gt; | hr &lt;dbl&gt; | holiday &lt;dbl&gt; | weekday &lt;dbl&gt; | workingday &lt;dbl&gt; | weathersit &lt;dbl&gt; | temp &lt;dbl&gt; | atemp &lt;dbl&gt; | hum &lt;dbl&gt; | windspeed &lt;dbl&gt; | casual &lt;dbl&gt; | registered &lt;dbl&gt; | cnt &lt;dbl&gt; |\n",
       "|---|---|---|---|---|---|---|---|---|---|---|---|---|---|---|---|---|\n",
       "| 17374 | 2012-12-31 | 1 | 1 | 12 | 18 | 0 | 1 | 1 | 2 | 0.26 | 0.2727 | 0.48 | 0.1343 | 10 | 112 | 122 |\n",
       "| 17375 | 2012-12-31 | 1 | 1 | 12 | 19 | 0 | 1 | 1 | 2 | 0.26 | 0.2576 | 0.60 | 0.1642 | 11 | 108 | 119 |\n",
       "| 17376 | 2012-12-31 | 1 | 1 | 12 | 20 | 0 | 1 | 1 | 2 | 0.26 | 0.2576 | 0.60 | 0.1642 |  8 |  81 |  89 |\n",
       "| 17377 | 2012-12-31 | 1 | 1 | 12 | 21 | 0 | 1 | 1 | 1 | 0.26 | 0.2576 | 0.60 | 0.1642 |  7 |  83 |  90 |\n",
       "| 17378 | 2012-12-31 | 1 | 1 | 12 | 22 | 0 | 1 | 1 | 1 | 0.26 | 0.2727 | 0.56 | 0.1343 | 13 |  48 |  61 |\n",
       "| 17379 | 2012-12-31 | 1 | 1 | 12 | 23 | 0 | 1 | 1 | 1 | 0.26 | 0.2727 | 0.65 | 0.1343 | 12 |  37 |  49 |\n",
       "\n"
      ],
      "text/plain": [
       "  instant dteday     season yr mnth hr holiday weekday workingday weathersit\n",
       "1 17374   2012-12-31 1      1  12   18 0       1       1          2         \n",
       "2 17375   2012-12-31 1      1  12   19 0       1       1          2         \n",
       "3 17376   2012-12-31 1      1  12   20 0       1       1          2         \n",
       "4 17377   2012-12-31 1      1  12   21 0       1       1          1         \n",
       "5 17378   2012-12-31 1      1  12   22 0       1       1          1         \n",
       "6 17379   2012-12-31 1      1  12   23 0       1       1          1         \n",
       "  temp atemp  hum  windspeed casual registered cnt\n",
       "1 0.26 0.2727 0.48 0.1343    10     112        122\n",
       "2 0.26 0.2576 0.60 0.1642    11     108        119\n",
       "3 0.26 0.2576 0.60 0.1642     8      81         89\n",
       "4 0.26 0.2576 0.60 0.1642     7      83         90\n",
       "5 0.26 0.2727 0.56 0.1343    13      48         61\n",
       "6 0.26 0.2727 0.65 0.1343    12      37         49"
      ]
     },
     "metadata": {},
     "output_type": "display_data"
    }
   ],
   "source": [
    "bike_df %>% tail()"
   ]
  },
  {
   "cell_type": "markdown",
   "metadata": {},
   "source": [
    "calling library skimr"
   ]
  },
  {
   "cell_type": "code",
   "execution_count": 9,
   "metadata": {},
   "outputs": [
    {
     "name": "stderr",
     "output_type": "stream",
     "text": [
      "\n",
      "Attaching package: ‘skimr’\n",
      "\n",
      "The following object is masked from ‘package:stats’:\n",
      "\n",
      "    filter\n",
      "\n"
     ]
    }
   ],
   "source": [
    "library(skimr)"
   ]
  },
  {
   "cell_type": "markdown",
   "metadata": {},
   "source": [
    "This gives us a lot of information in a very long data frame not that easliy \n",
    "understandable but watchout in the next step skim has a nifty function "
   ]
  },
  {
   "cell_type": "code",
   "execution_count": 10,
   "metadata": {},
   "outputs": [
    {
     "data": {
      "text/html": [
       "<table>\n",
       "<caption>A skim_df: 183 × 6</caption>\n",
       "<thead>\n",
       "\t<tr><th scope=col>variable</th><th scope=col>type</th><th scope=col>stat</th><th scope=col>level</th><th scope=col>value</th><th scope=col>formatted</th></tr>\n",
       "\t<tr><th scope=col>&lt;chr&gt;</th><th scope=col>&lt;chr&gt;</th><th scope=col>&lt;chr&gt;</th><th scope=col>&lt;chr&gt;</th><th scope=col>&lt;dbl&gt;</th><th scope=col>&lt;chr&gt;</th></tr>\n",
       "</thead>\n",
       "<tbody>\n",
       "\t<tr><td>instant</td><td>numeric</td><td>missing </td><td>.all</td><td>    0.000000</td><td>0         </td></tr>\n",
       "\t<tr><td>instant</td><td>numeric</td><td>complete</td><td>.all</td><td>17379.000000</td><td>17379     </td></tr>\n",
       "\t<tr><td>instant</td><td>numeric</td><td>n       </td><td>.all</td><td>17379.000000</td><td>17379     </td></tr>\n",
       "\t<tr><td>instant</td><td>numeric</td><td>mean    </td><td>.all</td><td> 8690.000000</td><td>8690      </td></tr>\n",
       "\t<tr><td>instant</td><td>numeric</td><td>sd      </td><td>.all</td><td> 5017.029500</td><td>5017.03   </td></tr>\n",
       "\t<tr><td>instant</td><td>numeric</td><td>p0      </td><td>.all</td><td>    1.000000</td><td>1         </td></tr>\n",
       "\t<tr><td>instant</td><td>numeric</td><td>p25     </td><td>.all</td><td> 4345.500000</td><td>4345.5    </td></tr>\n",
       "\t<tr><td>instant</td><td>numeric</td><td>p50     </td><td>.all</td><td> 8690.000000</td><td>8690      </td></tr>\n",
       "\t<tr><td>instant</td><td>numeric</td><td>p75     </td><td>.all</td><td>13034.500000</td><td>13034.5   </td></tr>\n",
       "\t<tr><td>instant</td><td>numeric</td><td>p100    </td><td>.all</td><td>17379.000000</td><td>17379     </td></tr>\n",
       "\t<tr><td>instant</td><td>numeric</td><td>hist    </td><td>.all</td><td>          NA</td><td>▇▇▇▇▇▇▇▇  </td></tr>\n",
       "\t<tr><td>dteday </td><td>Date   </td><td>missing </td><td>.all</td><td>    0.000000</td><td>0         </td></tr>\n",
       "\t<tr><td>dteday </td><td>Date   </td><td>complete</td><td>.all</td><td>17379.000000</td><td>17379     </td></tr>\n",
       "\t<tr><td>dteday </td><td>Date   </td><td>n       </td><td>.all</td><td>17379.000000</td><td>17379     </td></tr>\n",
       "\t<tr><td>dteday </td><td>Date   </td><td>min     </td><td>.all</td><td>14975.000000</td><td>2011-01-01</td></tr>\n",
       "\t<tr><td>dteday </td><td>Date   </td><td>max     </td><td>.all</td><td>15705.000000</td><td>2012-12-31</td></tr>\n",
       "\t<tr><td>dteday </td><td>Date   </td><td>median  </td><td>.all</td><td>15341.000000</td><td>2012-01-02</td></tr>\n",
       "\t<tr><td>dteday </td><td>Date   </td><td>n_unique</td><td>.all</td><td>  731.000000</td><td>731       </td></tr>\n",
       "\t<tr><td>season </td><td>numeric</td><td>missing </td><td>.all</td><td>    0.000000</td><td>0         </td></tr>\n",
       "\t<tr><td>season </td><td>numeric</td><td>complete</td><td>.all</td><td>17379.000000</td><td>17379     </td></tr>\n",
       "\t<tr><td>season </td><td>numeric</td><td>n       </td><td>.all</td><td>17379.000000</td><td>17379     </td></tr>\n",
       "\t<tr><td>season </td><td>numeric</td><td>mean    </td><td>.all</td><td>    2.501640</td><td>2.5       </td></tr>\n",
       "\t<tr><td>season </td><td>numeric</td><td>sd      </td><td>.all</td><td>    1.106918</td><td>1.11      </td></tr>\n",
       "\t<tr><td>season </td><td>numeric</td><td>p0      </td><td>.all</td><td>    1.000000</td><td>1         </td></tr>\n",
       "\t<tr><td>season </td><td>numeric</td><td>p25     </td><td>.all</td><td>    2.000000</td><td>2         </td></tr>\n",
       "\t<tr><td>season </td><td>numeric</td><td>p50     </td><td>.all</td><td>    3.000000</td><td>3         </td></tr>\n",
       "\t<tr><td>season </td><td>numeric</td><td>p75     </td><td>.all</td><td>    3.000000</td><td>3         </td></tr>\n",
       "\t<tr><td>season </td><td>numeric</td><td>p100    </td><td>.all</td><td>    4.000000</td><td>4         </td></tr>\n",
       "\t<tr><td>season </td><td>numeric</td><td>hist    </td><td>.all</td><td>          NA</td><td>▇▁▇▁▁▇▁▇  </td></tr>\n",
       "\t<tr><td>yr     </td><td>numeric</td><td>missing </td><td>.all</td><td>    0.000000</td><td>0         </td></tr>\n",
       "\t<tr><td>⋮</td><td>⋮</td><td>⋮</td><td>⋮</td><td>⋮</td><td>⋮</td></tr>\n",
       "\t<tr><td>casual    </td><td>numeric</td><td>mean    </td><td>.all</td><td>   35.67622</td><td>35.68   </td></tr>\n",
       "\t<tr><td>casual    </td><td>numeric</td><td>sd      </td><td>.all</td><td>   49.30503</td><td>49.31   </td></tr>\n",
       "\t<tr><td>casual    </td><td>numeric</td><td>p0      </td><td>.all</td><td>    0.00000</td><td>0       </td></tr>\n",
       "\t<tr><td>casual    </td><td>numeric</td><td>p25     </td><td>.all</td><td>    4.00000</td><td>4       </td></tr>\n",
       "\t<tr><td>casual    </td><td>numeric</td><td>p50     </td><td>.all</td><td>   17.00000</td><td>17      </td></tr>\n",
       "\t<tr><td>casual    </td><td>numeric</td><td>p75     </td><td>.all</td><td>   48.00000</td><td>48      </td></tr>\n",
       "\t<tr><td>casual    </td><td>numeric</td><td>p100    </td><td>.all</td><td>  367.00000</td><td>367     </td></tr>\n",
       "\t<tr><td>casual    </td><td>numeric</td><td>hist    </td><td>.all</td><td>         NA</td><td>▇▂▁▁▁▁▁▁</td></tr>\n",
       "\t<tr><td>registered</td><td>numeric</td><td>missing </td><td>.all</td><td>    0.00000</td><td>0       </td></tr>\n",
       "\t<tr><td>registered</td><td>numeric</td><td>complete</td><td>.all</td><td>17379.00000</td><td>17379   </td></tr>\n",
       "\t<tr><td>registered</td><td>numeric</td><td>n       </td><td>.all</td><td>17379.00000</td><td>17379   </td></tr>\n",
       "\t<tr><td>registered</td><td>numeric</td><td>mean    </td><td>.all</td><td>  153.78687</td><td>153.79  </td></tr>\n",
       "\t<tr><td>registered</td><td>numeric</td><td>sd      </td><td>.all</td><td>  151.35729</td><td>151.36  </td></tr>\n",
       "\t<tr><td>registered</td><td>numeric</td><td>p0      </td><td>.all</td><td>    0.00000</td><td>0       </td></tr>\n",
       "\t<tr><td>registered</td><td>numeric</td><td>p25     </td><td>.all</td><td>   34.00000</td><td>34      </td></tr>\n",
       "\t<tr><td>registered</td><td>numeric</td><td>p50     </td><td>.all</td><td>  115.00000</td><td>115     </td></tr>\n",
       "\t<tr><td>registered</td><td>numeric</td><td>p75     </td><td>.all</td><td>  220.00000</td><td>220     </td></tr>\n",
       "\t<tr><td>registered</td><td>numeric</td><td>p100    </td><td>.all</td><td>  886.00000</td><td>886     </td></tr>\n",
       "\t<tr><td>registered</td><td>numeric</td><td>hist    </td><td>.all</td><td>         NA</td><td>▇▅▂▁▁▁▁▁</td></tr>\n",
       "\t<tr><td>cnt       </td><td>numeric</td><td>missing </td><td>.all</td><td>    0.00000</td><td>0       </td></tr>\n",
       "\t<tr><td>cnt       </td><td>numeric</td><td>complete</td><td>.all</td><td>17379.00000</td><td>17379   </td></tr>\n",
       "\t<tr><td>cnt       </td><td>numeric</td><td>n       </td><td>.all</td><td>17379.00000</td><td>17379   </td></tr>\n",
       "\t<tr><td>cnt       </td><td>numeric</td><td>mean    </td><td>.all</td><td>  189.46309</td><td>189.46  </td></tr>\n",
       "\t<tr><td>cnt       </td><td>numeric</td><td>sd      </td><td>.all</td><td>  181.38760</td><td>181.39  </td></tr>\n",
       "\t<tr><td>cnt       </td><td>numeric</td><td>p0      </td><td>.all</td><td>    1.00000</td><td>1       </td></tr>\n",
       "\t<tr><td>cnt       </td><td>numeric</td><td>p25     </td><td>.all</td><td>   40.00000</td><td>40      </td></tr>\n",
       "\t<tr><td>cnt       </td><td>numeric</td><td>p50     </td><td>.all</td><td>  142.00000</td><td>142     </td></tr>\n",
       "\t<tr><td>cnt       </td><td>numeric</td><td>p75     </td><td>.all</td><td>  281.00000</td><td>281     </td></tr>\n",
       "\t<tr><td>cnt       </td><td>numeric</td><td>p100    </td><td>.all</td><td>  977.00000</td><td>977     </td></tr>\n",
       "\t<tr><td>cnt       </td><td>numeric</td><td>hist    </td><td>.all</td><td>         NA</td><td>▇▅▂▂▁▁▁▁</td></tr>\n",
       "</tbody>\n",
       "</table>\n"
      ],
      "text/latex": [
       "A skim_df: 183 × 6\n",
       "\\begin{tabular}{r|llllll}\n",
       " variable & type & stat & level & value & formatted\\\\\n",
       " <chr> & <chr> & <chr> & <chr> & <dbl> & <chr>\\\\\n",
       "\\hline\n",
       "\t instant & numeric & missing  & .all &     0.000000 & 0         \\\\\n",
       "\t instant & numeric & complete & .all & 17379.000000 & 17379     \\\\\n",
       "\t instant & numeric & n        & .all & 17379.000000 & 17379     \\\\\n",
       "\t instant & numeric & mean     & .all &  8690.000000 & 8690      \\\\\n",
       "\t instant & numeric & sd       & .all &  5017.029500 & 5017.03   \\\\\n",
       "\t instant & numeric & p0       & .all &     1.000000 & 1         \\\\\n",
       "\t instant & numeric & p25      & .all &  4345.500000 & 4345.5    \\\\\n",
       "\t instant & numeric & p50      & .all &  8690.000000 & 8690      \\\\\n",
       "\t instant & numeric & p75      & .all & 13034.500000 & 13034.5   \\\\\n",
       "\t instant & numeric & p100     & .all & 17379.000000 & 17379     \\\\\n",
       "\t instant & numeric & hist     & .all &           NA & ▇▇▇▇▇▇▇▇  \\\\\n",
       "\t dteday  & Date    & missing  & .all &     0.000000 & 0         \\\\\n",
       "\t dteday  & Date    & complete & .all & 17379.000000 & 17379     \\\\\n",
       "\t dteday  & Date    & n        & .all & 17379.000000 & 17379     \\\\\n",
       "\t dteday  & Date    & min      & .all & 14975.000000 & 2011-01-01\\\\\n",
       "\t dteday  & Date    & max      & .all & 15705.000000 & 2012-12-31\\\\\n",
       "\t dteday  & Date    & median   & .all & 15341.000000 & 2012-01-02\\\\\n",
       "\t dteday  & Date    & n\\_unique & .all &   731.000000 & 731       \\\\\n",
       "\t season  & numeric & missing  & .all &     0.000000 & 0         \\\\\n",
       "\t season  & numeric & complete & .all & 17379.000000 & 17379     \\\\\n",
       "\t season  & numeric & n        & .all & 17379.000000 & 17379     \\\\\n",
       "\t season  & numeric & mean     & .all &     2.501640 & 2.5       \\\\\n",
       "\t season  & numeric & sd       & .all &     1.106918 & 1.11      \\\\\n",
       "\t season  & numeric & p0       & .all &     1.000000 & 1         \\\\\n",
       "\t season  & numeric & p25      & .all &     2.000000 & 2         \\\\\n",
       "\t season  & numeric & p50      & .all &     3.000000 & 3         \\\\\n",
       "\t season  & numeric & p75      & .all &     3.000000 & 3         \\\\\n",
       "\t season  & numeric & p100     & .all &     4.000000 & 4         \\\\\n",
       "\t season  & numeric & hist     & .all &           NA & ▇▁▇▁▁▇▁▇  \\\\\n",
       "\t yr      & numeric & missing  & .all &     0.000000 & 0         \\\\\n",
       "\t ⋮ & ⋮ & ⋮ & ⋮ & ⋮ & ⋮\\\\\n",
       "\t casual     & numeric & mean     & .all &    35.67622 & 35.68   \\\\\n",
       "\t casual     & numeric & sd       & .all &    49.30503 & 49.31   \\\\\n",
       "\t casual     & numeric & p0       & .all &     0.00000 & 0       \\\\\n",
       "\t casual     & numeric & p25      & .all &     4.00000 & 4       \\\\\n",
       "\t casual     & numeric & p50      & .all &    17.00000 & 17      \\\\\n",
       "\t casual     & numeric & p75      & .all &    48.00000 & 48      \\\\\n",
       "\t casual     & numeric & p100     & .all &   367.00000 & 367     \\\\\n",
       "\t casual     & numeric & hist     & .all &          NA & ▇▂▁▁▁▁▁▁\\\\\n",
       "\t registered & numeric & missing  & .all &     0.00000 & 0       \\\\\n",
       "\t registered & numeric & complete & .all & 17379.00000 & 17379   \\\\\n",
       "\t registered & numeric & n        & .all & 17379.00000 & 17379   \\\\\n",
       "\t registered & numeric & mean     & .all &   153.78687 & 153.79  \\\\\n",
       "\t registered & numeric & sd       & .all &   151.35729 & 151.36  \\\\\n",
       "\t registered & numeric & p0       & .all &     0.00000 & 0       \\\\\n",
       "\t registered & numeric & p25      & .all &    34.00000 & 34      \\\\\n",
       "\t registered & numeric & p50      & .all &   115.00000 & 115     \\\\\n",
       "\t registered & numeric & p75      & .all &   220.00000 & 220     \\\\\n",
       "\t registered & numeric & p100     & .all &   886.00000 & 886     \\\\\n",
       "\t registered & numeric & hist     & .all &          NA & ▇▅▂▁▁▁▁▁\\\\\n",
       "\t cnt        & numeric & missing  & .all &     0.00000 & 0       \\\\\n",
       "\t cnt        & numeric & complete & .all & 17379.00000 & 17379   \\\\\n",
       "\t cnt        & numeric & n        & .all & 17379.00000 & 17379   \\\\\n",
       "\t cnt        & numeric & mean     & .all &   189.46309 & 189.46  \\\\\n",
       "\t cnt        & numeric & sd       & .all &   181.38760 & 181.39  \\\\\n",
       "\t cnt        & numeric & p0       & .all &     1.00000 & 1       \\\\\n",
       "\t cnt        & numeric & p25      & .all &    40.00000 & 40      \\\\\n",
       "\t cnt        & numeric & p50      & .all &   142.00000 & 142     \\\\\n",
       "\t cnt        & numeric & p75      & .all &   281.00000 & 281     \\\\\n",
       "\t cnt        & numeric & p100     & .all &   977.00000 & 977     \\\\\n",
       "\t cnt        & numeric & hist     & .all &          NA & ▇▅▂▂▁▁▁▁\\\\\n",
       "\\end{tabular}\n"
      ],
      "text/markdown": [
       "\n",
       "A skim_df: 183 × 6\n",
       "\n",
       "| variable &lt;chr&gt; | type &lt;chr&gt; | stat &lt;chr&gt; | level &lt;chr&gt; | value &lt;dbl&gt; | formatted &lt;chr&gt; |\n",
       "|---|---|---|---|---|---|\n",
       "| instant | numeric | missing  | .all |     0.000000 | 0          |\n",
       "| instant | numeric | complete | .all | 17379.000000 | 17379      |\n",
       "| instant | numeric | n        | .all | 17379.000000 | 17379      |\n",
       "| instant | numeric | mean     | .all |  8690.000000 | 8690       |\n",
       "| instant | numeric | sd       | .all |  5017.029500 | 5017.03    |\n",
       "| instant | numeric | p0       | .all |     1.000000 | 1          |\n",
       "| instant | numeric | p25      | .all |  4345.500000 | 4345.5     |\n",
       "| instant | numeric | p50      | .all |  8690.000000 | 8690       |\n",
       "| instant | numeric | p75      | .all | 13034.500000 | 13034.5    |\n",
       "| instant | numeric | p100     | .all | 17379.000000 | 17379      |\n",
       "| instant | numeric | hist     | .all |           NA | ▇▇▇▇▇▇▇▇   |\n",
       "| dteday  | Date    | missing  | .all |     0.000000 | 0          |\n",
       "| dteday  | Date    | complete | .all | 17379.000000 | 17379      |\n",
       "| dteday  | Date    | n        | .all | 17379.000000 | 17379      |\n",
       "| dteday  | Date    | min      | .all | 14975.000000 | 2011-01-01 |\n",
       "| dteday  | Date    | max      | .all | 15705.000000 | 2012-12-31 |\n",
       "| dteday  | Date    | median   | .all | 15341.000000 | 2012-01-02 |\n",
       "| dteday  | Date    | n_unique | .all |   731.000000 | 731        |\n",
       "| season  | numeric | missing  | .all |     0.000000 | 0          |\n",
       "| season  | numeric | complete | .all | 17379.000000 | 17379      |\n",
       "| season  | numeric | n        | .all | 17379.000000 | 17379      |\n",
       "| season  | numeric | mean     | .all |     2.501640 | 2.5        |\n",
       "| season  | numeric | sd       | .all |     1.106918 | 1.11       |\n",
       "| season  | numeric | p0       | .all |     1.000000 | 1          |\n",
       "| season  | numeric | p25      | .all |     2.000000 | 2          |\n",
       "| season  | numeric | p50      | .all |     3.000000 | 3          |\n",
       "| season  | numeric | p75      | .all |     3.000000 | 3          |\n",
       "| season  | numeric | p100     | .all |     4.000000 | 4          |\n",
       "| season  | numeric | hist     | .all |           NA | ▇▁▇▁▁▇▁▇   |\n",
       "| yr      | numeric | missing  | .all |     0.000000 | 0          |\n",
       "| ⋮ | ⋮ | ⋮ | ⋮ | ⋮ | ⋮ |\n",
       "| casual     | numeric | mean     | .all |    35.67622 | 35.68    |\n",
       "| casual     | numeric | sd       | .all |    49.30503 | 49.31    |\n",
       "| casual     | numeric | p0       | .all |     0.00000 | 0        |\n",
       "| casual     | numeric | p25      | .all |     4.00000 | 4        |\n",
       "| casual     | numeric | p50      | .all |    17.00000 | 17       |\n",
       "| casual     | numeric | p75      | .all |    48.00000 | 48       |\n",
       "| casual     | numeric | p100     | .all |   367.00000 | 367      |\n",
       "| casual     | numeric | hist     | .all |          NA | ▇▂▁▁▁▁▁▁ |\n",
       "| registered | numeric | missing  | .all |     0.00000 | 0        |\n",
       "| registered | numeric | complete | .all | 17379.00000 | 17379    |\n",
       "| registered | numeric | n        | .all | 17379.00000 | 17379    |\n",
       "| registered | numeric | mean     | .all |   153.78687 | 153.79   |\n",
       "| registered | numeric | sd       | .all |   151.35729 | 151.36   |\n",
       "| registered | numeric | p0       | .all |     0.00000 | 0        |\n",
       "| registered | numeric | p25      | .all |    34.00000 | 34       |\n",
       "| registered | numeric | p50      | .all |   115.00000 | 115      |\n",
       "| registered | numeric | p75      | .all |   220.00000 | 220      |\n",
       "| registered | numeric | p100     | .all |   886.00000 | 886      |\n",
       "| registered | numeric | hist     | .all |          NA | ▇▅▂▁▁▁▁▁ |\n",
       "| cnt        | numeric | missing  | .all |     0.00000 | 0        |\n",
       "| cnt        | numeric | complete | .all | 17379.00000 | 17379    |\n",
       "| cnt        | numeric | n        | .all | 17379.00000 | 17379    |\n",
       "| cnt        | numeric | mean     | .all |   189.46309 | 189.46   |\n",
       "| cnt        | numeric | sd       | .all |   181.38760 | 181.39   |\n",
       "| cnt        | numeric | p0       | .all |     1.00000 | 1        |\n",
       "| cnt        | numeric | p25      | .all |    40.00000 | 40       |\n",
       "| cnt        | numeric | p50      | .all |   142.00000 | 142      |\n",
       "| cnt        | numeric | p75      | .all |   281.00000 | 281      |\n",
       "| cnt        | numeric | p100     | .all |   977.00000 | 977      |\n",
       "| cnt        | numeric | hist     | .all |          NA | ▇▅▂▂▁▁▁▁ |\n",
       "\n"
      ],
      "text/plain": [
       "    variable   type    stat     level value        formatted \n",
       "1   instant    numeric missing  .all      0.000000 0         \n",
       "2   instant    numeric complete .all  17379.000000 17379     \n",
       "3   instant    numeric n        .all  17379.000000 17379     \n",
       "4   instant    numeric mean     .all   8690.000000 8690      \n",
       "5   instant    numeric sd       .all   5017.029500 5017.03   \n",
       "6   instant    numeric p0       .all      1.000000 1         \n",
       "7   instant    numeric p25      .all   4345.500000 4345.5    \n",
       "8   instant    numeric p50      .all   8690.000000 8690      \n",
       "9   instant    numeric p75      .all  13034.500000 13034.5   \n",
       "10  instant    numeric p100     .all  17379.000000 17379     \n",
       "11  instant    numeric hist     .all            NA ▇▇▇▇▇▇▇▇  \n",
       "12  dteday     Date    missing  .all      0.000000 0         \n",
       "13  dteday     Date    complete .all  17379.000000 17379     \n",
       "14  dteday     Date    n        .all  17379.000000 17379     \n",
       "15  dteday     Date    min      .all  14975.000000 2011-01-01\n",
       "16  dteday     Date    max      .all  15705.000000 2012-12-31\n",
       "17  dteday     Date    median   .all  15341.000000 2012-01-02\n",
       "18  dteday     Date    n_unique .all    731.000000 731       \n",
       "19  season     numeric missing  .all      0.000000 0         \n",
       "20  season     numeric complete .all  17379.000000 17379     \n",
       "21  season     numeric n        .all  17379.000000 17379     \n",
       "22  season     numeric mean     .all      2.501640 2.5       \n",
       "23  season     numeric sd       .all      1.106918 1.11      \n",
       "24  season     numeric p0       .all      1.000000 1         \n",
       "25  season     numeric p25      .all      2.000000 2         \n",
       "26  season     numeric p50      .all      3.000000 3         \n",
       "27  season     numeric p75      .all      3.000000 3         \n",
       "28  season     numeric p100     .all      4.000000 4         \n",
       "29  season     numeric hist     .all            NA ▇▁▇▁▁▇▁▇  \n",
       "30  yr         numeric missing  .all      0.000000 0         \n",
       "⋮   ⋮          ⋮       ⋮        ⋮     ⋮            ⋮         \n",
       "154 casual     numeric mean     .all     35.67622  35.68     \n",
       "155 casual     numeric sd       .all     49.30503  49.31     \n",
       "156 casual     numeric p0       .all      0.00000  0         \n",
       "157 casual     numeric p25      .all      4.00000  4         \n",
       "158 casual     numeric p50      .all     17.00000  17        \n",
       "159 casual     numeric p75      .all     48.00000  48        \n",
       "160 casual     numeric p100     .all    367.00000  367       \n",
       "161 casual     numeric hist     .all           NA  ▇▂▁▁▁▁▁▁  \n",
       "162 registered numeric missing  .all      0.00000  0         \n",
       "163 registered numeric complete .all  17379.00000  17379     \n",
       "164 registered numeric n        .all  17379.00000  17379     \n",
       "165 registered numeric mean     .all    153.78687  153.79    \n",
       "166 registered numeric sd       .all    151.35729  151.36    \n",
       "167 registered numeric p0       .all      0.00000  0         \n",
       "168 registered numeric p25      .all     34.00000  34        \n",
       "169 registered numeric p50      .all    115.00000  115       \n",
       "170 registered numeric p75      .all    220.00000  220       \n",
       "171 registered numeric p100     .all    886.00000  886       \n",
       "172 registered numeric hist     .all           NA  ▇▅▂▁▁▁▁▁  \n",
       "173 cnt        numeric missing  .all      0.00000  0         \n",
       "174 cnt        numeric complete .all  17379.00000  17379     \n",
       "175 cnt        numeric n        .all  17379.00000  17379     \n",
       "176 cnt        numeric mean     .all    189.46309  189.46    \n",
       "177 cnt        numeric sd       .all    181.38760  181.39    \n",
       "178 cnt        numeric p0       .all      1.00000  1         \n",
       "179 cnt        numeric p25      .all     40.00000  40        \n",
       "180 cnt        numeric p50      .all    142.00000  142       \n",
       "181 cnt        numeric p75      .all    281.00000  281       \n",
       "182 cnt        numeric p100     .all    977.00000  977       \n",
       "183 cnt        numeric hist     .all           NA  ▇▅▂▂▁▁▁▁  "
      ]
     },
     "metadata": {},
     "output_type": "display_data"
    }
   ],
   "source": [
    "bike_df %>% \n",
    "skim()"
   ]
  },
  {
   "cell_type": "markdown",
   "metadata": {},
   "source": [
    "That nifty function is kable() which helps giving a much easy to understand summary statistics when used \n",
    " with the skim() function about the dataframe \n",
    "such as missing values , complete values , variable types, n , mean, standard deviation, \n",
    "percentiles denoted by p0,p25,p75,p100, min,max\n",
    "n_unique according to variable type"
   ]
  },
  {
   "cell_type": "code",
   "execution_count": 11,
   "metadata": {},
   "outputs": [
    {
     "name": "stdout",
     "output_type": "stream",
     "text": [
      "Skim summary statistics  \n",
      " n obs: 17379    \n",
      " n variables: 17    \n",
      "\n",
      "Variable type: Date\n",
      "\n",
      "| variable | missing | complete |   n   |    min     |    max     |   median   | n_unique |\n",
      "|----------|---------|----------|-------|------------|------------|------------|----------|\n",
      "|  dteday  |    0    |  17379   | 17379 | 2011-01-01 | 2012-12-31 | 2012-01-02 |   731    |\n",
      "\n",
      "Variable type: numeric\n",
      "\n",
      "|  variable  | missing | complete |   n   |  mean  |   sd    |  p0  |  p25   | p50  |   p75   | p100  |   hist   |\n",
      "|------------|---------|----------|-------|--------|---------|------|--------|------|---------|-------|----------|\n",
      "|   atemp    |    0    |  17379   | 17379 |  0.48  |  0.17   |  0   |  0.33  | 0.48 |  0.62   |   1   | ▁▃▆▇▇▆▁▁ |\n",
      "|   casual   |    0    |  17379   | 17379 | 35.68  |  49.31  |  0   |   4    |  17  |   48    |  367  | ▇▂▁▁▁▁▁▁ |\n",
      "|    cnt     |    0    |  17379   | 17379 | 189.46 | 181.39  |  1   |   40   | 142  |   281   |  977  | ▇▅▂▂▁▁▁▁ |\n",
      "|  holiday   |    0    |  17379   | 17379 | 0.029  |  0.17   |  0   |   0    |  0   |    0    |   1   | ▇▁▁▁▁▁▁▁ |\n",
      "|     hr     |    0    |  17379   | 17379 | 11.55  |  6.91   |  0   |   6    |  12  |   18    |  23   | ▇▇▇▇▇▇▇▇ |\n",
      "|    hum     |    0    |  17379   | 17379 |  0.63  |  0.19   |  0   |  0.48  | 0.63 |  0.78   |   1   | ▁▁▃▇▇▇▇▅ |\n",
      "|  instant   |    0    |  17379   | 17379 |  8690  | 5017.03 |  1   | 4345.5 | 8690 | 13034.5 | 17379 | ▇▇▇▇▇▇▇▇ |\n",
      "|    mnth    |    0    |  17379   | 17379 |  6.54  |  3.44   |  1   |   4    |  7   |   10    |  12   | ▇▅▇▃▅▇▃▇ |\n",
      "| registered |    0    |  17379   | 17379 | 153.79 | 151.36  |  0   |   34   | 115  |   220   |  886  | ▇▅▂▁▁▁▁▁ |\n",
      "|   season   |    0    |  17379   | 17379 |  2.5   |  1.11   |  1   |   2    |  3   |    3    |   4   | ▇▁▇▁▁▇▁▇ |\n",
      "|    temp    |    0    |  17379   | 17379 |  0.5   |  0.19   | 0.02 |  0.34  | 0.5  |  0.66   |   1   | ▁▅▇▇▇▇▃▁ |\n",
      "| weathersit |    0    |  17379   | 17379 |  1.43  |  0.64   |  1   |   1    |  1   |    2    |   4   | ▇▁▃▁▁▁▁▁ |\n",
      "|  weekday   |    0    |  17379   | 17379 |   3    |  2.01   |  0   |   1    |  3   |    5    |   6   | ▇▇▇▇▁▇▇▇ |\n",
      "| windspeed  |    0    |  17379   | 17379 |  0.19  |  0.12   |  0   |  0.1   | 0.19 |  0.25   | 0.85  | ▇▇▇▂▁▁▁▁ |\n",
      "| workingday |    0    |  17379   | 17379 |  0.68  |  0.47   |  0   |   0    |  1   |    1    |   1   | ▃▁▁▁▁▁▁▇ |\n",
      "|     yr     |    0    |  17379   | 17379 |  0.5   |   0.5   |  0   |   0    |  1   |    1    |   1   | ▇▁▁▁▁▁▁▇ |\n"
     ]
    }
   ],
   "source": [
    "bike_df %>% \n",
    "skim() %>% \n",
    "kable()"
   ]
  },
  {
   "cell_type": "markdown",
   "metadata": {},
   "source": [
    " downlaoding library visdat which helps with visualizing a dataframe \n",
    "showing  what the classes of the columns are, and also displaying the missing data.\n"
   ]
  },
  {
   "cell_type": "code",
   "execution_count": 12,
   "metadata": {},
   "outputs": [],
   "source": [
    "library(visdat)"
   ]
  },
  {
   "cell_type": "markdown",
   "metadata": {},
   "source": [
    "vis_miss visualizes the missing data. \n",
    "X axis show us the column names and the \n",
    "y axis show us number of missing cells. Grey shows present data\n",
    "black shows missing data. As there are none missing cells in our \n",
    "data frame we have no black lines and 100% present \n",
    "data and we have full grey."
   ]
  },
  {
   "cell_type": "code",
   "execution_count": 13,
   "metadata": {},
   "outputs": [
    {
     "data": {
      "image/png": "[encoded data removed]",
      "text/plain": [
       "plot without title"
      ]
     },
     "metadata": {
      "image/png": {
       "height": 420,
       "width": 420
      },
      "text/plain": {
       "height": 420,
       "width": 420
      }
     },
     "output_type": "display_data"
    }
   ],
   "source": [
    "bike_df %>% \n",
    "vis_miss()"
   ]
  },
  {
   "cell_type": "markdown",
   "metadata": {},
   "source": [
    "### Task (b): working on rows (10 marks)\n",
    "\n",
    "\n",
    "Working on `bike_df`, show that you can operate on rows: arranging them, getting the top _n_ according to some variable of your choice, filtering them (eventually using your own functions).\n",
    "\n",
    "_hint_ useful functions: `arrange()`, `top_n()`, `filter()`  \n",
    "_hint_ to define a function: `myfunction <- function(myargument,anotherargument) { bodyofthefunction }`"
   ]
  },
  {
   "cell_type": "markdown",
   "metadata": {},
   "source": [
    "filter() ,arrange() and top_n() (example 1)\n",
    "filter function lets you filter by condition. In the code below condition is weathersit==1\n",
    "arrange function lets you select in an order you want here we selected \"hum\" in desceding \"desc\" order.\n",
    "top_n lets you select the number of top obersvation you want for the above arugment, here we have indicated top 10."
   ]
  },
  {
   "cell_type": "code",
   "execution_count": 14,
   "metadata": {},
   "outputs": [
    {
     "name": "stderr",
     "output_type": "stream",
     "text": [
      "Selecting by cnt\n"
     ]
    },
    {
     "data": {
      "text/html": [
       "<table>\n",
       "<caption>A spec_tbl_df: 10 × 17</caption>\n",
       "<thead>\n",
       "\t<tr><th scope=col>instant</th><th scope=col>dteday</th><th scope=col>season</th><th scope=col>yr</th><th scope=col>mnth</th><th scope=col>hr</th><th scope=col>holiday</th><th scope=col>weekday</th><th scope=col>workingday</th><th scope=col>weathersit</th><th scope=col>temp</th><th scope=col>atemp</th><th scope=col>hum</th><th scope=col>windspeed</th><th scope=col>casual</th><th scope=col>registered</th><th scope=col>cnt</th></tr>\n",
       "\t<tr><th scope=col>&lt;dbl&gt;</th><th scope=col>&lt;date&gt;</th><th scope=col>&lt;dbl&gt;</th><th scope=col>&lt;dbl&gt;</th><th scope=col>&lt;dbl&gt;</th><th scope=col>&lt;dbl&gt;</th><th scope=col>&lt;dbl&gt;</th><th scope=col>&lt;dbl&gt;</th><th scope=col>&lt;dbl&gt;</th><th scope=col>&lt;dbl&gt;</th><th scope=col>&lt;dbl&gt;</th><th scope=col>&lt;dbl&gt;</th><th scope=col>&lt;dbl&gt;</th><th scope=col>&lt;dbl&gt;</th><th scope=col>&lt;dbl&gt;</th><th scope=col>&lt;dbl&gt;</th><th scope=col>&lt;dbl&gt;</th></tr>\n",
       "</thead>\n",
       "<tbody>\n",
       "\t<tr><td>14965</td><td>2012-09-20</td><td>3</td><td>1</td><td> 9</td><td>17</td><td>0</td><td>4</td><td>1</td><td>1</td><td>0.64</td><td>0.6212</td><td>0.50</td><td>0.2239</td><td> 91</td><td>885</td><td>976</td></tr>\n",
       "\t<tr><td>14294</td><td>2012-08-23</td><td>3</td><td>1</td><td> 8</td><td>18</td><td>0</td><td>4</td><td>1</td><td>1</td><td>0.74</td><td>0.6667</td><td>0.48</td><td>0.2239</td><td>130</td><td>811</td><td>941</td></tr>\n",
       "\t<tr><td>15109</td><td>2012-09-26</td><td>4</td><td>1</td><td> 9</td><td>17</td><td>0</td><td>3</td><td>1</td><td>1</td><td>0.74</td><td>0.6667</td><td>0.48</td><td>0.2985</td><td> 77</td><td>876</td><td>953</td></tr>\n",
       "\t<tr><td>15781</td><td>2012-10-24</td><td>4</td><td>1</td><td>10</td><td>17</td><td>0</td><td>3</td><td>1</td><td>1</td><td>0.66</td><td>0.6212</td><td>0.47</td><td>0.0000</td><td> 87</td><td>876</td><td>963</td></tr>\n",
       "\t<tr><td>14774</td><td>2012-09-12</td><td>3</td><td>1</td><td> 9</td><td>18</td><td>0</td><td>3</td><td>1</td><td>1</td><td>0.66</td><td>0.6212</td><td>0.44</td><td>0.2537</td><td> 91</td><td>886</td><td>977</td></tr>\n",
       "\t<tr><td>15445</td><td>2012-10-10</td><td>4</td><td>1</td><td>10</td><td>17</td><td>0</td><td>3</td><td>1</td><td>1</td><td>0.58</td><td>0.5455</td><td>0.43</td><td>0.2239</td><td> 91</td><td>857</td><td>948</td></tr>\n",
       "\t<tr><td>15085</td><td>2012-09-25</td><td>4</td><td>1</td><td> 9</td><td>17</td><td>0</td><td>2</td><td>1</td><td>1</td><td>0.66</td><td>0.6212</td><td>0.39</td><td>0.2836</td><td>107</td><td>860</td><td>967</td></tr>\n",
       "\t<tr><td>15589</td><td>2012-10-16</td><td>4</td><td>1</td><td>10</td><td>17</td><td>0</td><td>2</td><td>1</td><td>1</td><td>0.52</td><td>0.5000</td><td>0.39</td><td>0.1940</td><td>104</td><td>839</td><td>943</td></tr>\n",
       "\t<tr><td>14726</td><td>2012-09-10</td><td>3</td><td>1</td><td> 9</td><td>18</td><td>0</td><td>1</td><td>1</td><td>1</td><td>0.62</td><td>0.6212</td><td>0.35</td><td>0.2985</td><td>111</td><td>857</td><td>968</td></tr>\n",
       "\t<tr><td>14749</td><td>2012-09-11</td><td>3</td><td>1</td><td> 9</td><td>17</td><td>0</td><td>2</td><td>1</td><td>1</td><td>0.70</td><td>0.6364</td><td>0.28</td><td>0.0000</td><td>168</td><td>802</td><td>970</td></tr>\n",
       "</tbody>\n",
       "</table>\n"
      ],
      "text/latex": [
       "A spec_tbl_df: 10 × 17\n",
       "\\begin{tabular}{r|lllllllllllllllll}\n",
       " instant & dteday & season & yr & mnth & hr & holiday & weekday & workingday & weathersit & temp & atemp & hum & windspeed & casual & registered & cnt\\\\\n",
       " <dbl> & <date> & <dbl> & <dbl> & <dbl> & <dbl> & <dbl> & <dbl> & <dbl> & <dbl> & <dbl> & <dbl> & <dbl> & <dbl> & <dbl> & <dbl> & <dbl>\\\\\n",
       "\\hline\n",
       "\t 14965 & 2012-09-20 & 3 & 1 &  9 & 17 & 0 & 4 & 1 & 1 & 0.64 & 0.6212 & 0.50 & 0.2239 &  91 & 885 & 976\\\\\n",
       "\t 14294 & 2012-08-23 & 3 & 1 &  8 & 18 & 0 & 4 & 1 & 1 & 0.74 & 0.6667 & 0.48 & 0.2239 & 130 & 811 & 941\\\\\n",
       "\t 15109 & 2012-09-26 & 4 & 1 &  9 & 17 & 0 & 3 & 1 & 1 & 0.74 & 0.6667 & 0.48 & 0.2985 &  77 & 876 & 953\\\\\n",
       "\t 15781 & 2012-10-24 & 4 & 1 & 10 & 17 & 0 & 3 & 1 & 1 & 0.66 & 0.6212 & 0.47 & 0.0000 &  87 & 876 & 963\\\\\n",
       "\t 14774 & 2012-09-12 & 3 & 1 &  9 & 18 & 0 & 3 & 1 & 1 & 0.66 & 0.6212 & 0.44 & 0.2537 &  91 & 886 & 977\\\\\n",
       "\t 15445 & 2012-10-10 & 4 & 1 & 10 & 17 & 0 & 3 & 1 & 1 & 0.58 & 0.5455 & 0.43 & 0.2239 &  91 & 857 & 948\\\\\n",
       "\t 15085 & 2012-09-25 & 4 & 1 &  9 & 17 & 0 & 2 & 1 & 1 & 0.66 & 0.6212 & 0.39 & 0.2836 & 107 & 860 & 967\\\\\n",
       "\t 15589 & 2012-10-16 & 4 & 1 & 10 & 17 & 0 & 2 & 1 & 1 & 0.52 & 0.5000 & 0.39 & 0.1940 & 104 & 839 & 943\\\\\n",
       "\t 14726 & 2012-09-10 & 3 & 1 &  9 & 18 & 0 & 1 & 1 & 1 & 0.62 & 0.6212 & 0.35 & 0.2985 & 111 & 857 & 968\\\\\n",
       "\t 14749 & 2012-09-11 & 3 & 1 &  9 & 17 & 0 & 2 & 1 & 1 & 0.70 & 0.6364 & 0.28 & 0.0000 & 168 & 802 & 970\\\\\n",
       "\\end{tabular}\n"
      ],
      "text/markdown": [
       "\n",
       "A spec_tbl_df: 10 × 17\n",
       "\n",
       "| instant &lt;dbl&gt; | dteday &lt;date&gt; | season &lt;dbl&gt; | yr &lt;dbl&gt; | mnth &lt;dbl&gt; | hr &lt;dbl&gt; | holiday &lt;dbl&gt; | weekday &lt;dbl&gt; | workingday &lt;dbl&gt; | weathersit &lt;dbl&gt; | temp &lt;dbl&gt; | atemp &lt;dbl&gt; | hum &lt;dbl&gt; | windspeed &lt;dbl&gt; | casual &lt;dbl&gt; | registered &lt;dbl&gt; | cnt &lt;dbl&gt; |\n",
       "|---|---|---|---|---|---|---|---|---|---|---|---|---|---|---|---|---|\n",
       "| 14965 | 2012-09-20 | 3 | 1 |  9 | 17 | 0 | 4 | 1 | 1 | 0.64 | 0.6212 | 0.50 | 0.2239 |  91 | 885 | 976 |\n",
       "| 14294 | 2012-08-23 | 3 | 1 |  8 | 18 | 0 | 4 | 1 | 1 | 0.74 | 0.6667 | 0.48 | 0.2239 | 130 | 811 | 941 |\n",
       "| 15109 | 2012-09-26 | 4 | 1 |  9 | 17 | 0 | 3 | 1 | 1 | 0.74 | 0.6667 | 0.48 | 0.2985 |  77 | 876 | 953 |\n",
       "| 15781 | 2012-10-24 | 4 | 1 | 10 | 17 | 0 | 3 | 1 | 1 | 0.66 | 0.6212 | 0.47 | 0.0000 |  87 | 876 | 963 |\n",
       "| 14774 | 2012-09-12 | 3 | 1 |  9 | 18 | 0 | 3 | 1 | 1 | 0.66 | 0.6212 | 0.44 | 0.2537 |  91 | 886 | 977 |\n",
       "| 15445 | 2012-10-10 | 4 | 1 | 10 | 17 | 0 | 3 | 1 | 1 | 0.58 | 0.5455 | 0.43 | 0.2239 |  91 | 857 | 948 |\n",
       "| 15085 | 2012-09-25 | 4 | 1 |  9 | 17 | 0 | 2 | 1 | 1 | 0.66 | 0.6212 | 0.39 | 0.2836 | 107 | 860 | 967 |\n",
       "| 15589 | 2012-10-16 | 4 | 1 | 10 | 17 | 0 | 2 | 1 | 1 | 0.52 | 0.5000 | 0.39 | 0.1940 | 104 | 839 | 943 |\n",
       "| 14726 | 2012-09-10 | 3 | 1 |  9 | 18 | 0 | 1 | 1 | 1 | 0.62 | 0.6212 | 0.35 | 0.2985 | 111 | 857 | 968 |\n",
       "| 14749 | 2012-09-11 | 3 | 1 |  9 | 17 | 0 | 2 | 1 | 1 | 0.70 | 0.6364 | 0.28 | 0.0000 | 168 | 802 | 970 |\n",
       "\n"
      ],
      "text/plain": [
       "   instant dteday     season yr mnth hr holiday weekday workingday weathersit\n",
       "1  14965   2012-09-20 3      1   9   17 0       4       1          1         \n",
       "2  14294   2012-08-23 3      1   8   18 0       4       1          1         \n",
       "3  15109   2012-09-26 4      1   9   17 0       3       1          1         \n",
       "4  15781   2012-10-24 4      1  10   17 0       3       1          1         \n",
       "5  14774   2012-09-12 3      1   9   18 0       3       1          1         \n",
       "6  15445   2012-10-10 4      1  10   17 0       3       1          1         \n",
       "7  15085   2012-09-25 4      1   9   17 0       2       1          1         \n",
       "8  15589   2012-10-16 4      1  10   17 0       2       1          1         \n",
       "9  14726   2012-09-10 3      1   9   18 0       1       1          1         \n",
       "10 14749   2012-09-11 3      1   9   17 0       2       1          1         \n",
       "   temp atemp  hum  windspeed casual registered cnt\n",
       "1  0.64 0.6212 0.50 0.2239     91    885        976\n",
       "2  0.74 0.6667 0.48 0.2239    130    811        941\n",
       "3  0.74 0.6667 0.48 0.2985     77    876        953\n",
       "4  0.66 0.6212 0.47 0.0000     87    876        963\n",
       "5  0.66 0.6212 0.44 0.2537     91    886        977\n",
       "6  0.58 0.5455 0.43 0.2239     91    857        948\n",
       "7  0.66 0.6212 0.39 0.2836    107    860        967\n",
       "8  0.52 0.5000 0.39 0.1940    104    839        943\n",
       "9  0.62 0.6212 0.35 0.2985    111    857        968\n",
       "10 0.70 0.6364 0.28 0.0000    168    802        970"
      ]
     },
     "metadata": {},
     "output_type": "display_data"
    }
   ],
   "source": [
    "bike_df %>% \n",
    "filter(weathersit == 1) %>%\n",
    "arrange(desc(hum)) %>%\n",
    "top_n(10)"
   ]
  },
  {
   "cell_type": "markdown",
   "metadata": {},
   "source": [
    "filter #arrange #top_n (example 2)\n",
    "basically almost same as above only difference is that have removed desc from arrange function \n",
    "arrange function automatically arranges  hum in ascending order now"
   ]
  },
  {
   "cell_type": "code",
   "execution_count": 15,
   "metadata": {},
   "outputs": [
    {
     "name": "stderr",
     "output_type": "stream",
     "text": [
      "Selecting by cnt\n"
     ]
    },
    {
     "data": {
      "text/html": [
       "<table>\n",
       "<caption>A spec_tbl_df: 10 × 17</caption>\n",
       "<thead>\n",
       "\t<tr><th scope=col>instant</th><th scope=col>dteday</th><th scope=col>season</th><th scope=col>yr</th><th scope=col>mnth</th><th scope=col>hr</th><th scope=col>holiday</th><th scope=col>weekday</th><th scope=col>workingday</th><th scope=col>weathersit</th><th scope=col>temp</th><th scope=col>atemp</th><th scope=col>hum</th><th scope=col>windspeed</th><th scope=col>casual</th><th scope=col>registered</th><th scope=col>cnt</th></tr>\n",
       "\t<tr><th scope=col>&lt;dbl&gt;</th><th scope=col>&lt;date&gt;</th><th scope=col>&lt;dbl&gt;</th><th scope=col>&lt;dbl&gt;</th><th scope=col>&lt;dbl&gt;</th><th scope=col>&lt;dbl&gt;</th><th scope=col>&lt;dbl&gt;</th><th scope=col>&lt;dbl&gt;</th><th scope=col>&lt;dbl&gt;</th><th scope=col>&lt;dbl&gt;</th><th scope=col>&lt;dbl&gt;</th><th scope=col>&lt;dbl&gt;</th><th scope=col>&lt;dbl&gt;</th><th scope=col>&lt;dbl&gt;</th><th scope=col>&lt;dbl&gt;</th><th scope=col>&lt;dbl&gt;</th><th scope=col>&lt;dbl&gt;</th></tr>\n",
       "</thead>\n",
       "<tbody>\n",
       "\t<tr><td>14749</td><td>2012-09-11</td><td>3</td><td>1</td><td> 9</td><td>17</td><td>0</td><td>2</td><td>1</td><td>1</td><td>0.70</td><td>0.6364</td><td>0.28</td><td>0.0000</td><td>168</td><td>802</td><td>970</td></tr>\n",
       "\t<tr><td>14726</td><td>2012-09-10</td><td>3</td><td>1</td><td> 9</td><td>18</td><td>0</td><td>1</td><td>1</td><td>1</td><td>0.62</td><td>0.6212</td><td>0.35</td><td>0.2985</td><td>111</td><td>857</td><td>968</td></tr>\n",
       "\t<tr><td>15085</td><td>2012-09-25</td><td>4</td><td>1</td><td> 9</td><td>17</td><td>0</td><td>2</td><td>1</td><td>1</td><td>0.66</td><td>0.6212</td><td>0.39</td><td>0.2836</td><td>107</td><td>860</td><td>967</td></tr>\n",
       "\t<tr><td>15589</td><td>2012-10-16</td><td>4</td><td>1</td><td>10</td><td>17</td><td>0</td><td>2</td><td>1</td><td>1</td><td>0.52</td><td>0.5000</td><td>0.39</td><td>0.1940</td><td>104</td><td>839</td><td>943</td></tr>\n",
       "\t<tr><td>15445</td><td>2012-10-10</td><td>4</td><td>1</td><td>10</td><td>17</td><td>0</td><td>3</td><td>1</td><td>1</td><td>0.58</td><td>0.5455</td><td>0.43</td><td>0.2239</td><td> 91</td><td>857</td><td>948</td></tr>\n",
       "\t<tr><td>14774</td><td>2012-09-12</td><td>3</td><td>1</td><td> 9</td><td>18</td><td>0</td><td>3</td><td>1</td><td>1</td><td>0.66</td><td>0.6212</td><td>0.44</td><td>0.2537</td><td> 91</td><td>886</td><td>977</td></tr>\n",
       "\t<tr><td>15781</td><td>2012-10-24</td><td>4</td><td>1</td><td>10</td><td>17</td><td>0</td><td>3</td><td>1</td><td>1</td><td>0.66</td><td>0.6212</td><td>0.47</td><td>0.0000</td><td> 87</td><td>876</td><td>963</td></tr>\n",
       "\t<tr><td>14294</td><td>2012-08-23</td><td>3</td><td>1</td><td> 8</td><td>18</td><td>0</td><td>4</td><td>1</td><td>1</td><td>0.74</td><td>0.6667</td><td>0.48</td><td>0.2239</td><td>130</td><td>811</td><td>941</td></tr>\n",
       "\t<tr><td>15109</td><td>2012-09-26</td><td>4</td><td>1</td><td> 9</td><td>17</td><td>0</td><td>3</td><td>1</td><td>1</td><td>0.74</td><td>0.6667</td><td>0.48</td><td>0.2985</td><td> 77</td><td>876</td><td>953</td></tr>\n",
       "\t<tr><td>14965</td><td>2012-09-20</td><td>3</td><td>1</td><td> 9</td><td>17</td><td>0</td><td>4</td><td>1</td><td>1</td><td>0.64</td><td>0.6212</td><td>0.50</td><td>0.2239</td><td> 91</td><td>885</td><td>976</td></tr>\n",
       "</tbody>\n",
       "</table>\n"
      ],
      "text/latex": [
       "A spec_tbl_df: 10 × 17\n",
       "\\begin{tabular}{r|lllllllllllllllll}\n",
       " instant & dteday & season & yr & mnth & hr & holiday & weekday & workingday & weathersit & temp & atemp & hum & windspeed & casual & registered & cnt\\\\\n",
       " <dbl> & <date> & <dbl> & <dbl> & <dbl> & <dbl> & <dbl> & <dbl> & <dbl> & <dbl> & <dbl> & <dbl> & <dbl> & <dbl> & <dbl> & <dbl> & <dbl>\\\\\n",
       "\\hline\n",
       "\t 14749 & 2012-09-11 & 3 & 1 &  9 & 17 & 0 & 2 & 1 & 1 & 0.70 & 0.6364 & 0.28 & 0.0000 & 168 & 802 & 970\\\\\n",
       "\t 14726 & 2012-09-10 & 3 & 1 &  9 & 18 & 0 & 1 & 1 & 1 & 0.62 & 0.6212 & 0.35 & 0.2985 & 111 & 857 & 968\\\\\n",
       "\t 15085 & 2012-09-25 & 4 & 1 &  9 & 17 & 0 & 2 & 1 & 1 & 0.66 & 0.6212 & 0.39 & 0.2836 & 107 & 860 & 967\\\\\n",
       "\t 15589 & 2012-10-16 & 4 & 1 & 10 & 17 & 0 & 2 & 1 & 1 & 0.52 & 0.5000 & 0.39 & 0.1940 & 104 & 839 & 943\\\\\n",
       "\t 15445 & 2012-10-10 & 4 & 1 & 10 & 17 & 0 & 3 & 1 & 1 & 0.58 & 0.5455 & 0.43 & 0.2239 &  91 & 857 & 948\\\\\n",
       "\t 14774 & 2012-09-12 & 3 & 1 &  9 & 18 & 0 & 3 & 1 & 1 & 0.66 & 0.6212 & 0.44 & 0.2537 &  91 & 886 & 977\\\\\n",
       "\t 15781 & 2012-10-24 & 4 & 1 & 10 & 17 & 0 & 3 & 1 & 1 & 0.66 & 0.6212 & 0.47 & 0.0000 &  87 & 876 & 963\\\\\n",
       "\t 14294 & 2012-08-23 & 3 & 1 &  8 & 18 & 0 & 4 & 1 & 1 & 0.74 & 0.6667 & 0.48 & 0.2239 & 130 & 811 & 941\\\\\n",
       "\t 15109 & 2012-09-26 & 4 & 1 &  9 & 17 & 0 & 3 & 1 & 1 & 0.74 & 0.6667 & 0.48 & 0.2985 &  77 & 876 & 953\\\\\n",
       "\t 14965 & 2012-09-20 & 3 & 1 &  9 & 17 & 0 & 4 & 1 & 1 & 0.64 & 0.6212 & 0.50 & 0.2239 &  91 & 885 & 976\\\\\n",
       "\\end{tabular}\n"
      ],
      "text/markdown": [
       "\n",
       "A spec_tbl_df: 10 × 17\n",
       "\n",
       "| instant &lt;dbl&gt; | dteday &lt;date&gt; | season &lt;dbl&gt; | yr &lt;dbl&gt; | mnth &lt;dbl&gt; | hr &lt;dbl&gt; | holiday &lt;dbl&gt; | weekday &lt;dbl&gt; | workingday &lt;dbl&gt; | weathersit &lt;dbl&gt; | temp &lt;dbl&gt; | atemp &lt;dbl&gt; | hum &lt;dbl&gt; | windspeed &lt;dbl&gt; | casual &lt;dbl&gt; | registered &lt;dbl&gt; | cnt &lt;dbl&gt; |\n",
       "|---|---|---|---|---|---|---|---|---|---|---|---|---|---|---|---|---|\n",
       "| 14749 | 2012-09-11 | 3 | 1 |  9 | 17 | 0 | 2 | 1 | 1 | 0.70 | 0.6364 | 0.28 | 0.0000 | 168 | 802 | 970 |\n",
       "| 14726 | 2012-09-10 | 3 | 1 |  9 | 18 | 0 | 1 | 1 | 1 | 0.62 | 0.6212 | 0.35 | 0.2985 | 111 | 857 | 968 |\n",
       "| 15085 | 2012-09-25 | 4 | 1 |  9 | 17 | 0 | 2 | 1 | 1 | 0.66 | 0.6212 | 0.39 | 0.2836 | 107 | 860 | 967 |\n",
       "| 15589 | 2012-10-16 | 4 | 1 | 10 | 17 | 0 | 2 | 1 | 1 | 0.52 | 0.5000 | 0.39 | 0.1940 | 104 | 839 | 943 |\n",
       "| 15445 | 2012-10-10 | 4 | 1 | 10 | 17 | 0 | 3 | 1 | 1 | 0.58 | 0.5455 | 0.43 | 0.2239 |  91 | 857 | 948 |\n",
       "| 14774 | 2012-09-12 | 3 | 1 |  9 | 18 | 0 | 3 | 1 | 1 | 0.66 | 0.6212 | 0.44 | 0.2537 |  91 | 886 | 977 |\n",
       "| 15781 | 2012-10-24 | 4 | 1 | 10 | 17 | 0 | 3 | 1 | 1 | 0.66 | 0.6212 | 0.47 | 0.0000 |  87 | 876 | 963 |\n",
       "| 14294 | 2012-08-23 | 3 | 1 |  8 | 18 | 0 | 4 | 1 | 1 | 0.74 | 0.6667 | 0.48 | 0.2239 | 130 | 811 | 941 |\n",
       "| 15109 | 2012-09-26 | 4 | 1 |  9 | 17 | 0 | 3 | 1 | 1 | 0.74 | 0.6667 | 0.48 | 0.2985 |  77 | 876 | 953 |\n",
       "| 14965 | 2012-09-20 | 3 | 1 |  9 | 17 | 0 | 4 | 1 | 1 | 0.64 | 0.6212 | 0.50 | 0.2239 |  91 | 885 | 976 |\n",
       "\n"
      ],
      "text/plain": [
       "   instant dteday     season yr mnth hr holiday weekday workingday weathersit\n",
       "1  14749   2012-09-11 3      1   9   17 0       2       1          1         \n",
       "2  14726   2012-09-10 3      1   9   18 0       1       1          1         \n",
       "3  15085   2012-09-25 4      1   9   17 0       2       1          1         \n",
       "4  15589   2012-10-16 4      1  10   17 0       2       1          1         \n",
       "5  15445   2012-10-10 4      1  10   17 0       3       1          1         \n",
       "6  14774   2012-09-12 3      1   9   18 0       3       1          1         \n",
       "7  15781   2012-10-24 4      1  10   17 0       3       1          1         \n",
       "8  14294   2012-08-23 3      1   8   18 0       4       1          1         \n",
       "9  15109   2012-09-26 4      1   9   17 0       3       1          1         \n",
       "10 14965   2012-09-20 3      1   9   17 0       4       1          1         \n",
       "   temp atemp  hum  windspeed casual registered cnt\n",
       "1  0.70 0.6364 0.28 0.0000    168    802        970\n",
       "2  0.62 0.6212 0.35 0.2985    111    857        968\n",
       "3  0.66 0.6212 0.39 0.2836    107    860        967\n",
       "4  0.52 0.5000 0.39 0.1940    104    839        943\n",
       "5  0.58 0.5455 0.43 0.2239     91    857        948\n",
       "6  0.66 0.6212 0.44 0.2537     91    886        977\n",
       "7  0.66 0.6212 0.47 0.0000     87    876        963\n",
       "8  0.74 0.6667 0.48 0.2239    130    811        941\n",
       "9  0.74 0.6667 0.48 0.2985     77    876        953\n",
       "10 0.64 0.6212 0.50 0.2239     91    885        976"
      ]
     },
     "metadata": {},
     "output_type": "display_data"
    }
   ],
   "source": [
    "bike_df %>% \n",
    "filter(weathersit == 1) %>%\n",
    "arrange(hum) %>%\n",
    "top_n(10)"
   ]
  },
  {
   "cell_type": "markdown",
   "metadata": {},
   "source": [
    "slice function lets you look at the some of the rows you want by defining the number of row here have \n",
    "defined row 1,5000,15000"
   ]
  },
  {
   "cell_type": "code",
   "execution_count": 16,
   "metadata": {},
   "outputs": [
    {
     "data": {
      "text/html": [
       "<table>\n",
       "<caption>A spec_tbl_df: 3 × 17</caption>\n",
       "<thead>\n",
       "\t<tr><th scope=col>instant</th><th scope=col>dteday</th><th scope=col>season</th><th scope=col>yr</th><th scope=col>mnth</th><th scope=col>hr</th><th scope=col>holiday</th><th scope=col>weekday</th><th scope=col>workingday</th><th scope=col>weathersit</th><th scope=col>temp</th><th scope=col>atemp</th><th scope=col>hum</th><th scope=col>windspeed</th><th scope=col>casual</th><th scope=col>registered</th><th scope=col>cnt</th></tr>\n",
       "\t<tr><th scope=col>&lt;dbl&gt;</th><th scope=col>&lt;date&gt;</th><th scope=col>&lt;dbl&gt;</th><th scope=col>&lt;dbl&gt;</th><th scope=col>&lt;dbl&gt;</th><th scope=col>&lt;dbl&gt;</th><th scope=col>&lt;dbl&gt;</th><th scope=col>&lt;dbl&gt;</th><th scope=col>&lt;dbl&gt;</th><th scope=col>&lt;dbl&gt;</th><th scope=col>&lt;dbl&gt;</th><th scope=col>&lt;dbl&gt;</th><th scope=col>&lt;dbl&gt;</th><th scope=col>&lt;dbl&gt;</th><th scope=col>&lt;dbl&gt;</th><th scope=col>&lt;dbl&gt;</th><th scope=col>&lt;dbl&gt;</th></tr>\n",
       "</thead>\n",
       "<tbody>\n",
       "\t<tr><td>    1</td><td>2011-01-01</td><td>1</td><td>0</td><td>1</td><td>0</td><td>0</td><td>6</td><td>0</td><td>1</td><td>0.24</td><td>0.2879</td><td>0.81</td><td>0.0000</td><td>3</td><td>13</td><td>16</td></tr>\n",
       "\t<tr><td> 5000</td><td>2011-08-01</td><td>3</td><td>0</td><td>8</td><td>5</td><td>0</td><td>1</td><td>1</td><td>1</td><td>0.66</td><td>0.6061</td><td>0.83</td><td>0.1045</td><td>2</td><td>24</td><td>26</td></tr>\n",
       "\t<tr><td>15000</td><td>2012-09-22</td><td>3</td><td>1</td><td>9</td><td>4</td><td>0</td><td>6</td><td>0</td><td>1</td><td>0.56</td><td>0.5303</td><td>0.83</td><td>0.2836</td><td>5</td><td>10</td><td>15</td></tr>\n",
       "</tbody>\n",
       "</table>\n"
      ],
      "text/latex": [
       "A spec_tbl_df: 3 × 17\n",
       "\\begin{tabular}{r|lllllllllllllllll}\n",
       " instant & dteday & season & yr & mnth & hr & holiday & weekday & workingday & weathersit & temp & atemp & hum & windspeed & casual & registered & cnt\\\\\n",
       " <dbl> & <date> & <dbl> & <dbl> & <dbl> & <dbl> & <dbl> & <dbl> & <dbl> & <dbl> & <dbl> & <dbl> & <dbl> & <dbl> & <dbl> & <dbl> & <dbl>\\\\\n",
       "\\hline\n",
       "\t     1 & 2011-01-01 & 1 & 0 & 1 & 0 & 0 & 6 & 0 & 1 & 0.24 & 0.2879 & 0.81 & 0.0000 & 3 & 13 & 16\\\\\n",
       "\t  5000 & 2011-08-01 & 3 & 0 & 8 & 5 & 0 & 1 & 1 & 1 & 0.66 & 0.6061 & 0.83 & 0.1045 & 2 & 24 & 26\\\\\n",
       "\t 15000 & 2012-09-22 & 3 & 1 & 9 & 4 & 0 & 6 & 0 & 1 & 0.56 & 0.5303 & 0.83 & 0.2836 & 5 & 10 & 15\\\\\n",
       "\\end{tabular}\n"
      ],
      "text/markdown": [
       "\n",
       "A spec_tbl_df: 3 × 17\n",
       "\n",
       "| instant &lt;dbl&gt; | dteday &lt;date&gt; | season &lt;dbl&gt; | yr &lt;dbl&gt; | mnth &lt;dbl&gt; | hr &lt;dbl&gt; | holiday &lt;dbl&gt; | weekday &lt;dbl&gt; | workingday &lt;dbl&gt; | weathersit &lt;dbl&gt; | temp &lt;dbl&gt; | atemp &lt;dbl&gt; | hum &lt;dbl&gt; | windspeed &lt;dbl&gt; | casual &lt;dbl&gt; | registered &lt;dbl&gt; | cnt &lt;dbl&gt; |\n",
       "|---|---|---|---|---|---|---|---|---|---|---|---|---|---|---|---|---|\n",
       "|     1 | 2011-01-01 | 1 | 0 | 1 | 0 | 0 | 6 | 0 | 1 | 0.24 | 0.2879 | 0.81 | 0.0000 | 3 | 13 | 16 |\n",
       "|  5000 | 2011-08-01 | 3 | 0 | 8 | 5 | 0 | 1 | 1 | 1 | 0.66 | 0.6061 | 0.83 | 0.1045 | 2 | 24 | 26 |\n",
       "| 15000 | 2012-09-22 | 3 | 1 | 9 | 4 | 0 | 6 | 0 | 1 | 0.56 | 0.5303 | 0.83 | 0.2836 | 5 | 10 | 15 |\n",
       "\n"
      ],
      "text/plain": [
       "  instant dteday     season yr mnth hr holiday weekday workingday weathersit\n",
       "1     1   2011-01-01 1      0  1    0  0       6       0          1         \n",
       "2  5000   2011-08-01 3      0  8    5  0       1       1          1         \n",
       "3 15000   2012-09-22 3      1  9    4  0       6       0          1         \n",
       "  temp atemp  hum  windspeed casual registered cnt\n",
       "1 0.24 0.2879 0.81 0.0000    3      13         16 \n",
       "2 0.66 0.6061 0.83 0.1045    2      24         26 \n",
       "3 0.56 0.5303 0.83 0.2836    5      10         15 "
      ]
     },
     "metadata": {},
     "output_type": "display_data"
    }
   ],
   "source": [
    "\n",
    "bike_df %>%\n",
    "slice(1,5000,15000)"
   ]
  },
  {
   "cell_type": "code",
   "execution_count": 17,
   "metadata": {},
   "outputs": [
    {
     "name": "stderr",
     "output_type": "stream",
     "text": [
      "Selecting by cnt\n"
     ]
    },
    {
     "data": {
      "text/html": [
       "<table>\n",
       "<caption>A spec_tbl_df: 13 × 17</caption>\n",
       "<thead>\n",
       "\t<tr><th scope=col>instant</th><th scope=col>dteday</th><th scope=col>season</th><th scope=col>yr</th><th scope=col>mnth</th><th scope=col>hr</th><th scope=col>holiday</th><th scope=col>weekday</th><th scope=col>workingday</th><th scope=col>weathersit</th><th scope=col>temp</th><th scope=col>atemp</th><th scope=col>hum</th><th scope=col>windspeed</th><th scope=col>casual</th><th scope=col>registered</th><th scope=col>cnt</th></tr>\n",
       "\t<tr><th scope=col>&lt;dbl&gt;</th><th scope=col>&lt;date&gt;</th><th scope=col>&lt;dbl&gt;</th><th scope=col>&lt;dbl&gt;</th><th scope=col>&lt;dbl&gt;</th><th scope=col>&lt;dbl&gt;</th><th scope=col>&lt;dbl&gt;</th><th scope=col>&lt;dbl&gt;</th><th scope=col>&lt;dbl&gt;</th><th scope=col>&lt;dbl&gt;</th><th scope=col>&lt;dbl&gt;</th><th scope=col>&lt;dbl&gt;</th><th scope=col>&lt;dbl&gt;</th><th scope=col>&lt;dbl&gt;</th><th scope=col>&lt;dbl&gt;</th><th scope=col>&lt;dbl&gt;</th><th scope=col>&lt;dbl&gt;</th></tr>\n",
       "</thead>\n",
       "<tbody>\n",
       "\t<tr><td>13309</td><td>2012-07-13</td><td>3</td><td>1</td><td> 7</td><td>17</td><td>0</td><td>5</td><td>1</td><td>2</td><td>0.80</td><td>0.7121</td><td>0.36</td><td>0.1642</td><td>138</td><td>697</td><td>835</td></tr>\n",
       "\t<tr><td>10623</td><td>2012-03-23</td><td>2</td><td>1</td><td> 3</td><td>17</td><td>0</td><td>5</td><td>1</td><td>2</td><td>0.72</td><td>0.6515</td><td>0.42</td><td>0.1642</td><td>264</td><td>693</td><td>957</td></tr>\n",
       "\t<tr><td>12542</td><td>2012-06-11</td><td>2</td><td>1</td><td> 6</td><td>18</td><td>0</td><td>1</td><td>1</td><td>2</td><td>0.80</td><td>0.7273</td><td>0.43</td><td>0.2985</td><td>105</td><td>726</td><td>831</td></tr>\n",
       "\t<tr><td>15446</td><td>2012-10-10</td><td>4</td><td>1</td><td>10</td><td>18</td><td>0</td><td>3</td><td>1</td><td>2</td><td>0.56</td><td>0.5303</td><td>0.49</td><td>0.1642</td><td> 57</td><td>787</td><td>844</td></tr>\n",
       "\t<tr><td>13933</td><td>2012-08-08</td><td>3</td><td>1</td><td> 8</td><td>17</td><td>0</td><td>3</td><td>1</td><td>2</td><td>0.80</td><td>0.7576</td><td>0.55</td><td>0.2836</td><td>107</td><td>751</td><td>858</td></tr>\n",
       "\t<tr><td>13934</td><td>2012-08-08</td><td>3</td><td>1</td><td> 8</td><td>18</td><td>0</td><td>3</td><td>1</td><td>2</td><td>0.78</td><td>0.7273</td><td>0.55</td><td>0.1642</td><td>117</td><td>745</td><td>862</td></tr>\n",
       "\t<tr><td>13909</td><td>2012-08-07</td><td>3</td><td>1</td><td> 8</td><td>17</td><td>0</td><td>2</td><td>1</td><td>2</td><td>0.78</td><td>0.7424</td><td>0.62</td><td>0.1343</td><td>125</td><td>743</td><td>868</td></tr>\n",
       "\t<tr><td>15637</td><td>2012-10-18</td><td>4</td><td>1</td><td>10</td><td>17</td><td>0</td><td>4</td><td>1</td><td>2</td><td>0.58</td><td>0.5455</td><td>0.64</td><td>0.3284</td><td>102</td><td>788</td><td>890</td></tr>\n",
       "\t<tr><td>14893</td><td>2012-09-17</td><td>3</td><td>1</td><td> 9</td><td>17</td><td>0</td><td>1</td><td>1</td><td>2</td><td>0.64</td><td>0.6061</td><td>0.65</td><td>0.2239</td><td>102</td><td>740</td><td>842</td></tr>\n",
       "\t<tr><td>15133</td><td>2012-09-27</td><td>4</td><td>1</td><td> 9</td><td>17</td><td>0</td><td>4</td><td>1</td><td>2</td><td>0.66</td><td>0.6212</td><td>0.69</td><td>0.2985</td><td> 87</td><td>818</td><td>905</td></tr>\n",
       "\t<tr><td>15134</td><td>2012-09-27</td><td>4</td><td>1</td><td> 9</td><td>18</td><td>0</td><td>4</td><td>1</td><td>2</td><td>0.66</td><td>0.6212</td><td>0.69</td><td>0.2239</td><td> 77</td><td>822</td><td>899</td></tr>\n",
       "\t<tr><td>15604</td><td>2012-10-17</td><td>4</td><td>1</td><td>10</td><td> 8</td><td>0</td><td>3</td><td>1</td><td>2</td><td>0.40</td><td>0.4091</td><td>0.76</td><td>0.0000</td><td> 38</td><td>779</td><td>817</td></tr>\n",
       "\t<tr><td>15829</td><td>2012-10-26</td><td>4</td><td>1</td><td>10</td><td>17</td><td>0</td><td>5</td><td>1</td><td>2</td><td>0.56</td><td>0.5303</td><td>0.76</td><td>0.1940</td><td>125</td><td>692</td><td>817</td></tr>\n",
       "</tbody>\n",
       "</table>\n"
      ],
      "text/latex": [
       "A spec_tbl_df: 13 × 17\n",
       "\\begin{tabular}{r|lllllllllllllllll}\n",
       " instant & dteday & season & yr & mnth & hr & holiday & weekday & workingday & weathersit & temp & atemp & hum & windspeed & casual & registered & cnt\\\\\n",
       " <dbl> & <date> & <dbl> & <dbl> & <dbl> & <dbl> & <dbl> & <dbl> & <dbl> & <dbl> & <dbl> & <dbl> & <dbl> & <dbl> & <dbl> & <dbl> & <dbl>\\\\\n",
       "\\hline\n",
       "\t 13309 & 2012-07-13 & 3 & 1 &  7 & 17 & 0 & 5 & 1 & 2 & 0.80 & 0.7121 & 0.36 & 0.1642 & 138 & 697 & 835\\\\\n",
       "\t 10623 & 2012-03-23 & 2 & 1 &  3 & 17 & 0 & 5 & 1 & 2 & 0.72 & 0.6515 & 0.42 & 0.1642 & 264 & 693 & 957\\\\\n",
       "\t 12542 & 2012-06-11 & 2 & 1 &  6 & 18 & 0 & 1 & 1 & 2 & 0.80 & 0.7273 & 0.43 & 0.2985 & 105 & 726 & 831\\\\\n",
       "\t 15446 & 2012-10-10 & 4 & 1 & 10 & 18 & 0 & 3 & 1 & 2 & 0.56 & 0.5303 & 0.49 & 0.1642 &  57 & 787 & 844\\\\\n",
       "\t 13933 & 2012-08-08 & 3 & 1 &  8 & 17 & 0 & 3 & 1 & 2 & 0.80 & 0.7576 & 0.55 & 0.2836 & 107 & 751 & 858\\\\\n",
       "\t 13934 & 2012-08-08 & 3 & 1 &  8 & 18 & 0 & 3 & 1 & 2 & 0.78 & 0.7273 & 0.55 & 0.1642 & 117 & 745 & 862\\\\\n",
       "\t 13909 & 2012-08-07 & 3 & 1 &  8 & 17 & 0 & 2 & 1 & 2 & 0.78 & 0.7424 & 0.62 & 0.1343 & 125 & 743 & 868\\\\\n",
       "\t 15637 & 2012-10-18 & 4 & 1 & 10 & 17 & 0 & 4 & 1 & 2 & 0.58 & 0.5455 & 0.64 & 0.3284 & 102 & 788 & 890\\\\\n",
       "\t 14893 & 2012-09-17 & 3 & 1 &  9 & 17 & 0 & 1 & 1 & 2 & 0.64 & 0.6061 & 0.65 & 0.2239 & 102 & 740 & 842\\\\\n",
       "\t 15133 & 2012-09-27 & 4 & 1 &  9 & 17 & 0 & 4 & 1 & 2 & 0.66 & 0.6212 & 0.69 & 0.2985 &  87 & 818 & 905\\\\\n",
       "\t 15134 & 2012-09-27 & 4 & 1 &  9 & 18 & 0 & 4 & 1 & 2 & 0.66 & 0.6212 & 0.69 & 0.2239 &  77 & 822 & 899\\\\\n",
       "\t 15604 & 2012-10-17 & 4 & 1 & 10 &  8 & 0 & 3 & 1 & 2 & 0.40 & 0.4091 & 0.76 & 0.0000 &  38 & 779 & 817\\\\\n",
       "\t 15829 & 2012-10-26 & 4 & 1 & 10 & 17 & 0 & 5 & 1 & 2 & 0.56 & 0.5303 & 0.76 & 0.1940 & 125 & 692 & 817\\\\\n",
       "\\end{tabular}\n"
      ],
      "text/markdown": [
       "\n",
       "A spec_tbl_df: 13 × 17\n",
       "\n",
       "| instant &lt;dbl&gt; | dteday &lt;date&gt; | season &lt;dbl&gt; | yr &lt;dbl&gt; | mnth &lt;dbl&gt; | hr &lt;dbl&gt; | holiday &lt;dbl&gt; | weekday &lt;dbl&gt; | workingday &lt;dbl&gt; | weathersit &lt;dbl&gt; | temp &lt;dbl&gt; | atemp &lt;dbl&gt; | hum &lt;dbl&gt; | windspeed &lt;dbl&gt; | casual &lt;dbl&gt; | registered &lt;dbl&gt; | cnt &lt;dbl&gt; |\n",
       "|---|---|---|---|---|---|---|---|---|---|---|---|---|---|---|---|---|\n",
       "| 13309 | 2012-07-13 | 3 | 1 |  7 | 17 | 0 | 5 | 1 | 2 | 0.80 | 0.7121 | 0.36 | 0.1642 | 138 | 697 | 835 |\n",
       "| 10623 | 2012-03-23 | 2 | 1 |  3 | 17 | 0 | 5 | 1 | 2 | 0.72 | 0.6515 | 0.42 | 0.1642 | 264 | 693 | 957 |\n",
       "| 12542 | 2012-06-11 | 2 | 1 |  6 | 18 | 0 | 1 | 1 | 2 | 0.80 | 0.7273 | 0.43 | 0.2985 | 105 | 726 | 831 |\n",
       "| 15446 | 2012-10-10 | 4 | 1 | 10 | 18 | 0 | 3 | 1 | 2 | 0.56 | 0.5303 | 0.49 | 0.1642 |  57 | 787 | 844 |\n",
       "| 13933 | 2012-08-08 | 3 | 1 |  8 | 17 | 0 | 3 | 1 | 2 | 0.80 | 0.7576 | 0.55 | 0.2836 | 107 | 751 | 858 |\n",
       "| 13934 | 2012-08-08 | 3 | 1 |  8 | 18 | 0 | 3 | 1 | 2 | 0.78 | 0.7273 | 0.55 | 0.1642 | 117 | 745 | 862 |\n",
       "| 13909 | 2012-08-07 | 3 | 1 |  8 | 17 | 0 | 2 | 1 | 2 | 0.78 | 0.7424 | 0.62 | 0.1343 | 125 | 743 | 868 |\n",
       "| 15637 | 2012-10-18 | 4 | 1 | 10 | 17 | 0 | 4 | 1 | 2 | 0.58 | 0.5455 | 0.64 | 0.3284 | 102 | 788 | 890 |\n",
       "| 14893 | 2012-09-17 | 3 | 1 |  9 | 17 | 0 | 1 | 1 | 2 | 0.64 | 0.6061 | 0.65 | 0.2239 | 102 | 740 | 842 |\n",
       "| 15133 | 2012-09-27 | 4 | 1 |  9 | 17 | 0 | 4 | 1 | 2 | 0.66 | 0.6212 | 0.69 | 0.2985 |  87 | 818 | 905 |\n",
       "| 15134 | 2012-09-27 | 4 | 1 |  9 | 18 | 0 | 4 | 1 | 2 | 0.66 | 0.6212 | 0.69 | 0.2239 |  77 | 822 | 899 |\n",
       "| 15604 | 2012-10-17 | 4 | 1 | 10 |  8 | 0 | 3 | 1 | 2 | 0.40 | 0.4091 | 0.76 | 0.0000 |  38 | 779 | 817 |\n",
       "| 15829 | 2012-10-26 | 4 | 1 | 10 | 17 | 0 | 5 | 1 | 2 | 0.56 | 0.5303 | 0.76 | 0.1940 | 125 | 692 | 817 |\n",
       "\n"
      ],
      "text/plain": [
       "   instant dteday     season yr mnth hr holiday weekday workingday weathersit\n",
       "1  13309   2012-07-13 3      1   7   17 0       5       1          2         \n",
       "2  10623   2012-03-23 2      1   3   17 0       5       1          2         \n",
       "3  12542   2012-06-11 2      1   6   18 0       1       1          2         \n",
       "4  15446   2012-10-10 4      1  10   18 0       3       1          2         \n",
       "5  13933   2012-08-08 3      1   8   17 0       3       1          2         \n",
       "6  13934   2012-08-08 3      1   8   18 0       3       1          2         \n",
       "7  13909   2012-08-07 3      1   8   17 0       2       1          2         \n",
       "8  15637   2012-10-18 4      1  10   17 0       4       1          2         \n",
       "9  14893   2012-09-17 3      1   9   17 0       1       1          2         \n",
       "10 15133   2012-09-27 4      1   9   17 0       4       1          2         \n",
       "11 15134   2012-09-27 4      1   9   18 0       4       1          2         \n",
       "12 15604   2012-10-17 4      1  10    8 0       3       1          2         \n",
       "13 15829   2012-10-26 4      1  10   17 0       5       1          2         \n",
       "   temp atemp  hum  windspeed casual registered cnt\n",
       "1  0.80 0.7121 0.36 0.1642    138    697        835\n",
       "2  0.72 0.6515 0.42 0.1642    264    693        957\n",
       "3  0.80 0.7273 0.43 0.2985    105    726        831\n",
       "4  0.56 0.5303 0.49 0.1642     57    787        844\n",
       "5  0.80 0.7576 0.55 0.2836    107    751        858\n",
       "6  0.78 0.7273 0.55 0.1642    117    745        862\n",
       "7  0.78 0.7424 0.62 0.1343    125    743        868\n",
       "8  0.58 0.5455 0.64 0.3284    102    788        890\n",
       "9  0.64 0.6061 0.65 0.2239    102    740        842\n",
       "10 0.66 0.6212 0.69 0.2985     87    818        905\n",
       "11 0.66 0.6212 0.69 0.2239     77    822        899\n",
       "12 0.40 0.4091 0.76 0.0000     38    779        817\n",
       "13 0.56 0.5303 0.76 0.1940    125    692        817"
      ]
     },
     "metadata": {},
     "output_type": "display_data"
    }
   ],
   "source": [
    "#defining my function \n",
    "bike_analysis <- function(bike_df, weathersit_data) \n",
    "{ bikedata_weathersit= bike_df %>% \n",
    " filter(weathersit == weathersit_data)%>%\n",
    "                     arrange(hum)%>%\n",
    "                     top_n(12)\n",
    "                return(bikedata_weathersit) }\n",
    "\n",
    "#calling my function by assigning 2 to weather sit variable i defined in my function to filter above\n",
    " bikedata_weathersit = bike_df %>% bike_analysis(2)\n",
    "\n",
    "#displaying the results of my function\n",
    " bikedata_weathersit\n"
   ]
  },
  {
   "cell_type": "markdown",
   "metadata": {},
   "source": [
    "### Task (c): working on columns (10 marks)\n",
    "\n",
    "Working on `bike_df`, show that you can operate on columns: selecting some of them, dropping other, renaming them, reordering them, ...\n",
    "\n",
    "\n",
    "_hint_ useful functions: `select()`, `rename()`, ..."
   ]
  },
  {
   "cell_type": "markdown",
   "metadata": {},
   "source": [
    "function colnames gives all the names of columns. We have 17 columns.\n"
   ]
  },
  {
   "cell_type": "code",
   "execution_count": 18,
   "metadata": {},
   "outputs": [
    {
     "data": {
      "text/html": [
       "<ol class=list-inline>\n",
       "\t<li>'instant'</li>\n",
       "\t<li>'dteday'</li>\n",
       "\t<li>'season'</li>\n",
       "\t<li>'yr'</li>\n",
       "\t<li>'mnth'</li>\n",
       "\t<li>'hr'</li>\n",
       "\t<li>'holiday'</li>\n",
       "\t<li>'weekday'</li>\n",
       "\t<li>'workingday'</li>\n",
       "\t<li>'weathersit'</li>\n",
       "\t<li>'temp'</li>\n",
       "\t<li>'atemp'</li>\n",
       "\t<li>'hum'</li>\n",
       "\t<li>'windspeed'</li>\n",
       "\t<li>'casual'</li>\n",
       "\t<li>'registered'</li>\n",
       "\t<li>'cnt'</li>\n",
       "</ol>\n"
      ],
      "text/latex": [
       "\\begin{enumerate*}\n",
       "\\item 'instant'\n",
       "\\item 'dteday'\n",
       "\\item 'season'\n",
       "\\item 'yr'\n",
       "\\item 'mnth'\n",
       "\\item 'hr'\n",
       "\\item 'holiday'\n",
       "\\item 'weekday'\n",
       "\\item 'workingday'\n",
       "\\item 'weathersit'\n",
       "\\item 'temp'\n",
       "\\item 'atemp'\n",
       "\\item 'hum'\n",
       "\\item 'windspeed'\n",
       "\\item 'casual'\n",
       "\\item 'registered'\n",
       "\\item 'cnt'\n",
       "\\end{enumerate*}\n"
      ],
      "text/markdown": [
       "1. 'instant'\n",
       "2. 'dteday'\n",
       "3. 'season'\n",
       "4. 'yr'\n",
       "5. 'mnth'\n",
       "6. 'hr'\n",
       "7. 'holiday'\n",
       "8. 'weekday'\n",
       "9. 'workingday'\n",
       "10. 'weathersit'\n",
       "11. 'temp'\n",
       "12. 'atemp'\n",
       "13. 'hum'\n",
       "14. 'windspeed'\n",
       "15. 'casual'\n",
       "16. 'registered'\n",
       "17. 'cnt'\n",
       "\n",
       "\n"
      ],
      "text/plain": [
       " [1] \"instant\"    \"dteday\"     \"season\"     \"yr\"         \"mnth\"      \n",
       " [6] \"hr\"         \"holiday\"    \"weekday\"    \"workingday\" \"weathersit\"\n",
       "[11] \"temp\"       \"atemp\"      \"hum\"        \"windspeed\"  \"casual\"    \n",
       "[16] \"registered\" \"cnt\"       "
      ]
     },
     "metadata": {},
     "output_type": "display_data"
    }
   ],
   "source": [
    "bike_df %>%\n",
    "colnames"
   ]
  },
  {
   "cell_type": "markdown",
   "metadata": {},
   "source": [
    "Selecting columns using the col names temp and windspeed\n",
    "\n"
   ]
  },
  {
   "cell_type": "code",
   "execution_count": 19,
   "metadata": {},
   "outputs": [
    {
     "data": {
      "text/html": [
       "<table>\n",
       "<caption>A spec_tbl_df: 11 × 2</caption>\n",
       "<thead>\n",
       "\t<tr><th scope=col>temp</th><th scope=col>windspeed</th></tr>\n",
       "\t<tr><th scope=col>&lt;dbl&gt;</th><th scope=col>&lt;dbl&gt;</th></tr>\n",
       "</thead>\n",
       "<tbody>\n",
       "\t<tr><td>0.32</td><td>0.0000</td></tr>\n",
       "\t<tr><td>0.38</td><td>0.2537</td></tr>\n",
       "\t<tr><td>0.36</td><td>0.2836</td></tr>\n",
       "\t<tr><td>0.42</td><td>0.2836</td></tr>\n",
       "\t<tr><td>0.46</td><td>0.2985</td></tr>\n",
       "\t<tr><td>0.46</td><td>0.2836</td></tr>\n",
       "\t<tr><td>0.44</td><td>0.2985</td></tr>\n",
       "\t<tr><td>0.42</td><td>0.2985</td></tr>\n",
       "\t<tr><td>0.44</td><td>0.2836</td></tr>\n",
       "\t<tr><td>0.42</td><td>0.2537</td></tr>\n",
       "\t<tr><td>0.42</td><td>0.2537</td></tr>\n",
       "</tbody>\n",
       "</table>\n"
      ],
      "text/latex": [
       "A spec_tbl_df: 11 × 2\n",
       "\\begin{tabular}{r|ll}\n",
       " temp & windspeed\\\\\n",
       " <dbl> & <dbl>\\\\\n",
       "\\hline\n",
       "\t 0.32 & 0.0000\\\\\n",
       "\t 0.38 & 0.2537\\\\\n",
       "\t 0.36 & 0.2836\\\\\n",
       "\t 0.42 & 0.2836\\\\\n",
       "\t 0.46 & 0.2985\\\\\n",
       "\t 0.46 & 0.2836\\\\\n",
       "\t 0.44 & 0.2985\\\\\n",
       "\t 0.42 & 0.2985\\\\\n",
       "\t 0.44 & 0.2836\\\\\n",
       "\t 0.42 & 0.2537\\\\\n",
       "\t 0.42 & 0.2537\\\\\n",
       "\\end{tabular}\n"
      ],
      "text/markdown": [
       "\n",
       "A spec_tbl_df: 11 × 2\n",
       "\n",
       "| temp &lt;dbl&gt; | windspeed &lt;dbl&gt; |\n",
       "|---|---|\n",
       "| 0.32 | 0.0000 |\n",
       "| 0.38 | 0.2537 |\n",
       "| 0.36 | 0.2836 |\n",
       "| 0.42 | 0.2836 |\n",
       "| 0.46 | 0.2985 |\n",
       "| 0.46 | 0.2836 |\n",
       "| 0.44 | 0.2985 |\n",
       "| 0.42 | 0.2985 |\n",
       "| 0.44 | 0.2836 |\n",
       "| 0.42 | 0.2537 |\n",
       "| 0.42 | 0.2537 |\n",
       "\n"
      ],
      "text/plain": [
       "   temp windspeed\n",
       "1  0.32 0.0000   \n",
       "2  0.38 0.2537   \n",
       "3  0.36 0.2836   \n",
       "4  0.42 0.2836   \n",
       "5  0.46 0.2985   \n",
       "6  0.46 0.2836   \n",
       "7  0.44 0.2985   \n",
       "8  0.42 0.2985   \n",
       "9  0.44 0.2836   \n",
       "10 0.42 0.2537   \n",
       "11 0.42 0.2537   "
      ]
     },
     "metadata": {},
     "output_type": "display_data"
    }
   ],
   "source": [
    "bike_df %>%\n",
    "select(temp,windspeed) %>%\n",
    "slice(10:20)"
   ]
  },
  {
   "cell_type": "markdown",
   "metadata": {},
   "source": [
    "selecting columns by giving column index from 15:17 "
   ]
  },
  {
   "cell_type": "code",
   "execution_count": 20,
   "metadata": {},
   "outputs": [
    {
     "data": {
      "text/html": [
       "<table>\n",
       "<caption>A spec_tbl_df: 21 × 3</caption>\n",
       "<thead>\n",
       "\t<tr><th scope=col>casual</th><th scope=col>registered</th><th scope=col>cnt</th></tr>\n",
       "\t<tr><th scope=col>&lt;dbl&gt;</th><th scope=col>&lt;dbl&gt;</th><th scope=col>&lt;dbl&gt;</th></tr>\n",
       "</thead>\n",
       "<tbody>\n",
       "\t<tr><td>64</td><td>275</td><td>339</td></tr>\n",
       "\t<tr><td>46</td><td>241</td><td>287</td></tr>\n",
       "\t<tr><td>17</td><td>199</td><td>216</td></tr>\n",
       "\t<tr><td>13</td><td>130</td><td>143</td></tr>\n",
       "\t<tr><td> 9</td><td> 79</td><td> 88</td></tr>\n",
       "\t<tr><td> 8</td><td> 75</td><td> 83</td></tr>\n",
       "\t<tr><td> 3</td><td> 68</td><td> 71</td></tr>\n",
       "\t<tr><td> 5</td><td> 59</td><td> 64</td></tr>\n",
       "\t<tr><td> 2</td><td> 27</td><td> 29</td></tr>\n",
       "\t<tr><td> 0</td><td>  6</td><td>  6</td></tr>\n",
       "\t<tr><td> 0</td><td>  4</td><td>  4</td></tr>\n",
       "\t<tr><td> 0</td><td>  2</td><td>  2</td></tr>\n",
       "\t<tr><td> 0</td><td>  1</td><td>  1</td></tr>\n",
       "\t<tr><td> 0</td><td> 16</td><td> 16</td></tr>\n",
       "\t<tr><td> 1</td><td> 89</td><td> 90</td></tr>\n",
       "\t<tr><td> 2</td><td>278</td><td>280</td></tr>\n",
       "\t<tr><td>14</td><td>514</td><td>528</td></tr>\n",
       "\t<tr><td>11</td><td>219</td><td>230</td></tr>\n",
       "\t<tr><td>16</td><td> 88</td><td>104</td></tr>\n",
       "\t<tr><td>11</td><td> 92</td><td>103</td></tr>\n",
       "\t<tr><td>13</td><td>164</td><td>177</td></tr>\n",
       "</tbody>\n",
       "</table>\n"
      ],
      "text/latex": [
       "A spec_tbl_df: 21 × 3\n",
       "\\begin{tabular}{r|lll}\n",
       " casual & registered & cnt\\\\\n",
       " <dbl> & <dbl> & <dbl>\\\\\n",
       "\\hline\n",
       "\t 64 & 275 & 339\\\\\n",
       "\t 46 & 241 & 287\\\\\n",
       "\t 17 & 199 & 216\\\\\n",
       "\t 13 & 130 & 143\\\\\n",
       "\t  9 &  79 &  88\\\\\n",
       "\t  8 &  75 &  83\\\\\n",
       "\t  3 &  68 &  71\\\\\n",
       "\t  5 &  59 &  64\\\\\n",
       "\t  2 &  27 &  29\\\\\n",
       "\t  0 &   6 &   6\\\\\n",
       "\t  0 &   4 &   4\\\\\n",
       "\t  0 &   2 &   2\\\\\n",
       "\t  0 &   1 &   1\\\\\n",
       "\t  0 &  16 &  16\\\\\n",
       "\t  1 &  89 &  90\\\\\n",
       "\t  2 & 278 & 280\\\\\n",
       "\t 14 & 514 & 528\\\\\n",
       "\t 11 & 219 & 230\\\\\n",
       "\t 16 &  88 & 104\\\\\n",
       "\t 11 &  92 & 103\\\\\n",
       "\t 13 & 164 & 177\\\\\n",
       "\\end{tabular}\n"
      ],
      "text/markdown": [
       "\n",
       "A spec_tbl_df: 21 × 3\n",
       "\n",
       "| casual &lt;dbl&gt; | registered &lt;dbl&gt; | cnt &lt;dbl&gt; |\n",
       "|---|---|---|\n",
       "| 64 | 275 | 339 |\n",
       "| 46 | 241 | 287 |\n",
       "| 17 | 199 | 216 |\n",
       "| 13 | 130 | 143 |\n",
       "|  9 |  79 |  88 |\n",
       "|  8 |  75 |  83 |\n",
       "|  3 |  68 |  71 |\n",
       "|  5 |  59 |  64 |\n",
       "|  2 |  27 |  29 |\n",
       "|  0 |   6 |   6 |\n",
       "|  0 |   4 |   4 |\n",
       "|  0 |   2 |   2 |\n",
       "|  0 |   1 |   1 |\n",
       "|  0 |  16 |  16 |\n",
       "|  1 |  89 |  90 |\n",
       "|  2 | 278 | 280 |\n",
       "| 14 | 514 | 528 |\n",
       "| 11 | 219 | 230 |\n",
       "| 16 |  88 | 104 |\n",
       "| 11 |  92 | 103 |\n",
       "| 13 | 164 | 177 |\n",
       "\n"
      ],
      "text/plain": [
       "   casual registered cnt\n",
       "1  64     275        339\n",
       "2  46     241        287\n",
       "3  17     199        216\n",
       "4  13     130        143\n",
       "5   9      79         88\n",
       "6   8      75         83\n",
       "7   3      68         71\n",
       "8   5      59         64\n",
       "9   2      27         29\n",
       "10  0       6          6\n",
       "11  0       4          4\n",
       "12  0       2          2\n",
       "13  0       1          1\n",
       "14  0      16         16\n",
       "15  1      89         90\n",
       "16  2     278        280\n",
       "17 14     514        528\n",
       "18 11     219        230\n",
       "19 16      88        104\n",
       "20 11      92        103\n",
       "21 13     164        177"
      ]
     },
     "metadata": {},
     "output_type": "display_data"
    }
   ],
   "source": [
    "bike_df %>%\n",
    "select(15:17)%>%\n",
    "slice(10000:10020)"
   ]
  },
  {
   "cell_type": "markdown",
   "metadata": {},
   "source": [
    "selecting all columns excpet the one's which end with y. 13 out of 17 column don't end up with y  \n",
    "selected in the output"
   ]
  },
  {
   "cell_type": "code",
   "execution_count": 21,
   "metadata": {},
   "outputs": [
    {
     "data": {
      "text/html": [
       "<table>\n",
       "<caption>A spec_tbl_df: 11 × 13</caption>\n",
       "<thead>\n",
       "\t<tr><th scope=col>instant</th><th scope=col>season</th><th scope=col>yr</th><th scope=col>mnth</th><th scope=col>hr</th><th scope=col>weathersit</th><th scope=col>temp</th><th scope=col>atemp</th><th scope=col>hum</th><th scope=col>windspeed</th><th scope=col>casual</th><th scope=col>registered</th><th scope=col>cnt</th></tr>\n",
       "\t<tr><th scope=col>&lt;dbl&gt;</th><th scope=col>&lt;dbl&gt;</th><th scope=col>&lt;dbl&gt;</th><th scope=col>&lt;dbl&gt;</th><th scope=col>&lt;dbl&gt;</th><th scope=col>&lt;dbl&gt;</th><th scope=col>&lt;dbl&gt;</th><th scope=col>&lt;dbl&gt;</th><th scope=col>&lt;dbl&gt;</th><th scope=col>&lt;dbl&gt;</th><th scope=col>&lt;dbl&gt;</th><th scope=col>&lt;dbl&gt;</th><th scope=col>&lt;dbl&gt;</th></tr>\n",
       "</thead>\n",
       "<tbody>\n",
       "\t<tr><td>15000</td><td>3</td><td>1</td><td>9</td><td> 4</td><td>1</td><td>0.56</td><td>0.5303</td><td>0.83</td><td>0.2836</td><td>  5</td><td> 10</td><td> 15</td></tr>\n",
       "\t<tr><td>15001</td><td>3</td><td>1</td><td>9</td><td> 5</td><td>1</td><td>0.56</td><td>0.5303</td><td>0.83</td><td>0.3284</td><td>  2</td><td> 15</td><td> 17</td></tr>\n",
       "\t<tr><td>15002</td><td>3</td><td>1</td><td>9</td><td> 6</td><td>1</td><td>0.56</td><td>0.5303</td><td>0.83</td><td>0.2985</td><td>  6</td><td> 35</td><td> 41</td></tr>\n",
       "\t<tr><td>15003</td><td>3</td><td>1</td><td>9</td><td> 7</td><td>1</td><td>0.58</td><td>0.5455</td><td>0.78</td><td>0.2537</td><td>  7</td><td> 70</td><td> 77</td></tr>\n",
       "\t<tr><td>15004</td><td>3</td><td>1</td><td>9</td><td> 8</td><td>1</td><td>0.60</td><td>0.5909</td><td>0.73</td><td>0.2985</td><td> 21</td><td>197</td><td>218</td></tr>\n",
       "\t<tr><td>15005</td><td>3</td><td>1</td><td>9</td><td> 9</td><td>1</td><td>0.64</td><td>0.6061</td><td>0.69</td><td>0.2537</td><td> 88</td><td>289</td><td>377</td></tr>\n",
       "\t<tr><td>15006</td><td>3</td><td>1</td><td>9</td><td>10</td><td>1</td><td>0.66</td><td>0.6212</td><td>0.65</td><td>0.3284</td><td>124</td><td>350</td><td>474</td></tr>\n",
       "\t<tr><td>15007</td><td>3</td><td>1</td><td>9</td><td>11</td><td>1</td><td>0.70</td><td>0.6515</td><td>0.58</td><td>0.2836</td><td>189</td><td>437</td><td>626</td></tr>\n",
       "\t<tr><td>15008</td><td>3</td><td>1</td><td>9</td><td>12</td><td>1</td><td>0.72</td><td>0.6667</td><td>0.54</td><td>0.2985</td><td>228</td><td>460</td><td>688</td></tr>\n",
       "\t<tr><td>15009</td><td>3</td><td>1</td><td>9</td><td>13</td><td>1</td><td>0.74</td><td>0.6667</td><td>0.51</td><td>0.3582</td><td>273</td><td>434</td><td>707</td></tr>\n",
       "\t<tr><td>15010</td><td>3</td><td>1</td><td>9</td><td>14</td><td>1</td><td>0.76</td><td>0.6818</td><td>0.48</td><td>0.2836</td><td>250</td><td>404</td><td>654</td></tr>\n",
       "</tbody>\n",
       "</table>\n"
      ],
      "text/latex": [
       "A spec_tbl_df: 11 × 13\n",
       "\\begin{tabular}{r|lllllllllllll}\n",
       " instant & season & yr & mnth & hr & weathersit & temp & atemp & hum & windspeed & casual & registered & cnt\\\\\n",
       " <dbl> & <dbl> & <dbl> & <dbl> & <dbl> & <dbl> & <dbl> & <dbl> & <dbl> & <dbl> & <dbl> & <dbl> & <dbl>\\\\\n",
       "\\hline\n",
       "\t 15000 & 3 & 1 & 9 &  4 & 1 & 0.56 & 0.5303 & 0.83 & 0.2836 &   5 &  10 &  15\\\\\n",
       "\t 15001 & 3 & 1 & 9 &  5 & 1 & 0.56 & 0.5303 & 0.83 & 0.3284 &   2 &  15 &  17\\\\\n",
       "\t 15002 & 3 & 1 & 9 &  6 & 1 & 0.56 & 0.5303 & 0.83 & 0.2985 &   6 &  35 &  41\\\\\n",
       "\t 15003 & 3 & 1 & 9 &  7 & 1 & 0.58 & 0.5455 & 0.78 & 0.2537 &   7 &  70 &  77\\\\\n",
       "\t 15004 & 3 & 1 & 9 &  8 & 1 & 0.60 & 0.5909 & 0.73 & 0.2985 &  21 & 197 & 218\\\\\n",
       "\t 15005 & 3 & 1 & 9 &  9 & 1 & 0.64 & 0.6061 & 0.69 & 0.2537 &  88 & 289 & 377\\\\\n",
       "\t 15006 & 3 & 1 & 9 & 10 & 1 & 0.66 & 0.6212 & 0.65 & 0.3284 & 124 & 350 & 474\\\\\n",
       "\t 15007 & 3 & 1 & 9 & 11 & 1 & 0.70 & 0.6515 & 0.58 & 0.2836 & 189 & 437 & 626\\\\\n",
       "\t 15008 & 3 & 1 & 9 & 12 & 1 & 0.72 & 0.6667 & 0.54 & 0.2985 & 228 & 460 & 688\\\\\n",
       "\t 15009 & 3 & 1 & 9 & 13 & 1 & 0.74 & 0.6667 & 0.51 & 0.3582 & 273 & 434 & 707\\\\\n",
       "\t 15010 & 3 & 1 & 9 & 14 & 1 & 0.76 & 0.6818 & 0.48 & 0.2836 & 250 & 404 & 654\\\\\n",
       "\\end{tabular}\n"
      ],
      "text/markdown": [
       "\n",
       "A spec_tbl_df: 11 × 13\n",
       "\n",
       "| instant &lt;dbl&gt; | season &lt;dbl&gt; | yr &lt;dbl&gt; | mnth &lt;dbl&gt; | hr &lt;dbl&gt; | weathersit &lt;dbl&gt; | temp &lt;dbl&gt; | atemp &lt;dbl&gt; | hum &lt;dbl&gt; | windspeed &lt;dbl&gt; | casual &lt;dbl&gt; | registered &lt;dbl&gt; | cnt &lt;dbl&gt; |\n",
       "|---|---|---|---|---|---|---|---|---|---|---|---|---|\n",
       "| 15000 | 3 | 1 | 9 |  4 | 1 | 0.56 | 0.5303 | 0.83 | 0.2836 |   5 |  10 |  15 |\n",
       "| 15001 | 3 | 1 | 9 |  5 | 1 | 0.56 | 0.5303 | 0.83 | 0.3284 |   2 |  15 |  17 |\n",
       "| 15002 | 3 | 1 | 9 |  6 | 1 | 0.56 | 0.5303 | 0.83 | 0.2985 |   6 |  35 |  41 |\n",
       "| 15003 | 3 | 1 | 9 |  7 | 1 | 0.58 | 0.5455 | 0.78 | 0.2537 |   7 |  70 |  77 |\n",
       "| 15004 | 3 | 1 | 9 |  8 | 1 | 0.60 | 0.5909 | 0.73 | 0.2985 |  21 | 197 | 218 |\n",
       "| 15005 | 3 | 1 | 9 |  9 | 1 | 0.64 | 0.6061 | 0.69 | 0.2537 |  88 | 289 | 377 |\n",
       "| 15006 | 3 | 1 | 9 | 10 | 1 | 0.66 | 0.6212 | 0.65 | 0.3284 | 124 | 350 | 474 |\n",
       "| 15007 | 3 | 1 | 9 | 11 | 1 | 0.70 | 0.6515 | 0.58 | 0.2836 | 189 | 437 | 626 |\n",
       "| 15008 | 3 | 1 | 9 | 12 | 1 | 0.72 | 0.6667 | 0.54 | 0.2985 | 228 | 460 | 688 |\n",
       "| 15009 | 3 | 1 | 9 | 13 | 1 | 0.74 | 0.6667 | 0.51 | 0.3582 | 273 | 434 | 707 |\n",
       "| 15010 | 3 | 1 | 9 | 14 | 1 | 0.76 | 0.6818 | 0.48 | 0.2836 | 250 | 404 | 654 |\n",
       "\n"
      ],
      "text/plain": [
       "   instant season yr mnth hr weathersit temp atemp  hum  windspeed casual\n",
       "1  15000   3      1  9     4 1          0.56 0.5303 0.83 0.2836      5   \n",
       "2  15001   3      1  9     5 1          0.56 0.5303 0.83 0.3284      2   \n",
       "3  15002   3      1  9     6 1          0.56 0.5303 0.83 0.2985      6   \n",
       "4  15003   3      1  9     7 1          0.58 0.5455 0.78 0.2537      7   \n",
       "5  15004   3      1  9     8 1          0.60 0.5909 0.73 0.2985     21   \n",
       "6  15005   3      1  9     9 1          0.64 0.6061 0.69 0.2537     88   \n",
       "7  15006   3      1  9    10 1          0.66 0.6212 0.65 0.3284    124   \n",
       "8  15007   3      1  9    11 1          0.70 0.6515 0.58 0.2836    189   \n",
       "9  15008   3      1  9    12 1          0.72 0.6667 0.54 0.2985    228   \n",
       "10 15009   3      1  9    13 1          0.74 0.6667 0.51 0.3582    273   \n",
       "11 15010   3      1  9    14 1          0.76 0.6818 0.48 0.2836    250   \n",
       "   registered cnt\n",
       "1   10         15\n",
       "2   15         17\n",
       "3   35         41\n",
       "4   70         77\n",
       "5  197        218\n",
       "6  289        377\n",
       "7  350        474\n",
       "8  437        626\n",
       "9  460        688\n",
       "10 434        707\n",
       "11 404        654"
      ]
     },
     "metadata": {},
     "output_type": "display_data"
    }
   ],
   "source": [
    "bike_df %>%\n",
    "select(-ends_with(\"y\")) %>%\n",
    "slice(15000:15010)"
   ]
  },
  {
   "cell_type": "markdown",
   "metadata": {},
   "source": [
    "Used the rename function to rename yr as year"
   ]
  },
  {
   "cell_type": "code",
   "execution_count": 22,
   "metadata": {},
   "outputs": [
    {
     "data": {
      "text/html": [
       "<table>\n",
       "<caption>A tibble: 10 × 17</caption>\n",
       "<thead>\n",
       "\t<tr><th scope=col>instant</th><th scope=col>dteday</th><th scope=col>season</th><th scope=col>year</th><th scope=col>mnth</th><th scope=col>hr</th><th scope=col>holiday</th><th scope=col>weekday</th><th scope=col>workingday</th><th scope=col>weathersit</th><th scope=col>temp</th><th scope=col>atemp</th><th scope=col>hum</th><th scope=col>windspeed</th><th scope=col>casual</th><th scope=col>registered</th><th scope=col>cnt</th></tr>\n",
       "\t<tr><th scope=col>&lt;dbl&gt;</th><th scope=col>&lt;date&gt;</th><th scope=col>&lt;dbl&gt;</th><th scope=col>&lt;dbl&gt;</th><th scope=col>&lt;dbl&gt;</th><th scope=col>&lt;dbl&gt;</th><th scope=col>&lt;dbl&gt;</th><th scope=col>&lt;dbl&gt;</th><th scope=col>&lt;dbl&gt;</th><th scope=col>&lt;dbl&gt;</th><th scope=col>&lt;dbl&gt;</th><th scope=col>&lt;dbl&gt;</th><th scope=col>&lt;dbl&gt;</th><th scope=col>&lt;dbl&gt;</th><th scope=col>&lt;dbl&gt;</th><th scope=col>&lt;dbl&gt;</th><th scope=col>&lt;dbl&gt;</th></tr>\n",
       "</thead>\n",
       "<tbody>\n",
       "\t<tr><td> 1</td><td>2011-01-01</td><td>1</td><td>0</td><td>1</td><td>0</td><td>0</td><td>6</td><td>0</td><td>1</td><td>0.24</td><td>0.2879</td><td>0.81</td><td>0.0000</td><td>3</td><td>13</td><td>16</td></tr>\n",
       "\t<tr><td> 2</td><td>2011-01-01</td><td>1</td><td>0</td><td>1</td><td>1</td><td>0</td><td>6</td><td>0</td><td>1</td><td>0.22</td><td>0.2727</td><td>0.80</td><td>0.0000</td><td>8</td><td>32</td><td>40</td></tr>\n",
       "\t<tr><td> 3</td><td>2011-01-01</td><td>1</td><td>0</td><td>1</td><td>2</td><td>0</td><td>6</td><td>0</td><td>1</td><td>0.22</td><td>0.2727</td><td>0.80</td><td>0.0000</td><td>5</td><td>27</td><td>32</td></tr>\n",
       "\t<tr><td> 4</td><td>2011-01-01</td><td>1</td><td>0</td><td>1</td><td>3</td><td>0</td><td>6</td><td>0</td><td>1</td><td>0.24</td><td>0.2879</td><td>0.75</td><td>0.0000</td><td>3</td><td>10</td><td>13</td></tr>\n",
       "\t<tr><td> 5</td><td>2011-01-01</td><td>1</td><td>0</td><td>1</td><td>4</td><td>0</td><td>6</td><td>0</td><td>1</td><td>0.24</td><td>0.2879</td><td>0.75</td><td>0.0000</td><td>0</td><td> 1</td><td> 1</td></tr>\n",
       "\t<tr><td> 6</td><td>2011-01-01</td><td>1</td><td>0</td><td>1</td><td>5</td><td>0</td><td>6</td><td>0</td><td>2</td><td>0.24</td><td>0.2576</td><td>0.75</td><td>0.0896</td><td>0</td><td> 1</td><td> 1</td></tr>\n",
       "\t<tr><td> 7</td><td>2011-01-01</td><td>1</td><td>0</td><td>1</td><td>6</td><td>0</td><td>6</td><td>0</td><td>1</td><td>0.22</td><td>0.2727</td><td>0.80</td><td>0.0000</td><td>2</td><td> 0</td><td> 2</td></tr>\n",
       "\t<tr><td> 8</td><td>2011-01-01</td><td>1</td><td>0</td><td>1</td><td>7</td><td>0</td><td>6</td><td>0</td><td>1</td><td>0.20</td><td>0.2576</td><td>0.86</td><td>0.0000</td><td>1</td><td> 2</td><td> 3</td></tr>\n",
       "\t<tr><td> 9</td><td>2011-01-01</td><td>1</td><td>0</td><td>1</td><td>8</td><td>0</td><td>6</td><td>0</td><td>1</td><td>0.24</td><td>0.2879</td><td>0.75</td><td>0.0000</td><td>1</td><td> 7</td><td> 8</td></tr>\n",
       "\t<tr><td>10</td><td>2011-01-01</td><td>1</td><td>0</td><td>1</td><td>9</td><td>0</td><td>6</td><td>0</td><td>1</td><td>0.32</td><td>0.3485</td><td>0.76</td><td>0.0000</td><td>8</td><td> 6</td><td>14</td></tr>\n",
       "</tbody>\n",
       "</table>\n"
      ],
      "text/latex": [
       "A tibble: 10 × 17\n",
       "\\begin{tabular}{r|lllllllllllllllll}\n",
       " instant & dteday & season & year & mnth & hr & holiday & weekday & workingday & weathersit & temp & atemp & hum & windspeed & casual & registered & cnt\\\\\n",
       " <dbl> & <date> & <dbl> & <dbl> & <dbl> & <dbl> & <dbl> & <dbl> & <dbl> & <dbl> & <dbl> & <dbl> & <dbl> & <dbl> & <dbl> & <dbl> & <dbl>\\\\\n",
       "\\hline\n",
       "\t  1 & 2011-01-01 & 1 & 0 & 1 & 0 & 0 & 6 & 0 & 1 & 0.24 & 0.2879 & 0.81 & 0.0000 & 3 & 13 & 16\\\\\n",
       "\t  2 & 2011-01-01 & 1 & 0 & 1 & 1 & 0 & 6 & 0 & 1 & 0.22 & 0.2727 & 0.80 & 0.0000 & 8 & 32 & 40\\\\\n",
       "\t  3 & 2011-01-01 & 1 & 0 & 1 & 2 & 0 & 6 & 0 & 1 & 0.22 & 0.2727 & 0.80 & 0.0000 & 5 & 27 & 32\\\\\n",
       "\t  4 & 2011-01-01 & 1 & 0 & 1 & 3 & 0 & 6 & 0 & 1 & 0.24 & 0.2879 & 0.75 & 0.0000 & 3 & 10 & 13\\\\\n",
       "\t  5 & 2011-01-01 & 1 & 0 & 1 & 4 & 0 & 6 & 0 & 1 & 0.24 & 0.2879 & 0.75 & 0.0000 & 0 &  1 &  1\\\\\n",
       "\t  6 & 2011-01-01 & 1 & 0 & 1 & 5 & 0 & 6 & 0 & 2 & 0.24 & 0.2576 & 0.75 & 0.0896 & 0 &  1 &  1\\\\\n",
       "\t  7 & 2011-01-01 & 1 & 0 & 1 & 6 & 0 & 6 & 0 & 1 & 0.22 & 0.2727 & 0.80 & 0.0000 & 2 &  0 &  2\\\\\n",
       "\t  8 & 2011-01-01 & 1 & 0 & 1 & 7 & 0 & 6 & 0 & 1 & 0.20 & 0.2576 & 0.86 & 0.0000 & 1 &  2 &  3\\\\\n",
       "\t  9 & 2011-01-01 & 1 & 0 & 1 & 8 & 0 & 6 & 0 & 1 & 0.24 & 0.2879 & 0.75 & 0.0000 & 1 &  7 &  8\\\\\n",
       "\t 10 & 2011-01-01 & 1 & 0 & 1 & 9 & 0 & 6 & 0 & 1 & 0.32 & 0.3485 & 0.76 & 0.0000 & 8 &  6 & 14\\\\\n",
       "\\end{tabular}\n"
      ],
      "text/markdown": [
       "\n",
       "A tibble: 10 × 17\n",
       "\n",
       "| instant &lt;dbl&gt; | dteday &lt;date&gt; | season &lt;dbl&gt; | year &lt;dbl&gt; | mnth &lt;dbl&gt; | hr &lt;dbl&gt; | holiday &lt;dbl&gt; | weekday &lt;dbl&gt; | workingday &lt;dbl&gt; | weathersit &lt;dbl&gt; | temp &lt;dbl&gt; | atemp &lt;dbl&gt; | hum &lt;dbl&gt; | windspeed &lt;dbl&gt; | casual &lt;dbl&gt; | registered &lt;dbl&gt; | cnt &lt;dbl&gt; |\n",
       "|---|---|---|---|---|---|---|---|---|---|---|---|---|---|---|---|---|\n",
       "|  1 | 2011-01-01 | 1 | 0 | 1 | 0 | 0 | 6 | 0 | 1 | 0.24 | 0.2879 | 0.81 | 0.0000 | 3 | 13 | 16 |\n",
       "|  2 | 2011-01-01 | 1 | 0 | 1 | 1 | 0 | 6 | 0 | 1 | 0.22 | 0.2727 | 0.80 | 0.0000 | 8 | 32 | 40 |\n",
       "|  3 | 2011-01-01 | 1 | 0 | 1 | 2 | 0 | 6 | 0 | 1 | 0.22 | 0.2727 | 0.80 | 0.0000 | 5 | 27 | 32 |\n",
       "|  4 | 2011-01-01 | 1 | 0 | 1 | 3 | 0 | 6 | 0 | 1 | 0.24 | 0.2879 | 0.75 | 0.0000 | 3 | 10 | 13 |\n",
       "|  5 | 2011-01-01 | 1 | 0 | 1 | 4 | 0 | 6 | 0 | 1 | 0.24 | 0.2879 | 0.75 | 0.0000 | 0 |  1 |  1 |\n",
       "|  6 | 2011-01-01 | 1 | 0 | 1 | 5 | 0 | 6 | 0 | 2 | 0.24 | 0.2576 | 0.75 | 0.0896 | 0 |  1 |  1 |\n",
       "|  7 | 2011-01-01 | 1 | 0 | 1 | 6 | 0 | 6 | 0 | 1 | 0.22 | 0.2727 | 0.80 | 0.0000 | 2 |  0 |  2 |\n",
       "|  8 | 2011-01-01 | 1 | 0 | 1 | 7 | 0 | 6 | 0 | 1 | 0.20 | 0.2576 | 0.86 | 0.0000 | 1 |  2 |  3 |\n",
       "|  9 | 2011-01-01 | 1 | 0 | 1 | 8 | 0 | 6 | 0 | 1 | 0.24 | 0.2879 | 0.75 | 0.0000 | 1 |  7 |  8 |\n",
       "| 10 | 2011-01-01 | 1 | 0 | 1 | 9 | 0 | 6 | 0 | 1 | 0.32 | 0.3485 | 0.76 | 0.0000 | 8 |  6 | 14 |\n",
       "\n"
      ],
      "text/plain": [
       "   instant dteday     season year mnth hr holiday weekday workingday weathersit\n",
       "1   1      2011-01-01 1      0    1    0  0       6       0          1         \n",
       "2   2      2011-01-01 1      0    1    1  0       6       0          1         \n",
       "3   3      2011-01-01 1      0    1    2  0       6       0          1         \n",
       "4   4      2011-01-01 1      0    1    3  0       6       0          1         \n",
       "5   5      2011-01-01 1      0    1    4  0       6       0          1         \n",
       "6   6      2011-01-01 1      0    1    5  0       6       0          2         \n",
       "7   7      2011-01-01 1      0    1    6  0       6       0          1         \n",
       "8   8      2011-01-01 1      0    1    7  0       6       0          1         \n",
       "9   9      2011-01-01 1      0    1    8  0       6       0          1         \n",
       "10 10      2011-01-01 1      0    1    9  0       6       0          1         \n",
       "   temp atemp  hum  windspeed casual registered cnt\n",
       "1  0.24 0.2879 0.81 0.0000    3      13         16 \n",
       "2  0.22 0.2727 0.80 0.0000    8      32         40 \n",
       "3  0.22 0.2727 0.80 0.0000    5      27         32 \n",
       "4  0.24 0.2879 0.75 0.0000    3      10         13 \n",
       "5  0.24 0.2879 0.75 0.0000    0       1          1 \n",
       "6  0.24 0.2576 0.75 0.0896    0       1          1 \n",
       "7  0.22 0.2727 0.80 0.0000    2       0          2 \n",
       "8  0.20 0.2576 0.86 0.0000    1       2          3 \n",
       "9  0.24 0.2879 0.75 0.0000    1       7          8 \n",
       "10 0.32 0.3485 0.76 0.0000    8       6         14 "
      ]
     },
     "metadata": {},
     "output_type": "display_data"
    }
   ],
   "source": [
    "bike_df %>%\n",
    " rename(\"year\"=\"yr\") %>%\n",
    " head(10)"
   ]
  },
  {
   "cell_type": "markdown",
   "metadata": {},
   "source": [
    "Have reordered the data frame from  column 17 to 1\n",
    "displaying the reordered df\n"
   ]
  },
  {
   "cell_type": "code",
   "execution_count": 23,
   "metadata": {},
   "outputs": [
    {
     "data": {
      "text/html": [
       "<table>\n",
       "<caption>A tibble: 10 × 17</caption>\n",
       "<thead>\n",
       "\t<tr><th scope=col>cnt</th><th scope=col>registered</th><th scope=col>casual</th><th scope=col>windspeed</th><th scope=col>hum</th><th scope=col>atemp</th><th scope=col>temp</th><th scope=col>weathersit</th><th scope=col>workingday</th><th scope=col>weekday</th><th scope=col>holiday</th><th scope=col>hr</th><th scope=col>mnth</th><th scope=col>yr</th><th scope=col>season</th><th scope=col>dteday</th><th scope=col>instant</th></tr>\n",
       "\t<tr><th scope=col>&lt;dbl&gt;</th><th scope=col>&lt;dbl&gt;</th><th scope=col>&lt;dbl&gt;</th><th scope=col>&lt;dbl&gt;</th><th scope=col>&lt;dbl&gt;</th><th scope=col>&lt;dbl&gt;</th><th scope=col>&lt;dbl&gt;</th><th scope=col>&lt;dbl&gt;</th><th scope=col>&lt;dbl&gt;</th><th scope=col>&lt;dbl&gt;</th><th scope=col>&lt;dbl&gt;</th><th scope=col>&lt;dbl&gt;</th><th scope=col>&lt;dbl&gt;</th><th scope=col>&lt;dbl&gt;</th><th scope=col>&lt;dbl&gt;</th><th scope=col>&lt;date&gt;</th><th scope=col>&lt;dbl&gt;</th></tr>\n",
       "</thead>\n",
       "<tbody>\n",
       "\t<tr><td>16</td><td>13</td><td>3</td><td>0.0000</td><td>0.81</td><td>0.2879</td><td>0.24</td><td>1</td><td>0</td><td>6</td><td>0</td><td>0</td><td>1</td><td>0</td><td>1</td><td>2011-01-01</td><td> 1</td></tr>\n",
       "\t<tr><td>40</td><td>32</td><td>8</td><td>0.0000</td><td>0.80</td><td>0.2727</td><td>0.22</td><td>1</td><td>0</td><td>6</td><td>0</td><td>1</td><td>1</td><td>0</td><td>1</td><td>2011-01-01</td><td> 2</td></tr>\n",
       "\t<tr><td>32</td><td>27</td><td>5</td><td>0.0000</td><td>0.80</td><td>0.2727</td><td>0.22</td><td>1</td><td>0</td><td>6</td><td>0</td><td>2</td><td>1</td><td>0</td><td>1</td><td>2011-01-01</td><td> 3</td></tr>\n",
       "\t<tr><td>13</td><td>10</td><td>3</td><td>0.0000</td><td>0.75</td><td>0.2879</td><td>0.24</td><td>1</td><td>0</td><td>6</td><td>0</td><td>3</td><td>1</td><td>0</td><td>1</td><td>2011-01-01</td><td> 4</td></tr>\n",
       "\t<tr><td> 1</td><td> 1</td><td>0</td><td>0.0000</td><td>0.75</td><td>0.2879</td><td>0.24</td><td>1</td><td>0</td><td>6</td><td>0</td><td>4</td><td>1</td><td>0</td><td>1</td><td>2011-01-01</td><td> 5</td></tr>\n",
       "\t<tr><td> 1</td><td> 1</td><td>0</td><td>0.0896</td><td>0.75</td><td>0.2576</td><td>0.24</td><td>2</td><td>0</td><td>6</td><td>0</td><td>5</td><td>1</td><td>0</td><td>1</td><td>2011-01-01</td><td> 6</td></tr>\n",
       "\t<tr><td> 2</td><td> 0</td><td>2</td><td>0.0000</td><td>0.80</td><td>0.2727</td><td>0.22</td><td>1</td><td>0</td><td>6</td><td>0</td><td>6</td><td>1</td><td>0</td><td>1</td><td>2011-01-01</td><td> 7</td></tr>\n",
       "\t<tr><td> 3</td><td> 2</td><td>1</td><td>0.0000</td><td>0.86</td><td>0.2576</td><td>0.20</td><td>1</td><td>0</td><td>6</td><td>0</td><td>7</td><td>1</td><td>0</td><td>1</td><td>2011-01-01</td><td> 8</td></tr>\n",
       "\t<tr><td> 8</td><td> 7</td><td>1</td><td>0.0000</td><td>0.75</td><td>0.2879</td><td>0.24</td><td>1</td><td>0</td><td>6</td><td>0</td><td>8</td><td>1</td><td>0</td><td>1</td><td>2011-01-01</td><td> 9</td></tr>\n",
       "\t<tr><td>14</td><td> 6</td><td>8</td><td>0.0000</td><td>0.76</td><td>0.3485</td><td>0.32</td><td>1</td><td>0</td><td>6</td><td>0</td><td>9</td><td>1</td><td>0</td><td>1</td><td>2011-01-01</td><td>10</td></tr>\n",
       "</tbody>\n",
       "</table>\n"
      ],
      "text/latex": [
       "A tibble: 10 × 17\n",
       "\\begin{tabular}{r|lllllllllllllllll}\n",
       " cnt & registered & casual & windspeed & hum & atemp & temp & weathersit & workingday & weekday & holiday & hr & mnth & yr & season & dteday & instant\\\\\n",
       " <dbl> & <dbl> & <dbl> & <dbl> & <dbl> & <dbl> & <dbl> & <dbl> & <dbl> & <dbl> & <dbl> & <dbl> & <dbl> & <dbl> & <dbl> & <date> & <dbl>\\\\\n",
       "\\hline\n",
       "\t 16 & 13 & 3 & 0.0000 & 0.81 & 0.2879 & 0.24 & 1 & 0 & 6 & 0 & 0 & 1 & 0 & 1 & 2011-01-01 &  1\\\\\n",
       "\t 40 & 32 & 8 & 0.0000 & 0.80 & 0.2727 & 0.22 & 1 & 0 & 6 & 0 & 1 & 1 & 0 & 1 & 2011-01-01 &  2\\\\\n",
       "\t 32 & 27 & 5 & 0.0000 & 0.80 & 0.2727 & 0.22 & 1 & 0 & 6 & 0 & 2 & 1 & 0 & 1 & 2011-01-01 &  3\\\\\n",
       "\t 13 & 10 & 3 & 0.0000 & 0.75 & 0.2879 & 0.24 & 1 & 0 & 6 & 0 & 3 & 1 & 0 & 1 & 2011-01-01 &  4\\\\\n",
       "\t  1 &  1 & 0 & 0.0000 & 0.75 & 0.2879 & 0.24 & 1 & 0 & 6 & 0 & 4 & 1 & 0 & 1 & 2011-01-01 &  5\\\\\n",
       "\t  1 &  1 & 0 & 0.0896 & 0.75 & 0.2576 & 0.24 & 2 & 0 & 6 & 0 & 5 & 1 & 0 & 1 & 2011-01-01 &  6\\\\\n",
       "\t  2 &  0 & 2 & 0.0000 & 0.80 & 0.2727 & 0.22 & 1 & 0 & 6 & 0 & 6 & 1 & 0 & 1 & 2011-01-01 &  7\\\\\n",
       "\t  3 &  2 & 1 & 0.0000 & 0.86 & 0.2576 & 0.20 & 1 & 0 & 6 & 0 & 7 & 1 & 0 & 1 & 2011-01-01 &  8\\\\\n",
       "\t  8 &  7 & 1 & 0.0000 & 0.75 & 0.2879 & 0.24 & 1 & 0 & 6 & 0 & 8 & 1 & 0 & 1 & 2011-01-01 &  9\\\\\n",
       "\t 14 &  6 & 8 & 0.0000 & 0.76 & 0.3485 & 0.32 & 1 & 0 & 6 & 0 & 9 & 1 & 0 & 1 & 2011-01-01 & 10\\\\\n",
       "\\end{tabular}\n"
      ],
      "text/markdown": [
       "\n",
       "A tibble: 10 × 17\n",
       "\n",
       "| cnt &lt;dbl&gt; | registered &lt;dbl&gt; | casual &lt;dbl&gt; | windspeed &lt;dbl&gt; | hum &lt;dbl&gt; | atemp &lt;dbl&gt; | temp &lt;dbl&gt; | weathersit &lt;dbl&gt; | workingday &lt;dbl&gt; | weekday &lt;dbl&gt; | holiday &lt;dbl&gt; | hr &lt;dbl&gt; | mnth &lt;dbl&gt; | yr &lt;dbl&gt; | season &lt;dbl&gt; | dteday &lt;date&gt; | instant &lt;dbl&gt; |\n",
       "|---|---|---|---|---|---|---|---|---|---|---|---|---|---|---|---|---|\n",
       "| 16 | 13 | 3 | 0.0000 | 0.81 | 0.2879 | 0.24 | 1 | 0 | 6 | 0 | 0 | 1 | 0 | 1 | 2011-01-01 |  1 |\n",
       "| 40 | 32 | 8 | 0.0000 | 0.80 | 0.2727 | 0.22 | 1 | 0 | 6 | 0 | 1 | 1 | 0 | 1 | 2011-01-01 |  2 |\n",
       "| 32 | 27 | 5 | 0.0000 | 0.80 | 0.2727 | 0.22 | 1 | 0 | 6 | 0 | 2 | 1 | 0 | 1 | 2011-01-01 |  3 |\n",
       "| 13 | 10 | 3 | 0.0000 | 0.75 | 0.2879 | 0.24 | 1 | 0 | 6 | 0 | 3 | 1 | 0 | 1 | 2011-01-01 |  4 |\n",
       "|  1 |  1 | 0 | 0.0000 | 0.75 | 0.2879 | 0.24 | 1 | 0 | 6 | 0 | 4 | 1 | 0 | 1 | 2011-01-01 |  5 |\n",
       "|  1 |  1 | 0 | 0.0896 | 0.75 | 0.2576 | 0.24 | 2 | 0 | 6 | 0 | 5 | 1 | 0 | 1 | 2011-01-01 |  6 |\n",
       "|  2 |  0 | 2 | 0.0000 | 0.80 | 0.2727 | 0.22 | 1 | 0 | 6 | 0 | 6 | 1 | 0 | 1 | 2011-01-01 |  7 |\n",
       "|  3 |  2 | 1 | 0.0000 | 0.86 | 0.2576 | 0.20 | 1 | 0 | 6 | 0 | 7 | 1 | 0 | 1 | 2011-01-01 |  8 |\n",
       "|  8 |  7 | 1 | 0.0000 | 0.75 | 0.2879 | 0.24 | 1 | 0 | 6 | 0 | 8 | 1 | 0 | 1 | 2011-01-01 |  9 |\n",
       "| 14 |  6 | 8 | 0.0000 | 0.76 | 0.3485 | 0.32 | 1 | 0 | 6 | 0 | 9 | 1 | 0 | 1 | 2011-01-01 | 10 |\n",
       "\n"
      ],
      "text/plain": [
       "   cnt registered casual windspeed hum  atemp  temp weathersit workingday\n",
       "1  16  13         3      0.0000    0.81 0.2879 0.24 1          0         \n",
       "2  40  32         8      0.0000    0.80 0.2727 0.22 1          0         \n",
       "3  32  27         5      0.0000    0.80 0.2727 0.22 1          0         \n",
       "4  13  10         3      0.0000    0.75 0.2879 0.24 1          0         \n",
       "5   1   1         0      0.0000    0.75 0.2879 0.24 1          0         \n",
       "6   1   1         0      0.0896    0.75 0.2576 0.24 2          0         \n",
       "7   2   0         2      0.0000    0.80 0.2727 0.22 1          0         \n",
       "8   3   2         1      0.0000    0.86 0.2576 0.20 1          0         \n",
       "9   8   7         1      0.0000    0.75 0.2879 0.24 1          0         \n",
       "10 14   6         8      0.0000    0.76 0.3485 0.32 1          0         \n",
       "   weekday holiday hr mnth yr season dteday     instant\n",
       "1  6       0       0  1    0  1      2011-01-01  1     \n",
       "2  6       0       1  1    0  1      2011-01-01  2     \n",
       "3  6       0       2  1    0  1      2011-01-01  3     \n",
       "4  6       0       3  1    0  1      2011-01-01  4     \n",
       "5  6       0       4  1    0  1      2011-01-01  5     \n",
       "6  6       0       5  1    0  1      2011-01-01  6     \n",
       "7  6       0       6  1    0  1      2011-01-01  7     \n",
       "8  6       0       7  1    0  1      2011-01-01  8     \n",
       "9  6       0       8  1    0  1      2011-01-01  9     \n",
       "10 6       0       9  1    0  1      2011-01-01 10     "
      ]
     },
     "metadata": {},
     "output_type": "display_data"
    }
   ],
   "source": [
    "reorderedbike_df <-bike_df[ ,c(17,16,15,14,13,12,11,10,9,8,7,6,5,4,3,2,1)]\n",
    "reorderedbike_df %>%\n",
    "head(10)"
   ]
  },
  {
   "cell_type": "markdown",
   "metadata": {},
   "source": [
    "### Task (d): groups and not (10 marks)\n",
    "\n",
    "Working on `bike_df`, show that you can produce new variables (columns) and modify existing one; show also that you can operate on the dataframe as a whole and on groups. See *Readme.txt* to get an understanding of the variable scaling applied.\n",
    "\n",
    "_hint_ useful functions: `mutate()`, `group_by()`, `summarise()`, `tally()`, ..."
   ]
  },
  {
   "cell_type": "markdown",
   "metadata": {},
   "source": [
    "using group_by to group different weekday values\n",
    "summarise function reduces the data frame by \n",
    "compressing each grouped row into one row"
   ]
  },
  {
   "cell_type": "code",
   "execution_count": 24,
   "metadata": {},
   "outputs": [
    {
     "data": {
      "text/html": [
       "<table>\n",
       "<caption>A tibble: 7 × 2</caption>\n",
       "<thead>\n",
       "\t<tr><th scope=col>weekday</th><th scope=col>weekday_bikecount</th></tr>\n",
       "\t<tr><th scope=col>&lt;dbl&gt;</th><th scope=col>&lt;dbl&gt;</th></tr>\n",
       "</thead>\n",
       "<tbody>\n",
       "\t<tr><td>0</td><td>177.4688</td></tr>\n",
       "\t<tr><td>1</td><td>183.7447</td></tr>\n",
       "\t<tr><td>2</td><td>191.2389</td></tr>\n",
       "\t<tr><td>3</td><td>191.1305</td></tr>\n",
       "\t<tr><td>4</td><td>196.4367</td></tr>\n",
       "\t<tr><td>5</td><td>196.1359</td></tr>\n",
       "\t<tr><td>6</td><td>190.2098</td></tr>\n",
       "</tbody>\n",
       "</table>\n"
      ],
      "text/latex": [
       "A tibble: 7 × 2\n",
       "\\begin{tabular}{r|ll}\n",
       " weekday & weekday\\_bikecount\\\\\n",
       " <dbl> & <dbl>\\\\\n",
       "\\hline\n",
       "\t 0 & 177.4688\\\\\n",
       "\t 1 & 183.7447\\\\\n",
       "\t 2 & 191.2389\\\\\n",
       "\t 3 & 191.1305\\\\\n",
       "\t 4 & 196.4367\\\\\n",
       "\t 5 & 196.1359\\\\\n",
       "\t 6 & 190.2098\\\\\n",
       "\\end{tabular}\n"
      ],
      "text/markdown": [
       "\n",
       "A tibble: 7 × 2\n",
       "\n",
       "| weekday &lt;dbl&gt; | weekday_bikecount &lt;dbl&gt; |\n",
       "|---|---|\n",
       "| 0 | 177.4688 |\n",
       "| 1 | 183.7447 |\n",
       "| 2 | 191.2389 |\n",
       "| 3 | 191.1305 |\n",
       "| 4 | 196.4367 |\n",
       "| 5 | 196.1359 |\n",
       "| 6 | 190.2098 |\n",
       "\n"
      ],
      "text/plain": [
       "  weekday weekday_bikecount\n",
       "1 0       177.4688         \n",
       "2 1       183.7447         \n",
       "3 2       191.2389         \n",
       "4 3       191.1305         \n",
       "5 4       196.4367         \n",
       "6 5       196.1359         \n",
       "7 6       190.2098         "
      ]
     },
     "metadata": {},
     "output_type": "display_data"
    }
   ],
   "source": [
    "bike_df %>%\n",
    "group_by(weekday) %>%\n",
    "summarise(weekday_bikecount = mean(cnt))"
   ]
  },
  {
   "cell_type": "markdown",
   "metadata": {},
   "source": [
    "mutate function can be used to add new variables or modify the current variables\n",
    "here have added new variable called registerted user proportion called \n",
    "\"registered_prop\""
   ]
  },
  {
   "cell_type": "code",
   "execution_count": 25,
   "metadata": {},
   "outputs": [
    {
     "data": {
      "text/html": [
       "<table>\n",
       "<caption>A tibble: 10 × 18</caption>\n",
       "<thead>\n",
       "\t<tr><th scope=col>instant</th><th scope=col>dteday</th><th scope=col>season</th><th scope=col>yr</th><th scope=col>mnth</th><th scope=col>hr</th><th scope=col>holiday</th><th scope=col>weekday</th><th scope=col>workingday</th><th scope=col>weathersit</th><th scope=col>temp</th><th scope=col>atemp</th><th scope=col>hum</th><th scope=col>windspeed</th><th scope=col>casual</th><th scope=col>registered</th><th scope=col>cnt</th><th scope=col>registered_prop</th></tr>\n",
       "\t<tr><th scope=col>&lt;dbl&gt;</th><th scope=col>&lt;date&gt;</th><th scope=col>&lt;dbl&gt;</th><th scope=col>&lt;dbl&gt;</th><th scope=col>&lt;dbl&gt;</th><th scope=col>&lt;dbl&gt;</th><th scope=col>&lt;dbl&gt;</th><th scope=col>&lt;dbl&gt;</th><th scope=col>&lt;dbl&gt;</th><th scope=col>&lt;dbl&gt;</th><th scope=col>&lt;dbl&gt;</th><th scope=col>&lt;dbl&gt;</th><th scope=col>&lt;dbl&gt;</th><th scope=col>&lt;dbl&gt;</th><th scope=col>&lt;dbl&gt;</th><th scope=col>&lt;dbl&gt;</th><th scope=col>&lt;dbl&gt;</th><th scope=col>&lt;dbl&gt;</th></tr>\n",
       "</thead>\n",
       "<tbody>\n",
       "\t<tr><td> 1</td><td>2011-01-01</td><td>1</td><td>0</td><td>1</td><td>0</td><td>0</td><td>6</td><td>0</td><td>1</td><td>0.24</td><td>0.2879</td><td>0.81</td><td>0.0000</td><td>3</td><td>13</td><td>16</td><td>0.8125000</td></tr>\n",
       "\t<tr><td> 2</td><td>2011-01-01</td><td>1</td><td>0</td><td>1</td><td>1</td><td>0</td><td>6</td><td>0</td><td>1</td><td>0.22</td><td>0.2727</td><td>0.80</td><td>0.0000</td><td>8</td><td>32</td><td>40</td><td>0.8000000</td></tr>\n",
       "\t<tr><td> 3</td><td>2011-01-01</td><td>1</td><td>0</td><td>1</td><td>2</td><td>0</td><td>6</td><td>0</td><td>1</td><td>0.22</td><td>0.2727</td><td>0.80</td><td>0.0000</td><td>5</td><td>27</td><td>32</td><td>0.8437500</td></tr>\n",
       "\t<tr><td> 4</td><td>2011-01-01</td><td>1</td><td>0</td><td>1</td><td>3</td><td>0</td><td>6</td><td>0</td><td>1</td><td>0.24</td><td>0.2879</td><td>0.75</td><td>0.0000</td><td>3</td><td>10</td><td>13</td><td>0.7692308</td></tr>\n",
       "\t<tr><td> 5</td><td>2011-01-01</td><td>1</td><td>0</td><td>1</td><td>4</td><td>0</td><td>6</td><td>0</td><td>1</td><td>0.24</td><td>0.2879</td><td>0.75</td><td>0.0000</td><td>0</td><td> 1</td><td> 1</td><td>1.0000000</td></tr>\n",
       "\t<tr><td> 6</td><td>2011-01-01</td><td>1</td><td>0</td><td>1</td><td>5</td><td>0</td><td>6</td><td>0</td><td>2</td><td>0.24</td><td>0.2576</td><td>0.75</td><td>0.0896</td><td>0</td><td> 1</td><td> 1</td><td>1.0000000</td></tr>\n",
       "\t<tr><td> 7</td><td>2011-01-01</td><td>1</td><td>0</td><td>1</td><td>6</td><td>0</td><td>6</td><td>0</td><td>1</td><td>0.22</td><td>0.2727</td><td>0.80</td><td>0.0000</td><td>2</td><td> 0</td><td> 2</td><td>0.0000000</td></tr>\n",
       "\t<tr><td> 8</td><td>2011-01-01</td><td>1</td><td>0</td><td>1</td><td>7</td><td>0</td><td>6</td><td>0</td><td>1</td><td>0.20</td><td>0.2576</td><td>0.86</td><td>0.0000</td><td>1</td><td> 2</td><td> 3</td><td>0.6666667</td></tr>\n",
       "\t<tr><td> 9</td><td>2011-01-01</td><td>1</td><td>0</td><td>1</td><td>8</td><td>0</td><td>6</td><td>0</td><td>1</td><td>0.24</td><td>0.2879</td><td>0.75</td><td>0.0000</td><td>1</td><td> 7</td><td> 8</td><td>0.8750000</td></tr>\n",
       "\t<tr><td>10</td><td>2011-01-01</td><td>1</td><td>0</td><td>1</td><td>9</td><td>0</td><td>6</td><td>0</td><td>1</td><td>0.32</td><td>0.3485</td><td>0.76</td><td>0.0000</td><td>8</td><td> 6</td><td>14</td><td>0.4285714</td></tr>\n",
       "</tbody>\n",
       "</table>\n"
      ],
      "text/latex": [
       "A tibble: 10 × 18\n",
       "\\begin{tabular}{r|llllllllllllllllll}\n",
       " instant & dteday & season & yr & mnth & hr & holiday & weekday & workingday & weathersit & temp & atemp & hum & windspeed & casual & registered & cnt & registered\\_prop\\\\\n",
       " <dbl> & <date> & <dbl> & <dbl> & <dbl> & <dbl> & <dbl> & <dbl> & <dbl> & <dbl> & <dbl> & <dbl> & <dbl> & <dbl> & <dbl> & <dbl> & <dbl> & <dbl>\\\\\n",
       "\\hline\n",
       "\t  1 & 2011-01-01 & 1 & 0 & 1 & 0 & 0 & 6 & 0 & 1 & 0.24 & 0.2879 & 0.81 & 0.0000 & 3 & 13 & 16 & 0.8125000\\\\\n",
       "\t  2 & 2011-01-01 & 1 & 0 & 1 & 1 & 0 & 6 & 0 & 1 & 0.22 & 0.2727 & 0.80 & 0.0000 & 8 & 32 & 40 & 0.8000000\\\\\n",
       "\t  3 & 2011-01-01 & 1 & 0 & 1 & 2 & 0 & 6 & 0 & 1 & 0.22 & 0.2727 & 0.80 & 0.0000 & 5 & 27 & 32 & 0.8437500\\\\\n",
       "\t  4 & 2011-01-01 & 1 & 0 & 1 & 3 & 0 & 6 & 0 & 1 & 0.24 & 0.2879 & 0.75 & 0.0000 & 3 & 10 & 13 & 0.7692308\\\\\n",
       "\t  5 & 2011-01-01 & 1 & 0 & 1 & 4 & 0 & 6 & 0 & 1 & 0.24 & 0.2879 & 0.75 & 0.0000 & 0 &  1 &  1 & 1.0000000\\\\\n",
       "\t  6 & 2011-01-01 & 1 & 0 & 1 & 5 & 0 & 6 & 0 & 2 & 0.24 & 0.2576 & 0.75 & 0.0896 & 0 &  1 &  1 & 1.0000000\\\\\n",
       "\t  7 & 2011-01-01 & 1 & 0 & 1 & 6 & 0 & 6 & 0 & 1 & 0.22 & 0.2727 & 0.80 & 0.0000 & 2 &  0 &  2 & 0.0000000\\\\\n",
       "\t  8 & 2011-01-01 & 1 & 0 & 1 & 7 & 0 & 6 & 0 & 1 & 0.20 & 0.2576 & 0.86 & 0.0000 & 1 &  2 &  3 & 0.6666667\\\\\n",
       "\t  9 & 2011-01-01 & 1 & 0 & 1 & 8 & 0 & 6 & 0 & 1 & 0.24 & 0.2879 & 0.75 & 0.0000 & 1 &  7 &  8 & 0.8750000\\\\\n",
       "\t 10 & 2011-01-01 & 1 & 0 & 1 & 9 & 0 & 6 & 0 & 1 & 0.32 & 0.3485 & 0.76 & 0.0000 & 8 &  6 & 14 & 0.4285714\\\\\n",
       "\\end{tabular}\n"
      ],
      "text/markdown": [
       "\n",
       "A tibble: 10 × 18\n",
       "\n",
       "| instant &lt;dbl&gt; | dteday &lt;date&gt; | season &lt;dbl&gt; | yr &lt;dbl&gt; | mnth &lt;dbl&gt; | hr &lt;dbl&gt; | holiday &lt;dbl&gt; | weekday &lt;dbl&gt; | workingday &lt;dbl&gt; | weathersit &lt;dbl&gt; | temp &lt;dbl&gt; | atemp &lt;dbl&gt; | hum &lt;dbl&gt; | windspeed &lt;dbl&gt; | casual &lt;dbl&gt; | registered &lt;dbl&gt; | cnt &lt;dbl&gt; | registered_prop &lt;dbl&gt; |\n",
       "|---|---|---|---|---|---|---|---|---|---|---|---|---|---|---|---|---|---|\n",
       "|  1 | 2011-01-01 | 1 | 0 | 1 | 0 | 0 | 6 | 0 | 1 | 0.24 | 0.2879 | 0.81 | 0.0000 | 3 | 13 | 16 | 0.8125000 |\n",
       "|  2 | 2011-01-01 | 1 | 0 | 1 | 1 | 0 | 6 | 0 | 1 | 0.22 | 0.2727 | 0.80 | 0.0000 | 8 | 32 | 40 | 0.8000000 |\n",
       "|  3 | 2011-01-01 | 1 | 0 | 1 | 2 | 0 | 6 | 0 | 1 | 0.22 | 0.2727 | 0.80 | 0.0000 | 5 | 27 | 32 | 0.8437500 |\n",
       "|  4 | 2011-01-01 | 1 | 0 | 1 | 3 | 0 | 6 | 0 | 1 | 0.24 | 0.2879 | 0.75 | 0.0000 | 3 | 10 | 13 | 0.7692308 |\n",
       "|  5 | 2011-01-01 | 1 | 0 | 1 | 4 | 0 | 6 | 0 | 1 | 0.24 | 0.2879 | 0.75 | 0.0000 | 0 |  1 |  1 | 1.0000000 |\n",
       "|  6 | 2011-01-01 | 1 | 0 | 1 | 5 | 0 | 6 | 0 | 2 | 0.24 | 0.2576 | 0.75 | 0.0896 | 0 |  1 |  1 | 1.0000000 |\n",
       "|  7 | 2011-01-01 | 1 | 0 | 1 | 6 | 0 | 6 | 0 | 1 | 0.22 | 0.2727 | 0.80 | 0.0000 | 2 |  0 |  2 | 0.0000000 |\n",
       "|  8 | 2011-01-01 | 1 | 0 | 1 | 7 | 0 | 6 | 0 | 1 | 0.20 | 0.2576 | 0.86 | 0.0000 | 1 |  2 |  3 | 0.6666667 |\n",
       "|  9 | 2011-01-01 | 1 | 0 | 1 | 8 | 0 | 6 | 0 | 1 | 0.24 | 0.2879 | 0.75 | 0.0000 | 1 |  7 |  8 | 0.8750000 |\n",
       "| 10 | 2011-01-01 | 1 | 0 | 1 | 9 | 0 | 6 | 0 | 1 | 0.32 | 0.3485 | 0.76 | 0.0000 | 8 |  6 | 14 | 0.4285714 |\n",
       "\n"
      ],
      "text/plain": [
       "   instant dteday     season yr mnth hr holiday weekday workingday weathersit\n",
       "1   1      2011-01-01 1      0  1    0  0       6       0          1         \n",
       "2   2      2011-01-01 1      0  1    1  0       6       0          1         \n",
       "3   3      2011-01-01 1      0  1    2  0       6       0          1         \n",
       "4   4      2011-01-01 1      0  1    3  0       6       0          1         \n",
       "5   5      2011-01-01 1      0  1    4  0       6       0          1         \n",
       "6   6      2011-01-01 1      0  1    5  0       6       0          2         \n",
       "7   7      2011-01-01 1      0  1    6  0       6       0          1         \n",
       "8   8      2011-01-01 1      0  1    7  0       6       0          1         \n",
       "9   9      2011-01-01 1      0  1    8  0       6       0          1         \n",
       "10 10      2011-01-01 1      0  1    9  0       6       0          1         \n",
       "   temp atemp  hum  windspeed casual registered cnt registered_prop\n",
       "1  0.24 0.2879 0.81 0.0000    3      13         16  0.8125000      \n",
       "2  0.22 0.2727 0.80 0.0000    8      32         40  0.8000000      \n",
       "3  0.22 0.2727 0.80 0.0000    5      27         32  0.8437500      \n",
       "4  0.24 0.2879 0.75 0.0000    3      10         13  0.7692308      \n",
       "5  0.24 0.2879 0.75 0.0000    0       1          1  1.0000000      \n",
       "6  0.24 0.2576 0.75 0.0896    0       1          1  1.0000000      \n",
       "7  0.22 0.2727 0.80 0.0000    2       0          2  0.0000000      \n",
       "8  0.20 0.2576 0.86 0.0000    1       2          3  0.6666667      \n",
       "9  0.24 0.2879 0.75 0.0000    1       7          8  0.8750000      \n",
       "10 0.32 0.3485 0.76 0.0000    8       6         14  0.4285714      "
      ]
     },
     "metadata": {},
     "output_type": "display_data"
    }
   ],
   "source": [
    "bike_df %>%\n",
    "mutate(registered_prop = registered/cnt) %>%\n",
    "head(10)"
   ]
  },
  {
   "cell_type": "markdown",
   "metadata": {},
   "source": [
    "here have grouped the data by working day and count of total rental bikes  \n",
    "tally function tells observation in each of the group we have grouped by .\n",
    "output shows good insights about bike rentals on working and non working days."
   ]
  },
  {
   "cell_type": "code",
   "execution_count": 26,
   "metadata": {},
   "outputs": [
    {
     "data": {
      "text/html": [
       "<table>\n",
       "<caption>A grouped_df: 1532 × 3</caption>\n",
       "<thead>\n",
       "\t<tr><th scope=col>workingday</th><th scope=col>cnt</th><th scope=col>n</th></tr>\n",
       "\t<tr><th scope=col>&lt;dbl&gt;</th><th scope=col>&lt;dbl&gt;</th><th scope=col>&lt;int&gt;</th></tr>\n",
       "</thead>\n",
       "<tbody>\n",
       "\t<tr><td>0</td><td> 1</td><td>35</td></tr>\n",
       "\t<tr><td>0</td><td> 2</td><td>45</td></tr>\n",
       "\t<tr><td>0</td><td> 3</td><td>48</td></tr>\n",
       "\t<tr><td>0</td><td> 4</td><td>46</td></tr>\n",
       "\t<tr><td>0</td><td> 5</td><td>54</td></tr>\n",
       "\t<tr><td>0</td><td> 6</td><td>58</td></tr>\n",
       "\t<tr><td>0</td><td> 7</td><td>53</td></tr>\n",
       "\t<tr><td>0</td><td> 8</td><td>54</td></tr>\n",
       "\t<tr><td>0</td><td> 9</td><td>37</td></tr>\n",
       "\t<tr><td>0</td><td>10</td><td>50</td></tr>\n",
       "\t<tr><td>0</td><td>11</td><td>49</td></tr>\n",
       "\t<tr><td>0</td><td>12</td><td>45</td></tr>\n",
       "\t<tr><td>0</td><td>13</td><td>44</td></tr>\n",
       "\t<tr><td>0</td><td>14</td><td>32</td></tr>\n",
       "\t<tr><td>0</td><td>15</td><td>30</td></tr>\n",
       "\t<tr><td>0</td><td>16</td><td>40</td></tr>\n",
       "\t<tr><td>0</td><td>17</td><td>36</td></tr>\n",
       "\t<tr><td>0</td><td>18</td><td>36</td></tr>\n",
       "\t<tr><td>0</td><td>19</td><td>33</td></tr>\n",
       "\t<tr><td>0</td><td>20</td><td>37</td></tr>\n",
       "\t<tr><td>0</td><td>21</td><td>31</td></tr>\n",
       "\t<tr><td>0</td><td>22</td><td>27</td></tr>\n",
       "\t<tr><td>0</td><td>23</td><td>33</td></tr>\n",
       "\t<tr><td>0</td><td>24</td><td>23</td></tr>\n",
       "\t<tr><td>0</td><td>25</td><td>27</td></tr>\n",
       "\t<tr><td>0</td><td>26</td><td>27</td></tr>\n",
       "\t<tr><td>0</td><td>27</td><td>26</td></tr>\n",
       "\t<tr><td>0</td><td>28</td><td>42</td></tr>\n",
       "\t<tr><td>0</td><td>29</td><td>20</td></tr>\n",
       "\t<tr><td>0</td><td>30</td><td>28</td></tr>\n",
       "\t<tr><td>⋮</td><td>⋮</td><td>⋮</td></tr>\n",
       "\t<tr><td>1</td><td>886</td><td>2</td></tr>\n",
       "\t<tr><td>1</td><td>887</td><td>1</td></tr>\n",
       "\t<tr><td>1</td><td>888</td><td>1</td></tr>\n",
       "\t<tr><td>1</td><td>890</td><td>1</td></tr>\n",
       "\t<tr><td>1</td><td>891</td><td>2</td></tr>\n",
       "\t<tr><td>1</td><td>892</td><td>1</td></tr>\n",
       "\t<tr><td>1</td><td>893</td><td>1</td></tr>\n",
       "\t<tr><td>1</td><td>894</td><td>1</td></tr>\n",
       "\t<tr><td>1</td><td>897</td><td>1</td></tr>\n",
       "\t<tr><td>1</td><td>898</td><td>1</td></tr>\n",
       "\t<tr><td>1</td><td>899</td><td>1</td></tr>\n",
       "\t<tr><td>1</td><td>900</td><td>3</td></tr>\n",
       "\t<tr><td>1</td><td>901</td><td>1</td></tr>\n",
       "\t<tr><td>1</td><td>905</td><td>1</td></tr>\n",
       "\t<tr><td>1</td><td>913</td><td>1</td></tr>\n",
       "\t<tr><td>1</td><td>917</td><td>1</td></tr>\n",
       "\t<tr><td>1</td><td>922</td><td>1</td></tr>\n",
       "\t<tr><td>1</td><td>925</td><td>1</td></tr>\n",
       "\t<tr><td>1</td><td>938</td><td>1</td></tr>\n",
       "\t<tr><td>1</td><td>941</td><td>1</td></tr>\n",
       "\t<tr><td>1</td><td>943</td><td>1</td></tr>\n",
       "\t<tr><td>1</td><td>948</td><td>1</td></tr>\n",
       "\t<tr><td>1</td><td>953</td><td>1</td></tr>\n",
       "\t<tr><td>1</td><td>957</td><td>1</td></tr>\n",
       "\t<tr><td>1</td><td>963</td><td>1</td></tr>\n",
       "\t<tr><td>1</td><td>967</td><td>1</td></tr>\n",
       "\t<tr><td>1</td><td>968</td><td>1</td></tr>\n",
       "\t<tr><td>1</td><td>970</td><td>1</td></tr>\n",
       "\t<tr><td>1</td><td>976</td><td>1</td></tr>\n",
       "\t<tr><td>1</td><td>977</td><td>1</td></tr>\n",
       "</tbody>\n",
       "</table>\n"
      ],
      "text/latex": [
       "A grouped_df: 1532 × 3\n",
       "\\begin{tabular}{r|lll}\n",
       " workingday & cnt & n\\\\\n",
       " <dbl> & <dbl> & <int>\\\\\n",
       "\\hline\n",
       "\t 0 &  1 & 35\\\\\n",
       "\t 0 &  2 & 45\\\\\n",
       "\t 0 &  3 & 48\\\\\n",
       "\t 0 &  4 & 46\\\\\n",
       "\t 0 &  5 & 54\\\\\n",
       "\t 0 &  6 & 58\\\\\n",
       "\t 0 &  7 & 53\\\\\n",
       "\t 0 &  8 & 54\\\\\n",
       "\t 0 &  9 & 37\\\\\n",
       "\t 0 & 10 & 50\\\\\n",
       "\t 0 & 11 & 49\\\\\n",
       "\t 0 & 12 & 45\\\\\n",
       "\t 0 & 13 & 44\\\\\n",
       "\t 0 & 14 & 32\\\\\n",
       "\t 0 & 15 & 30\\\\\n",
       "\t 0 & 16 & 40\\\\\n",
       "\t 0 & 17 & 36\\\\\n",
       "\t 0 & 18 & 36\\\\\n",
       "\t 0 & 19 & 33\\\\\n",
       "\t 0 & 20 & 37\\\\\n",
       "\t 0 & 21 & 31\\\\\n",
       "\t 0 & 22 & 27\\\\\n",
       "\t 0 & 23 & 33\\\\\n",
       "\t 0 & 24 & 23\\\\\n",
       "\t 0 & 25 & 27\\\\\n",
       "\t 0 & 26 & 27\\\\\n",
       "\t 0 & 27 & 26\\\\\n",
       "\t 0 & 28 & 42\\\\\n",
       "\t 0 & 29 & 20\\\\\n",
       "\t 0 & 30 & 28\\\\\n",
       "\t ⋮ & ⋮ & ⋮\\\\\n",
       "\t 1 & 886 & 2\\\\\n",
       "\t 1 & 887 & 1\\\\\n",
       "\t 1 & 888 & 1\\\\\n",
       "\t 1 & 890 & 1\\\\\n",
       "\t 1 & 891 & 2\\\\\n",
       "\t 1 & 892 & 1\\\\\n",
       "\t 1 & 893 & 1\\\\\n",
       "\t 1 & 894 & 1\\\\\n",
       "\t 1 & 897 & 1\\\\\n",
       "\t 1 & 898 & 1\\\\\n",
       "\t 1 & 899 & 1\\\\\n",
       "\t 1 & 900 & 3\\\\\n",
       "\t 1 & 901 & 1\\\\\n",
       "\t 1 & 905 & 1\\\\\n",
       "\t 1 & 913 & 1\\\\\n",
       "\t 1 & 917 & 1\\\\\n",
       "\t 1 & 922 & 1\\\\\n",
       "\t 1 & 925 & 1\\\\\n",
       "\t 1 & 938 & 1\\\\\n",
       "\t 1 & 941 & 1\\\\\n",
       "\t 1 & 943 & 1\\\\\n",
       "\t 1 & 948 & 1\\\\\n",
       "\t 1 & 953 & 1\\\\\n",
       "\t 1 & 957 & 1\\\\\n",
       "\t 1 & 963 & 1\\\\\n",
       "\t 1 & 967 & 1\\\\\n",
       "\t 1 & 968 & 1\\\\\n",
       "\t 1 & 970 & 1\\\\\n",
       "\t 1 & 976 & 1\\\\\n",
       "\t 1 & 977 & 1\\\\\n",
       "\\end{tabular}\n"
      ],
      "text/markdown": [
       "\n",
       "A grouped_df: 1532 × 3\n",
       "\n",
       "| workingday &lt;dbl&gt; | cnt &lt;dbl&gt; | n &lt;int&gt; |\n",
       "|---|---|---|\n",
       "| 0 |  1 | 35 |\n",
       "| 0 |  2 | 45 |\n",
       "| 0 |  3 | 48 |\n",
       "| 0 |  4 | 46 |\n",
       "| 0 |  5 | 54 |\n",
       "| 0 |  6 | 58 |\n",
       "| 0 |  7 | 53 |\n",
       "| 0 |  8 | 54 |\n",
       "| 0 |  9 | 37 |\n",
       "| 0 | 10 | 50 |\n",
       "| 0 | 11 | 49 |\n",
       "| 0 | 12 | 45 |\n",
       "| 0 | 13 | 44 |\n",
       "| 0 | 14 | 32 |\n",
       "| 0 | 15 | 30 |\n",
       "| 0 | 16 | 40 |\n",
       "| 0 | 17 | 36 |\n",
       "| 0 | 18 | 36 |\n",
       "| 0 | 19 | 33 |\n",
       "| 0 | 20 | 37 |\n",
       "| 0 | 21 | 31 |\n",
       "| 0 | 22 | 27 |\n",
       "| 0 | 23 | 33 |\n",
       "| 0 | 24 | 23 |\n",
       "| 0 | 25 | 27 |\n",
       "| 0 | 26 | 27 |\n",
       "| 0 | 27 | 26 |\n",
       "| 0 | 28 | 42 |\n",
       "| 0 | 29 | 20 |\n",
       "| 0 | 30 | 28 |\n",
       "| ⋮ | ⋮ | ⋮ |\n",
       "| 1 | 886 | 2 |\n",
       "| 1 | 887 | 1 |\n",
       "| 1 | 888 | 1 |\n",
       "| 1 | 890 | 1 |\n",
       "| 1 | 891 | 2 |\n",
       "| 1 | 892 | 1 |\n",
       "| 1 | 893 | 1 |\n",
       "| 1 | 894 | 1 |\n",
       "| 1 | 897 | 1 |\n",
       "| 1 | 898 | 1 |\n",
       "| 1 | 899 | 1 |\n",
       "| 1 | 900 | 3 |\n",
       "| 1 | 901 | 1 |\n",
       "| 1 | 905 | 1 |\n",
       "| 1 | 913 | 1 |\n",
       "| 1 | 917 | 1 |\n",
       "| 1 | 922 | 1 |\n",
       "| 1 | 925 | 1 |\n",
       "| 1 | 938 | 1 |\n",
       "| 1 | 941 | 1 |\n",
       "| 1 | 943 | 1 |\n",
       "| 1 | 948 | 1 |\n",
       "| 1 | 953 | 1 |\n",
       "| 1 | 957 | 1 |\n",
       "| 1 | 963 | 1 |\n",
       "| 1 | 967 | 1 |\n",
       "| 1 | 968 | 1 |\n",
       "| 1 | 970 | 1 |\n",
       "| 1 | 976 | 1 |\n",
       "| 1 | 977 | 1 |\n",
       "\n"
      ],
      "text/plain": [
       "     workingday cnt n \n",
       "1    0           1  35\n",
       "2    0           2  45\n",
       "3    0           3  48\n",
       "4    0           4  46\n",
       "5    0           5  54\n",
       "6    0           6  58\n",
       "7    0           7  53\n",
       "8    0           8  54\n",
       "9    0           9  37\n",
       "10   0          10  50\n",
       "11   0          11  49\n",
       "12   0          12  45\n",
       "13   0          13  44\n",
       "14   0          14  32\n",
       "15   0          15  30\n",
       "16   0          16  40\n",
       "17   0          17  36\n",
       "18   0          18  36\n",
       "19   0          19  33\n",
       "20   0          20  37\n",
       "21   0          21  31\n",
       "22   0          22  27\n",
       "23   0          23  33\n",
       "24   0          24  23\n",
       "25   0          25  27\n",
       "26   0          26  27\n",
       "27   0          27  26\n",
       "28   0          28  42\n",
       "29   0          29  20\n",
       "30   0          30  28\n",
       "⋮    ⋮          ⋮   ⋮ \n",
       "1503 1          886 2 \n",
       "1504 1          887 1 \n",
       "1505 1          888 1 \n",
       "1506 1          890 1 \n",
       "1507 1          891 2 \n",
       "1508 1          892 1 \n",
       "1509 1          893 1 \n",
       "1510 1          894 1 \n",
       "1511 1          897 1 \n",
       "1512 1          898 1 \n",
       "1513 1          899 1 \n",
       "1514 1          900 3 \n",
       "1515 1          901 1 \n",
       "1516 1          905 1 \n",
       "1517 1          913 1 \n",
       "1518 1          917 1 \n",
       "1519 1          922 1 \n",
       "1520 1          925 1 \n",
       "1521 1          938 1 \n",
       "1522 1          941 1 \n",
       "1523 1          943 1 \n",
       "1524 1          948 1 \n",
       "1525 1          953 1 \n",
       "1526 1          957 1 \n",
       "1527 1          963 1 \n",
       "1528 1          967 1 \n",
       "1529 1          968 1 \n",
       "1530 1          970 1 \n",
       "1531 1          976 1 \n",
       "1532 1          977 1 "
      ]
     },
     "metadata": {},
     "output_type": "display_data"
    }
   ],
   "source": [
    "bike_df %>%\n",
    "group_by(workingday,cnt) %>%\n",
    "tally()"
   ]
  },
  {
   "cell_type": "markdown",
   "metadata": {},
   "source": [
    "### Task (e): wide, long, tidy (10 marks)\n",
    "\n",
    "Show that you can go back and forth between the long and the wide format of a dataframe. Then produce a tidy version of `bike_df` (or, if you think the original one is is already in the tidy data shape, explain why).\n",
    "\n",
    "_hint_ useful functions: `spread()`, `gather()`, `na.omit()`, ..."
   ]
  },
  {
   "cell_type": "markdown",
   "metadata": {},
   "source": [
    "changing from long to wide data set using the spread() function key is hr and value is cnt.\n",
    "na.omit() removes any empty cell value in the dataset giving us a tidy data\n",
    "oringial data is tidy data because there are no no missing values in our data when used the visdat function we didn't get any black area in graph which indicates missing data.\n",
    "displaying the output from the wide data frame ."
   ]
  },
  {
   "cell_type": "code",
   "execution_count": 27,
   "metadata": {},
   "outputs": [
    {
     "data": {
      "text/html": [
       "<table>\n",
       "<caption>A tibble: 10 × 25</caption>\n",
       "<thead>\n",
       "\t<tr><th scope=col>dteday</th><th scope=col>0</th><th scope=col>1</th><th scope=col>2</th><th scope=col>3</th><th scope=col>4</th><th scope=col>5</th><th scope=col>6</th><th scope=col>7</th><th scope=col>8</th><th scope=col>⋯</th><th scope=col>14</th><th scope=col>15</th><th scope=col>16</th><th scope=col>17</th><th scope=col>18</th><th scope=col>19</th><th scope=col>20</th><th scope=col>21</th><th scope=col>22</th><th scope=col>23</th></tr>\n",
       "\t<tr><th scope=col>&lt;date&gt;</th><th scope=col>&lt;dbl&gt;</th><th scope=col>&lt;dbl&gt;</th><th scope=col>&lt;dbl&gt;</th><th scope=col>&lt;dbl&gt;</th><th scope=col>&lt;dbl&gt;</th><th scope=col>&lt;dbl&gt;</th><th scope=col>&lt;dbl&gt;</th><th scope=col>&lt;dbl&gt;</th><th scope=col>&lt;dbl&gt;</th><th scope=col>⋯</th><th scope=col>&lt;dbl&gt;</th><th scope=col>&lt;dbl&gt;</th><th scope=col>&lt;dbl&gt;</th><th scope=col>&lt;dbl&gt;</th><th scope=col>&lt;dbl&gt;</th><th scope=col>&lt;dbl&gt;</th><th scope=col>&lt;dbl&gt;</th><th scope=col>&lt;dbl&gt;</th><th scope=col>&lt;dbl&gt;</th><th scope=col>&lt;dbl&gt;</th></tr>\n",
       "</thead>\n",
       "<tbody>\n",
       "\t<tr><td>2011-01-01</td><td>16</td><td>40</td><td>32</td><td>13</td><td>1</td><td>1</td><td> 2</td><td>  3</td><td>  8</td><td>⋯</td><td>106</td><td>110</td><td> 93</td><td> 67</td><td> 35</td><td> 37</td><td> 36</td><td>34</td><td>28</td><td>39</td></tr>\n",
       "\t<tr><td>2011-01-08</td><td>25</td><td>16</td><td>16</td><td> 7</td><td>1</td><td>5</td><td> 2</td><td>  9</td><td> 15</td><td>⋯</td><td> 95</td><td> 74</td><td> 76</td><td> 69</td><td> 55</td><td> 30</td><td> 28</td><td>37</td><td>34</td><td>22</td></tr>\n",
       "\t<tr><td>2011-01-09</td><td>25</td><td>12</td><td>11</td><td> 4</td><td>1</td><td>1</td><td> 1</td><td>  6</td><td> 10</td><td>⋯</td><td> 72</td><td> 82</td><td> 92</td><td> 62</td><td> 48</td><td> 41</td><td> 38</td><td>20</td><td>15</td><td> 6</td></tr>\n",
       "\t<tr><td>2011-01-10</td><td> 5</td><td> 1</td><td> 3</td><td> 1</td><td>3</td><td>3</td><td>31</td><td> 77</td><td>188</td><td>⋯</td><td> 47</td><td> 45</td><td> 74</td><td>178</td><td>155</td><td> 95</td><td> 74</td><td>38</td><td>24</td><td>18</td></tr>\n",
       "\t<tr><td>2011-01-13</td><td> 7</td><td> 2</td><td> 2</td><td> 3</td><td>4</td><td>3</td><td>28</td><td> 72</td><td>202</td><td>⋯</td><td> 42</td><td> 60</td><td> 78</td><td>162</td><td>144</td><td> 99</td><td> 64</td><td>40</td><td>30</td><td>15</td></tr>\n",
       "\t<tr><td>2011-01-15</td><td>28</td><td>20</td><td>12</td><td> 8</td><td>5</td><td>1</td><td> 3</td><td> 10</td><td> 23</td><td>⋯</td><td>118</td><td>129</td><td>128</td><td> 83</td><td> 84</td><td> 74</td><td> 41</td><td>57</td><td>26</td><td>44</td></tr>\n",
       "\t<tr><td>2011-01-16</td><td>39</td><td>23</td><td>16</td><td>15</td><td>1</td><td>2</td><td> 1</td><td>  3</td><td> 18</td><td>⋯</td><td> 91</td><td>113</td><td> 99</td><td>105</td><td> 67</td><td> 61</td><td> 57</td><td>28</td><td>21</td><td>18</td></tr>\n",
       "\t<tr><td>2011-01-17</td><td>17</td><td>16</td><td> 8</td><td> 2</td><td>3</td><td>1</td><td> 5</td><td> 13</td><td> 33</td><td>⋯</td><td> 86</td><td> 93</td><td> 82</td><td> 71</td><td> 92</td><td> 60</td><td> 33</td><td>27</td><td>13</td><td> 4</td></tr>\n",
       "\t<tr><td>2011-01-20</td><td>13</td><td> 5</td><td> 2</td><td> 1</td><td>1</td><td>6</td><td>35</td><td>101</td><td>249</td><td>⋯</td><td> 81</td><td> 70</td><td> 91</td><td>215</td><td>185</td><td>152</td><td>126</td><td>57</td><td>56</td><td>31</td></tr>\n",
       "\t<tr><td>2011-01-21</td><td>21</td><td> 6</td><td> 2</td><td> 1</td><td>1</td><td>5</td><td>27</td><td> 68</td><td>217</td><td>⋯</td><td> 62</td><td> 65</td><td> 97</td><td>161</td><td>120</td><td> 96</td><td> 53</td><td>41</td><td>34</td><td>27</td></tr>\n",
       "</tbody>\n",
       "</table>\n"
      ],
      "text/latex": [
       "A tibble: 10 × 25\n",
       "\\begin{tabular}{r|lllllllllllllllllllllllll}\n",
       " dteday & 0 & 1 & 2 & 3 & 4 & 5 & 6 & 7 & 8 & 9 & 10 & 11 & 12 & 13 & 14 & 15 & 16 & 17 & 18 & 19 & 20 & 21 & 22 & 23\\\\\n",
       " <date> & <dbl> & <dbl> & <dbl> & <dbl> & <dbl> & <dbl> & <dbl> & <dbl> & <dbl> & <dbl> & <dbl> & <dbl> & <dbl> & <dbl> & <dbl> & <dbl> & <dbl> & <dbl> & <dbl> & <dbl> & <dbl> & <dbl> & <dbl> & <dbl>\\\\\n",
       "\\hline\n",
       "\t 2011-01-01 & 16 & 40 & 32 & 13 & 1 & 1 &  2 &   3 &   8 &  14 & 36 & 56 &  84 &  94 & 106 & 110 &  93 &  67 &  35 &  37 &  36 & 34 & 28 & 39\\\\\n",
       "\t 2011-01-08 & 25 & 16 & 16 &  7 & 1 & 5 &  2 &   9 &  15 &  20 & 61 & 62 &  98 & 102 &  95 &  74 &  76 &  69 &  55 &  30 &  28 & 37 & 34 & 22\\\\\n",
       "\t 2011-01-09 & 25 & 12 & 11 &  4 & 1 & 1 &  1 &   6 &  10 &  19 & 49 & 49 &  83 &  75 &  72 &  82 &  92 &  62 &  48 &  41 &  38 & 20 & 15 &  6\\\\\n",
       "\t 2011-01-10 &  5 &  1 &  3 &  1 & 3 & 3 & 31 &  77 & 188 &  94 & 31 & 30 &  52 &  54 &  47 &  45 &  74 & 178 & 155 &  95 &  74 & 38 & 24 & 18\\\\\n",
       "\t 2011-01-13 &  7 &  2 &  2 &  3 & 4 & 3 & 28 &  72 & 202 & 139 & 38 & 37 &  52 &  83 &  42 &  60 &  78 & 162 & 144 &  99 &  64 & 40 & 30 & 15\\\\\n",
       "\t 2011-01-15 & 28 & 20 & 12 &  8 & 5 & 1 &  3 &  10 &  23 &  33 & 59 & 72 &  89 & 101 & 118 & 129 & 128 &  83 &  84 &  74 &  41 & 57 & 26 & 44\\\\\n",
       "\t 2011-01-16 & 39 & 23 & 16 & 15 & 1 & 2 &  1 &   3 &  18 &  32 & 79 & 93 & 104 & 118 &  91 & 113 &  99 & 105 &  67 &  61 &  57 & 28 & 21 & 18\\\\\n",
       "\t 2011-01-17 & 17 & 16 &  8 &  2 & 3 & 1 &  5 &  13 &  33 &  47 & 57 & 64 &  80 &  93 &  86 &  93 &  82 &  71 &  92 &  60 &  33 & 27 & 13 &  4\\\\\n",
       "\t 2011-01-20 & 13 &  5 &  2 &  1 & 1 & 6 & 35 & 101 & 249 & 143 & 57 & 68 &  84 &  98 &  81 &  70 &  91 & 215 & 185 & 152 & 126 & 57 & 56 & 31\\\\\n",
       "\t 2011-01-21 & 21 &  6 &  2 &  1 & 1 & 5 & 27 &  68 & 217 & 166 & 63 & 59 &  78 &  73 &  62 &  65 &  97 & 161 & 120 &  96 &  53 & 41 & 34 & 27\\\\\n",
       "\\end{tabular}\n"
      ],
      "text/markdown": [
       "\n",
       "A tibble: 10 × 25\n",
       "\n",
       "| dteday &lt;date&gt; | 0 &lt;dbl&gt; | 1 &lt;dbl&gt; | 2 &lt;dbl&gt; | 3 &lt;dbl&gt; | 4 &lt;dbl&gt; | 5 &lt;dbl&gt; | 6 &lt;dbl&gt; | 7 &lt;dbl&gt; | 8 &lt;dbl&gt; | ⋯ ⋯ | 14 &lt;dbl&gt; | 15 &lt;dbl&gt; | 16 &lt;dbl&gt; | 17 &lt;dbl&gt; | 18 &lt;dbl&gt; | 19 &lt;dbl&gt; | 20 &lt;dbl&gt; | 21 &lt;dbl&gt; | 22 &lt;dbl&gt; | 23 &lt;dbl&gt; |\n",
       "|---|---|---|---|---|---|---|---|---|---|---|---|---|---|---|---|---|---|---|---|---|\n",
       "| 2011-01-01 | 16 | 40 | 32 | 13 | 1 | 1 |  2 |   3 |   8 | ⋯ | 106 | 110 |  93 |  67 |  35 |  37 |  36 | 34 | 28 | 39 |\n",
       "| 2011-01-08 | 25 | 16 | 16 |  7 | 1 | 5 |  2 |   9 |  15 | ⋯ |  95 |  74 |  76 |  69 |  55 |  30 |  28 | 37 | 34 | 22 |\n",
       "| 2011-01-09 | 25 | 12 | 11 |  4 | 1 | 1 |  1 |   6 |  10 | ⋯ |  72 |  82 |  92 |  62 |  48 |  41 |  38 | 20 | 15 |  6 |\n",
       "| 2011-01-10 |  5 |  1 |  3 |  1 | 3 | 3 | 31 |  77 | 188 | ⋯ |  47 |  45 |  74 | 178 | 155 |  95 |  74 | 38 | 24 | 18 |\n",
       "| 2011-01-13 |  7 |  2 |  2 |  3 | 4 | 3 | 28 |  72 | 202 | ⋯ |  42 |  60 |  78 | 162 | 144 |  99 |  64 | 40 | 30 | 15 |\n",
       "| 2011-01-15 | 28 | 20 | 12 |  8 | 5 | 1 |  3 |  10 |  23 | ⋯ | 118 | 129 | 128 |  83 |  84 |  74 |  41 | 57 | 26 | 44 |\n",
       "| 2011-01-16 | 39 | 23 | 16 | 15 | 1 | 2 |  1 |   3 |  18 | ⋯ |  91 | 113 |  99 | 105 |  67 |  61 |  57 | 28 | 21 | 18 |\n",
       "| 2011-01-17 | 17 | 16 |  8 |  2 | 3 | 1 |  5 |  13 |  33 | ⋯ |  86 |  93 |  82 |  71 |  92 |  60 |  33 | 27 | 13 |  4 |\n",
       "| 2011-01-20 | 13 |  5 |  2 |  1 | 1 | 6 | 35 | 101 | 249 | ⋯ |  81 |  70 |  91 | 215 | 185 | 152 | 126 | 57 | 56 | 31 |\n",
       "| 2011-01-21 | 21 |  6 |  2 |  1 | 1 | 5 | 27 |  68 | 217 | ⋯ |  62 |  65 |  97 | 161 | 120 |  96 |  53 | 41 | 34 | 27 |\n",
       "\n"
      ],
      "text/plain": [
       "   dteday     0  1  2  3  4 5 6  7   8   ⋯ 14  15  16  17  18  19  20  21 22 23\n",
       "1  2011-01-01 16 40 32 13 1 1  2   3   8 ⋯ 106 110  93  67  35  37  36 34 28 39\n",
       "2  2011-01-08 25 16 16  7 1 5  2   9  15 ⋯  95  74  76  69  55  30  28 37 34 22\n",
       "3  2011-01-09 25 12 11  4 1 1  1   6  10 ⋯  72  82  92  62  48  41  38 20 15  6\n",
       "4  2011-01-10  5  1  3  1 3 3 31  77 188 ⋯  47  45  74 178 155  95  74 38 24 18\n",
       "5  2011-01-13  7  2  2  3 4 3 28  72 202 ⋯  42  60  78 162 144  99  64 40 30 15\n",
       "6  2011-01-15 28 20 12  8 5 1  3  10  23 ⋯ 118 129 128  83  84  74  41 57 26 44\n",
       "7  2011-01-16 39 23 16 15 1 2  1   3  18 ⋯  91 113  99 105  67  61  57 28 21 18\n",
       "8  2011-01-17 17 16  8  2 3 1  5  13  33 ⋯  86  93  82  71  92  60  33 27 13  4\n",
       "9  2011-01-20 13  5  2  1 1 6 35 101 249 ⋯  81  70  91 215 185 152 126 57 56 31\n",
       "10 2011-01-21 21  6  2  1 1 5 27  68 217 ⋯  62  65  97 161 120  96  53 41 34 27"
      ]
     },
     "metadata": {},
     "output_type": "display_data"
    }
   ],
   "source": [
    "wide_bikedf <- bike_df %>%\n",
    "select(dteday,hr,cnt) %>%\n",
    "spread(key = hr, value = cnt) %>%\n",
    "na.omit()\n",
    "\n",
    "wide_bikedf %>%\n",
    "head(10)"
   ]
  },
  {
   "cell_type": "markdown",
   "metadata": {},
   "source": [
    "converting the wide data frame to long data frame \n",
    "using the gather function using the key as hr and value cnt\n",
    "the output from  the long data frame below"
   ]
  },
  {
   "cell_type": "code",
   "execution_count": 28,
   "metadata": {},
   "outputs": [
    {
     "data": {
      "text/html": [
       "<table>\n",
       "<caption>A tibble: 10 × 3</caption>\n",
       "<thead>\n",
       "\t<tr><th scope=col>dteday</th><th scope=col>hr</th><th scope=col>cnt</th></tr>\n",
       "\t<tr><th scope=col>&lt;date&gt;</th><th scope=col>&lt;chr&gt;</th><th scope=col>&lt;dbl&gt;</th></tr>\n",
       "</thead>\n",
       "<tbody>\n",
       "\t<tr><td>2011-01-01</td><td>0</td><td>16</td></tr>\n",
       "\t<tr><td>2011-01-08</td><td>0</td><td>25</td></tr>\n",
       "\t<tr><td>2011-01-09</td><td>0</td><td>25</td></tr>\n",
       "\t<tr><td>2011-01-10</td><td>0</td><td> 5</td></tr>\n",
       "\t<tr><td>2011-01-13</td><td>0</td><td> 7</td></tr>\n",
       "\t<tr><td>2011-01-15</td><td>0</td><td>28</td></tr>\n",
       "\t<tr><td>2011-01-16</td><td>0</td><td>39</td></tr>\n",
       "\t<tr><td>2011-01-17</td><td>0</td><td>17</td></tr>\n",
       "\t<tr><td>2011-01-20</td><td>0</td><td>13</td></tr>\n",
       "\t<tr><td>2011-01-21</td><td>0</td><td>21</td></tr>\n",
       "</tbody>\n",
       "</table>\n"
      ],
      "text/latex": [
       "A tibble: 10 × 3\n",
       "\\begin{tabular}{r|lll}\n",
       " dteday & hr & cnt\\\\\n",
       " <date> & <chr> & <dbl>\\\\\n",
       "\\hline\n",
       "\t 2011-01-01 & 0 & 16\\\\\n",
       "\t 2011-01-08 & 0 & 25\\\\\n",
       "\t 2011-01-09 & 0 & 25\\\\\n",
       "\t 2011-01-10 & 0 &  5\\\\\n",
       "\t 2011-01-13 & 0 &  7\\\\\n",
       "\t 2011-01-15 & 0 & 28\\\\\n",
       "\t 2011-01-16 & 0 & 39\\\\\n",
       "\t 2011-01-17 & 0 & 17\\\\\n",
       "\t 2011-01-20 & 0 & 13\\\\\n",
       "\t 2011-01-21 & 0 & 21\\\\\n",
       "\\end{tabular}\n"
      ],
      "text/markdown": [
       "\n",
       "A tibble: 10 × 3\n",
       "\n",
       "| dteday &lt;date&gt; | hr &lt;chr&gt; | cnt &lt;dbl&gt; |\n",
       "|---|---|---|\n",
       "| 2011-01-01 | 0 | 16 |\n",
       "| 2011-01-08 | 0 | 25 |\n",
       "| 2011-01-09 | 0 | 25 |\n",
       "| 2011-01-10 | 0 |  5 |\n",
       "| 2011-01-13 | 0 |  7 |\n",
       "| 2011-01-15 | 0 | 28 |\n",
       "| 2011-01-16 | 0 | 39 |\n",
       "| 2011-01-17 | 0 | 17 |\n",
       "| 2011-01-20 | 0 | 13 |\n",
       "| 2011-01-21 | 0 | 21 |\n",
       "\n"
      ],
      "text/plain": [
       "   dteday     hr cnt\n",
       "1  2011-01-01 0  16 \n",
       "2  2011-01-08 0  25 \n",
       "3  2011-01-09 0  25 \n",
       "4  2011-01-10 0   5 \n",
       "5  2011-01-13 0   7 \n",
       "6  2011-01-15 0  28 \n",
       "7  2011-01-16 0  39 \n",
       "8  2011-01-17 0  17 \n",
       "9  2011-01-20 0  13 \n",
       "10 2011-01-21 0  21 "
      ]
     },
     "metadata": {},
     "output_type": "display_data"
    }
   ],
   "source": [
    "\n",
    "long_bikedf = wide_bikedf %>%\n",
    "gather(key =hr , value = cnt,-dteday)\n",
    "\n",
    "long_bikedf %>%\n",
    "head(10)"
   ]
  },
  {
   "cell_type": "markdown",
   "metadata": {},
   "source": [
    "### Task (f): plot (10 marks)\n",
    "\n",
    "Produce a beautiful graphical representation of the data in `bike_df` or of _some_ of the data in `bike_df`. You can try different geometries, themes, mappings, ... . Make sure you label the plots with titles, and axis labels. Notice that the focus is on the use of *plotting as a data model*, rather than on the *statistical modelling* of the data.\n",
    "\\[ Hint: if you can't find any plotting idea, try focusing on the count of total rental bikes, and how it varies through time, season, weather, temperature, humidty, wind-speed. \\]\n",
    "\n",
    "_hint_ useful functions: `ggplot()`, `ylab()`, `xlab()`, `geom_...()`, `aes()`, `facet_...()`, ..."
   ]
  },
  {
   "cell_type": "markdown",
   "metadata": {},
   "source": [
    "installing package hexbin so can use geom_hex for some of the \n",
    "plots\n"
   ]
  },
  {
   "cell_type": "code",
   "execution_count": 29,
   "metadata": {},
   "outputs": [
    {
     "name": "stderr",
     "output_type": "stream",
     "text": [
      "Installing package into ‘/home/ykh23/R/x86_64-pc-linux-gnu-library/3.6’\n",
      "(as ‘lib’ is unspecified)\n"
     ]
    }
   ],
   "source": [
    "install.packages(\"hexbin\")"
   ]
  },
  {
   "cell_type": "markdown",
   "metadata": {},
   "source": [
    "Plot showing count of total rental bikes vs windspeed \n",
    "have used geom_hex as there are lot of points and geom_hex gives a heat map, ligther blue shade means more count\n",
    "from the plot it is visual that from windpseed 0.00 to 0.50 the count of total rental bikes is\n",
    "higher and also we get more lighterblue in that range , as the windspeed increases \n",
    "specially more than 0.50 the count of rental bikes is declining \n",
    "Also saving the plot using ggsave which is one of the tasks\n",
    "of part g"
   ]
  },
  {
   "cell_type": "code",
   "execution_count": 30,
   "metadata": {},
   "outputs": [
    {
     "name": "stderr",
     "output_type": "stream",
     "text": [
      "Saving 6.67 x 6.67 in image\n"
     ]
    },
    {
     "data": {
      "image/png": "[encoded data removed]",
      "text/plain": [
       "plot without title"
      ]
     },
     "metadata": {
      "image/png": {
       "height": 420,
       "width": 420
      },
      "text/plain": {
       "height": 420,
       "width": 420
      }
     },
     "output_type": "display_data"
    }
   ],
   "source": [
    "\n",
    "bike_df %>% \n",
    "ggplot(aes(x =windspeed, y = cnt))   +\n",
    "xlab(\"Normalized windspeed\") + ylab(\"Count of total rental bikes\") + ggtitle(\"Plot showing relationship between Windspeed and \n",
    "count of Rental bikes\") + geom_hex() \n",
    "ggsave(filename=\"windspeed vs count of rental.png\")"
   ]
  },
  {
   "cell_type": "markdown",
   "metadata": {},
   "source": [
    "box plot showing the count of rental bikes according to different seasons \n",
    "used function geom_boxplot with outliers in red.\n",
    "saving the plot using ggsave(), answering one of the tasks of part g ."
   ]
  },
  {
   "cell_type": "code",
   "execution_count": 31,
   "metadata": {},
   "outputs": [
    {
     "name": "stderr",
     "output_type": "stream",
     "text": [
      "Saving 6.67 x 6.67 in image\n"
     ]
    },
    {
     "data": {
      "image/png": "[encoded data removed]",
      "text/plain": [
       "plot without title"
      ]
     },
     "metadata": {
      "image/png": {
       "height": 420,
       "width": 420
      },
      "text/plain": {
       "height": 420,
       "width": 420
      }
     },
     "output_type": "display_data"
    }
   ],
   "source": [
    "bike_df %>% \n",
    "ggplot( aes(x =season, y = cnt, group = season)) + geom_boxplot(outlier.colour = \"red\") + \n",
    "xlab(\"Season\") + ylab(\"Count of total rental bikes\") + ggtitle(\"Scatter plot showing count of bike rentals in each season\") + \n",
    "scale_x_continuous(breaks = c(1:4),labels = c(\"spring\",\"summer\",\"fall\",\"winter\"))\n",
    " ggsave(filename=\"count of rental bikes per season.png\")"
   ]
  },
  {
   "cell_type": "markdown",
   "metadata": {},
   "source": [
    "Have used geom_line to show a time series graph of bike rentals  for 2011 and 2012\n",
    "used dteday (x) as the time and cnt(y) as the count of bike rentals\n",
    "saving the plot, answering one of the tasks of part g using ggsave"
   ]
  },
  {
   "cell_type": "code",
   "execution_count": 32,
   "metadata": {},
   "outputs": [
    {
     "name": "stderr",
     "output_type": "stream",
     "text": [
      "Saving 6.67 x 6.67 in image\n"
     ]
    },
    {
     "data": {
      "image/png": "[encoded data removed]",
      "text/plain": [
       "plot without title"
      ]
     },
     "metadata": {
      "image/png": {
       "height": 420,
       "width": 420
      },
      "text/plain": {
       "height": 420,
       "width": 420
      }
     },
     "output_type": "display_data"
    }
   ],
   "source": [
    "bike_df %>%\n",
    "ggplot(aes(x = dteday, y = cnt)) + geom_line(color = \"green\") + xlab(\"Time\") + ylab(\"Count of total bike rentals\") + ggtitle(\"Time Series graph showing count of bike rentals for 2011 and 2012\")\n",
    " \n",
    "ggsave(filename=\"time series of bike rentals 2011 and 2012.png\")"
   ]
  },
  {
   "cell_type": "markdown",
   "metadata": {},
   "source": [
    "### Task (g): save (5 marks)\n",
    "\n",
    "Save your plot from Task (f) and your tidy dataset from Task (g) to disk. \n",
    "\n",
    "_hint_ useful functions: `write_csv()`, `ggsave()`,..."
   ]
  },
  {
   "cell_type": "markdown",
   "metadata": {},
   "source": [
    "plots have been saved in task f using the function ggsave()using the function write_csv to save our bike_df as \"bikerentals.csv\""
   ]
  },
  {
   "cell_type": "code",
   "execution_count": 34,
   "metadata": {},
   "outputs": [],
   "source": [
    "\n",
    "bike_df  %>%\n",
    "write_csv(\"bikerentals.csv\")"
   ]
  },
  {
   "cell_type": "raw",
   "metadata": {},
   "source": [
    "### Challenge question (10 marks)\n",
    "\n",
    "You are the data scientist working for a bike rental company. The `hour.csv` is the data you have available. The bike rental CEO sometimes wakes up in the morning with these strange ideas, and you get to test them.\n",
    "\n",
    "One of the key element for the company is being sure that there are always enough bikes available for the users. So, we need to understand what makes a user rent a bike and what makes a user NOT rent a bike.\n",
    "Your CEO noticed thinks that one of the peak times for the registered users renting bikes is between 6am and 10am.\n",
    "\n",
    "Task (1): make a plot to check that (take seasonality into account in the plot).\n",
    "\n",
    "She also thought about an interesting hypothesis. A registered user usually finish working around 5pm. Between 5pm and 10pm, they notice the weather: in particular, the registered users are sensible to how good the weather is, and how stable it is. The morning after, between 6am and 10am, the amount of registered users renting a bike to go to work depends on the previous afternoon weather.\n",
    "Task (2): make one or more plot to test this hypothesis (again, consider seasonality in the plot).\n",
    " "
   ]
  },
  {
   "cell_type": "markdown",
   "metadata": {},
   "source": [
    "Task 1 , i have plotted x =hr vs y= registered bike users rental count. \n",
    "it is visible that from the bar graphs below what bike rental CEO claims is true as 6am to 10am is one of the peak times for\n",
    "registered users renting bikes also about 3pm to 8 pm is another peak time for registered users renting bikes\n",
    ".Used the face_wrap to separate out the 4 seasons and labeled them as well. There is slight variability between the seasons during 6-10am but bike rental is still quiet strong in that time frame but as mentioned above 3pm to 8pm is the highest peak time as visual from the data below."
   ]
  },
  {
   "cell_type": "code",
   "execution_count": 35,
   "metadata": {},
   "outputs": [
    {
     "data": {
      "image/png": "[encoded data removed]",
      "text/plain": [
       "plot without title"
      ]
     },
     "metadata": {
      "image/png": {
       "height": 420,
       "width": 420
      },
      "text/plain": {
       "height": 420,
       "width": 420
      }
     },
     "output_type": "display_data"
    }
   ],
   "source": [
    "bike_df %>%\n",
    "mutate(season = recode(season, \"1\"=\"Springer\",\n",
    "\"2\"=\"Summer\",\"3\"=\"Fall\",\"4\" =\"Winter\") ) %>%\n",
    "ggplot(aes(x = hr, y = registered)) + geom_bar(stat= \"identity\", position = \"dodge\") + \n",
    "xlab(\"Hour\") + ylab(\"Registered User bike rental Count\") + ggtitle(\"Hourly Bike rental count for registered users\") + facet_wrap(vars(season))"
   ]
  },
  {
   "cell_type": "markdown",
   "metadata": {},
   "source": [
    "Task 2 creating a getmode function which i will use to get the most frequent weather situation between 6 to 10 the previous day."
   ]
  },
  {
   "cell_type": "code",
   "execution_count": 83,
   "metadata": {},
   "outputs": [],
   "source": [
    "getmode <- function(v) {\n",
    "   uniqv <- unique(v)\n",
    "   uniqv[which.max(tabulate(match(v, uniqv)))]\n",
    "}\n"
   ]
  },
  {
   "cell_type": "markdown",
   "metadata": {},
   "source": [
    "loading the lubridate library to work on dates"
   ]
  },
  {
   "cell_type": "code",
   "execution_count": 84,
   "metadata": {},
   "outputs": [],
   "source": [
    "library(lubridate)"
   ]
  },
  {
   "cell_type": "markdown",
   "metadata": {},
   "source": [
    "Defined new data frame bike_df2 , filter hour weather from 17hrs to 21hrs which will cover weather from 17hrs to 21hrs and 59 mins. Also mutating a new variable \"daybefore\" which i will use to pass the date function to add +1 day as we want to test the weather the night before and the usage next day by registered users."
   ]
  },
  {
   "cell_type": "code",
   "execution_count": 85,
   "metadata": {},
   "outputs": [],
   "source": [
    "bike_df2 <- bike_df %>%\n",
    "filter(as.factor(hr) %in% c(17, 18, 19, 20, 21)) %>%\n",
    "mutate(daybefore = dteday) %>%\n",
    "group_by(daybefore) %>%\n",
    "summarise(daybeforeweather = getmode(weathersit)) \n",
    "\n",
    "bike_df2$daybefore = ymd(bike_df2$daybefore) + 1\n",
    "\n",
    "\n",
    "\n"
   ]
  },
  {
   "cell_type": "markdown",
   "metadata": {},
   "source": [
    "Full joining bike_df2 to bike_df by \"daybefore\" i created above. This will allow us \n",
    "to compare the registered users bikes usage vs the weather the night before which i have\n",
    "called \"daybeforeweather\". \n",
    "Our plot showing that bike usage does depend for registered user on the weather day before.\n",
    "As you can see it is higher for weather condition 1 (good condition) from the plot below. Winter and fall even higher usage depending on the weather day before."
   ]
  },
  {
   "cell_type": "code",
   "execution_count": 89,
   "metadata": {},
   "outputs": [
    {
     "data": {
      "image/png": "[encoded data removed]",
      "text/plain": [
       "plot without title"
      ]
     },
     "metadata": {
      "image/png": {
       "height": 420,
       "width": 420
      },
      "text/plain": {
       "height": 420,
       "width": 420
      }
     },
     "output_type": "display_data"
    }
   ],
   "source": [
    "bike_df2 %>%\n",
    "full_join(bike_df, by=c(\"daybefore\" = \"dteday\")) %>%\n",
    "filter(workingday == 1, as.factor(hr) %in% c(6, 7, 8, 9)) %>% \n",
    "mutate(season = recode(season, \"1\"=\"Springer\",\n",
    "\"2\"=\"Summer\",\"3\"=\"Fall\",\"4\" =\"Winter\") ) %>%\n",
    "ggplot(aes(x = as.factor(daybeforeweather), y = registered)) + geom_point() + xlab(\"Weather conditions night before\") + ylab(\"Registered user bike rental\") + ggtitle(\"Registered bike user dependent on weather night before\") + facet_wrap(vars(season))"
   ]
  },
  {
   "cell_type": "code",
   "execution_count": null,
   "metadata": {},
   "outputs": [],
   "source": []
  },
  {
   "cell_type": "raw",
   "metadata": {},
   "source": [
    "#REFRENCES\n",
    "#https://www.tidyverse.org/\n",
    "#https://github.com/rstudio/cheatsheets/blob/master/data-visualization-2.1.pdf\n",
    "#https://ggplot2.tidyverse.org/reference/scale_continuous.html\n",
    "#https://ggplot2.tidyverse.org/reference/ggsave.html\n",
    "#https://stackoverflow.com/questions/30219908/change-row-text-using-dplyr\n",
    "#https://lubridate.tidyverse.org/\n",
    "\n"
   ]
  },
  {
   "cell_type": "code",
   "execution_count": null,
   "metadata": {},
   "outputs": [],
   "source": []
  }
 ],
 "metadata": {
  "kernelspec": {
   "display_name": "R",
   "language": "R",
   "name": "ir"
  },
  "language_info": {
   "codemirror_mode": "r",
   "file_extension": ".r",
   "mimetype": "text/x-r-source",
   "name": "R",
   "pygments_lexer": "r",
   "version": "3.6.1"
  }
 },
 "nbformat": 4,
 "nbformat_minor": 4
}
